{
 "cells": [
  {
   "cell_type": "markdown",
   "metadata": {},
   "source": [
    "# CS 109A/STAT 121A/AC 209A/CSCI E-109A: Homework 5\n",
    "# Logistic Regression and PCA \n",
    "\n",
    "**Harvard University**<br/>\n",
    "**Fall 2017**<br/>\n",
    "**Instructors**: Pavlos Protopapas, Kevin Rader, Rahul Dave, Margo Levine\n",
    "\n",
    "---\n",
    "\n",
    "### INSTRUCTIONS\n",
    "\n",
    "- To submit your assignment follow the instructions given in canvas.\n",
    "- Restart the kernel and run the whole notebook again before you submit. \n",
    "- Do not include your name(s) in the notebook if you are submitting as a group. \n",
    "- If you submit individually and you have worked with someone, please include the name of your [one] partner below. \n",
    "\n",
    "---"
   ]
  },
  {
   "cell_type": "markdown",
   "metadata": {},
   "source": [
    "Your partner's name (if you submit separately):\n",
    "\n",
    "Enrollment Status (109A, 121A, 209A, or E109A):"
   ]
  },
  {
   "cell_type": "markdown",
   "metadata": {},
   "source": [
    "Import libraries:"
   ]
  },
  {
   "cell_type": "code",
   "execution_count": 1,
   "metadata": {},
   "outputs": [
    {
     "name": "stderr",
     "output_type": "stream",
     "text": [
      "/Users/gwungwun/anaconda/lib/python3.6/site-packages/statsmodels/compat/pandas.py:56: FutureWarning: The pandas.core.datetools module is deprecated and will be removed in a future version. Please use the pandas.tseries module instead.\n",
      "  from pandas.core import datetools\n"
     ]
    }
   ],
   "source": [
    "import numpy as np\n",
    "import pandas as pd\n",
    "import matplotlib\n",
    "import matplotlib.pyplot as plt\n",
    "import statsmodels.api as sm\n",
    "from statsmodels.api import OLS\n",
    "from sklearn.decomposition import PCA\n",
    "from sklearn.linear_model import LogisticRegression\n",
    "from sklearn.linear_model import LogisticRegressionCV\n",
    "from sklearn.utils import resample\n",
    "from sklearn.model_selection import cross_val_score\n",
    "from sklearn.metrics import accuracy_score\n",
    "%matplotlib inline"
   ]
  },
  {
   "cell_type": "markdown",
   "metadata": {},
   "source": [
    "## Cancer Classification from Gene Expressions\n",
    "\n",
    "In this homework assignment, we will build a classification model to distinguish between two related classes of cancer, acute lymphoblastic leukemia (ALL) and acute myeloid leukemia (AML), using gene expression measurements. The data set is provided in the file `dataset_hw5.csv`. Each row in this file corresponds to a tumor tissue sample from a patient with one of the two forms of Leukemia. The first column contains the cancer type, with 0 indicating the ALL class and 1 indicating the AML class. Columns 2-7130 contain expression levels of 7129 genes recorded from each tissue sample. \n",
    "\n",
    "In the following parts, we will use logistic regression to build a classification model for this data set. We will also use principal components analysis (PCA) to visualize the data and to reduce its dimensions. \n",
    "\n"
   ]
  },
  {
   "cell_type": "markdown",
   "metadata": {},
   "source": [
    "## Part (a): Data Exploration\n",
    "\n",
    "1. First step is to  split  the observations into an approximate 50-50 train-test split.  Below is some code to do this for you (we want to make sure everyone has the same splits).\n",
    "\n",
    "2. Take a peak at your training set: you should notice the severe differences in the measurements from one gene to the next (some are negative, some hover around zero, and some are well into the thousands).  To account for these differences in scale and variability, normalize each predictor to vary between 0 and 1.\n",
    "\n",
    "3. Notice that the results training set contains more predictors than observations. Do you foresee a problem in fitting a classification model to such a data set?\n",
    "\n",
    "4. A convenient tool to visualize the gene expression data is a heat map. Arrange the rows of the training set so that the 'AML' rows are grouped together and the 'ALL' rows are together. Generate a heat map of the data with expression values from the following genes: \n",
    "`D49818_at`, `M23161_at`, `hum_alu_at`, `AFFX-PheX-5_at`, `M15990_at`. By observing the heat map, comment on which of these genes are useful in discriminating between the two classes.\n",
    "\n",
    "5. We can also visualize this data set in two dimensions using PCA. Find the top two principal components for the gene expression data. Generate a scatter plot using these principal components, highlighting the AML and ALL points in different colors. How well do the top two principal components discriminate between the two classes?\n",
    "\n"
   ]
  },
  {
   "cell_type": "code",
   "execution_count": 2,
   "metadata": {},
   "outputs": [],
   "source": [
    "np.random.seed(9001)\n",
    "df = pd.read_csv('data/dataset_hw5.csv')\n",
    "msk = np.random.rand(len(df)) < 0.5\n",
    "data_train = df[msk]\n",
    "data_test = df[~msk]"
   ]
  },
  {
   "cell_type": "code",
   "execution_count": 3,
   "metadata": {},
   "outputs": [],
   "source": [
    "data_train = data_train.sort_values('Cancer_type')\n",
    "data_test = data_test.sort_values('Cancer_type')"
   ]
  },
  {
   "cell_type": "code",
   "execution_count": 100,
   "metadata": {},
   "outputs": [],
   "source": [
    "data_train = data_train.set_index(np.arange(32))"
   ]
  },
  {
   "cell_type": "code",
   "execution_count": 101,
   "metadata": {},
   "outputs": [
    {
     "data": {
      "text/html": [
       "<div>\n",
       "<style>\n",
       "    .dataframe thead tr:only-child th {\n",
       "        text-align: right;\n",
       "    }\n",
       "\n",
       "    .dataframe thead th {\n",
       "        text-align: left;\n",
       "    }\n",
       "\n",
       "    .dataframe tbody tr th {\n",
       "        vertical-align: top;\n",
       "    }\n",
       "</style>\n",
       "<table border=\"1\" class=\"dataframe\">\n",
       "  <thead>\n",
       "    <tr style=\"text-align: right;\">\n",
       "      <th></th>\n",
       "      <th>Cancer_type</th>\n",
       "      <th>AFFX-BioB-5_at</th>\n",
       "      <th>AFFX-BioB-M_at</th>\n",
       "      <th>AFFX-BioB-3_at</th>\n",
       "      <th>AFFX-BioC-5_at</th>\n",
       "      <th>AFFX-BioC-3_at</th>\n",
       "      <th>AFFX-BioDn-5_at</th>\n",
       "      <th>AFFX-BioDn-3_at</th>\n",
       "      <th>AFFX-CreX-5_at</th>\n",
       "      <th>AFFX-CreX-3_at</th>\n",
       "      <th>...</th>\n",
       "      <th>U48730_at</th>\n",
       "      <th>U58516_at</th>\n",
       "      <th>U73738_at</th>\n",
       "      <th>X06956_at</th>\n",
       "      <th>X16699_at</th>\n",
       "      <th>X83863_at</th>\n",
       "      <th>Z17240_at</th>\n",
       "      <th>L49218_f_at</th>\n",
       "      <th>M71243_f_at</th>\n",
       "      <th>Z78285_f_at</th>\n",
       "    </tr>\n",
       "  </thead>\n",
       "  <tbody>\n",
       "    <tr>\n",
       "      <th>0</th>\n",
       "      <td>0</td>\n",
       "      <td>-214</td>\n",
       "      <td>-153</td>\n",
       "      <td>-58</td>\n",
       "      <td>88</td>\n",
       "      <td>-295</td>\n",
       "      <td>-558</td>\n",
       "      <td>199</td>\n",
       "      <td>-176</td>\n",
       "      <td>252</td>\n",
       "      <td>...</td>\n",
       "      <td>185</td>\n",
       "      <td>511</td>\n",
       "      <td>-125</td>\n",
       "      <td>389</td>\n",
       "      <td>-37</td>\n",
       "      <td>793</td>\n",
       "      <td>329</td>\n",
       "      <td>36</td>\n",
       "      <td>191</td>\n",
       "      <td>-37</td>\n",
       "    </tr>\n",
       "    <tr>\n",
       "      <th>1</th>\n",
       "      <td>0</td>\n",
       "      <td>-12</td>\n",
       "      <td>-172</td>\n",
       "      <td>12</td>\n",
       "      <td>172</td>\n",
       "      <td>-137</td>\n",
       "      <td>-205</td>\n",
       "      <td>358</td>\n",
       "      <td>-104</td>\n",
       "      <td>-25</td>\n",
       "      <td>...</td>\n",
       "      <td>195</td>\n",
       "      <td>922</td>\n",
       "      <td>53</td>\n",
       "      <td>302</td>\n",
       "      <td>-78</td>\n",
       "      <td>673</td>\n",
       "      <td>208</td>\n",
       "      <td>-68</td>\n",
       "      <td>226</td>\n",
       "      <td>78</td>\n",
       "    </tr>\n",
       "    <tr>\n",
       "      <th>2</th>\n",
       "      <td>0</td>\n",
       "      <td>-95</td>\n",
       "      <td>-118</td>\n",
       "      <td>59</td>\n",
       "      <td>270</td>\n",
       "      <td>-229</td>\n",
       "      <td>-383</td>\n",
       "      <td>172</td>\n",
       "      <td>-187</td>\n",
       "      <td>185</td>\n",
       "      <td>...</td>\n",
       "      <td>206</td>\n",
       "      <td>700</td>\n",
       "      <td>-61</td>\n",
       "      <td>381</td>\n",
       "      <td>-105</td>\n",
       "      <td>1068</td>\n",
       "      <td>412</td>\n",
       "      <td>-43</td>\n",
       "      <td>702</td>\n",
       "      <td>18</td>\n",
       "    </tr>\n",
       "    <tr>\n",
       "      <th>3</th>\n",
       "      <td>0</td>\n",
       "      <td>-76</td>\n",
       "      <td>-98</td>\n",
       "      <td>-153</td>\n",
       "      <td>237</td>\n",
       "      <td>-215</td>\n",
       "      <td>-122</td>\n",
       "      <td>-68</td>\n",
       "      <td>-118</td>\n",
       "      <td>6</td>\n",
       "      <td>...</td>\n",
       "      <td>179</td>\n",
       "      <td>497</td>\n",
       "      <td>31</td>\n",
       "      <td>241</td>\n",
       "      <td>-20</td>\n",
       "      <td>441</td>\n",
       "      <td>99</td>\n",
       "      <td>-8</td>\n",
       "      <td>80</td>\n",
       "      <td>-12</td>\n",
       "    </tr>\n",
       "    <tr>\n",
       "      <th>4</th>\n",
       "      <td>0</td>\n",
       "      <td>-131</td>\n",
       "      <td>-126</td>\n",
       "      <td>-50</td>\n",
       "      <td>211</td>\n",
       "      <td>-206</td>\n",
       "      <td>-287</td>\n",
       "      <td>-34</td>\n",
       "      <td>-114</td>\n",
       "      <td>62</td>\n",
       "      <td>...</td>\n",
       "      <td>206</td>\n",
       "      <td>697</td>\n",
       "      <td>3</td>\n",
       "      <td>1046</td>\n",
       "      <td>27</td>\n",
       "      <td>874</td>\n",
       "      <td>393</td>\n",
       "      <td>34</td>\n",
       "      <td>237</td>\n",
       "      <td>-2</td>\n",
       "    </tr>\n",
       "  </tbody>\n",
       "</table>\n",
       "<p>5 rows × 7130 columns</p>\n",
       "</div>"
      ],
      "text/plain": [
       "   Cancer_type  AFFX-BioB-5_at  AFFX-BioB-M_at  AFFX-BioB-3_at  \\\n",
       "0            0            -214            -153             -58   \n",
       "1            0             -12            -172              12   \n",
       "2            0             -95            -118              59   \n",
       "3            0             -76             -98            -153   \n",
       "4            0            -131            -126             -50   \n",
       "\n",
       "   AFFX-BioC-5_at  AFFX-BioC-3_at  AFFX-BioDn-5_at  AFFX-BioDn-3_at  \\\n",
       "0              88            -295             -558              199   \n",
       "1             172            -137             -205              358   \n",
       "2             270            -229             -383              172   \n",
       "3             237            -215             -122              -68   \n",
       "4             211            -206             -287              -34   \n",
       "\n",
       "   AFFX-CreX-5_at  AFFX-CreX-3_at     ...       U48730_at  U58516_at  \\\n",
       "0            -176             252     ...             185        511   \n",
       "1            -104             -25     ...             195        922   \n",
       "2            -187             185     ...             206        700   \n",
       "3            -118               6     ...             179        497   \n",
       "4            -114              62     ...             206        697   \n",
       "\n",
       "   U73738_at  X06956_at  X16699_at  X83863_at  Z17240_at  L49218_f_at  \\\n",
       "0       -125        389        -37        793        329           36   \n",
       "1         53        302        -78        673        208          -68   \n",
       "2        -61        381       -105       1068        412          -43   \n",
       "3         31        241        -20        441         99           -8   \n",
       "4          3       1046         27        874        393           34   \n",
       "\n",
       "   M71243_f_at  Z78285_f_at  \n",
       "0          191          -37  \n",
       "1          226           78  \n",
       "2          702           18  \n",
       "3           80          -12  \n",
       "4          237           -2  \n",
       "\n",
       "[5 rows x 7130 columns]"
      ]
     },
     "execution_count": 101,
     "metadata": {},
     "output_type": "execute_result"
    }
   ],
   "source": [
    "data_train.head()"
   ]
  },
  {
   "cell_type": "code",
   "execution_count": 198,
   "metadata": {},
   "outputs": [],
   "source": [
    "columns = data_train.columns\n",
    "X_train = []\n",
    "X_test = []\n",
    "for column in columns[1:]:\n",
    "    maximum = data_train[column].max()\n",
    "    minimum = data_train[column].min()\n",
    "    X_train.append((data_train[column] - minimum) / (maximum - minimum))\n",
    "    X_test.append((data_test[column] - minimum) / (maximum - minimum))\n",
    "    \n",
    "y_train = data_train[columns[0]]\n",
    "y_test = data_test[columns[0]]"
   ]
  },
  {
   "cell_type": "code",
   "execution_count": 199,
   "metadata": {},
   "outputs": [
    {
     "data": {
      "text/plain": [
       "32"
      ]
     },
     "execution_count": 199,
     "metadata": {},
     "output_type": "execute_result"
    }
   ],
   "source": [
    "X_train = np.array(X_train).transpose()\n",
    "X_test = np.array(X_test).transpose()\n",
    "len(X_train)"
   ]
  },
  {
   "cell_type": "code",
   "execution_count": 200,
   "metadata": {},
   "outputs": [
    {
     "data": {
      "text/plain": [
       "7129"
      ]
     },
     "execution_count": 200,
     "metadata": {},
     "output_type": "execute_result"
    }
   ],
   "source": [
    "len(X_train[0])"
   ]
  },
  {
   "cell_type": "code",
   "execution_count": 201,
   "metadata": {},
   "outputs": [],
   "source": [
    "column_list = ['D49818_at', 'M23161_at', 'hum_alu_at', 'AFFX-PheX-5_at', 'M15990_at']\n",
    "heat_map = []\n",
    "for column in column_list:\n",
    "    mean = data_train[column].mean()\n",
    "    sd = data_train[column].std()\n",
    "    heat_map.append((data_train[column] - mean) / sd)"
   ]
  },
  {
   "cell_type": "code",
   "execution_count": 202,
   "metadata": {},
   "outputs": [],
   "source": [
    "heat_map = np.array(heat_map).transpose()"
   ]
  },
  {
   "cell_type": "code",
   "execution_count": 203,
   "metadata": {},
   "outputs": [
    {
     "data": {
      "text/plain": [
       "(32, 5)"
      ]
     },
     "execution_count": 203,
     "metadata": {},
     "output_type": "execute_result"
    }
   ],
   "source": [
    "heat_map.shape"
   ]
  },
  {
   "cell_type": "code",
   "execution_count": 204,
   "metadata": {},
   "outputs": [
    {
     "data": {
      "text/plain": [
       "<matplotlib.text.Text at 0x11510d0f0>"
      ]
     },
     "execution_count": 204,
     "metadata": {},
     "output_type": "execute_result"
    },
    {
     "data": {
      "image/png": "[encoded data removed]",
      "text/plain": [
       "<matplotlib.figure.Figure at 0x11518dba8>"
      ]
     },
     "metadata": {},
     "output_type": "display_data"
    }
   ],
   "source": [
    "fig = plt.figure()\n",
    "ax = fig.add_subplot(111, aspect='equal')\n",
    "cm = ax.pcolor(heat_map[:20], cmap='RdBu');\n",
    "plt.colorbar(cm)\n",
    "plt.title(\"ALL\")"
   ]
  },
  {
   "cell_type": "code",
   "execution_count": 205,
   "metadata": {},
   "outputs": [
    {
     "data": {
      "text/plain": [
       "<matplotlib.text.Text at 0x117c20d30>"
      ]
     },
     "execution_count": 205,
     "metadata": {},
     "output_type": "execute_result"
    },
    {
     "data": {
      "image/png": "[encoded data removed]",
      "text/plain": [
       "<matplotlib.figure.Figure at 0x117b76080>"
      ]
     },
     "metadata": {},
     "output_type": "display_data"
    }
   ],
   "source": [
    "fig = plt.figure()\n",
    "ax = fig.add_subplot(111, aspect='equal')\n",
    "cm = ax.pcolor(heat_map[20:], cmap='RdBu');\n",
    "plt.colorbar(cm)\n",
    "plt.title(\"AML\")"
   ]
  },
  {
   "cell_type": "markdown",
   "metadata": {},
   "source": [
    "ALL: 0  \n",
    "AML: 1 higher 'D49818_at', 'M23161_at', 'hum_alu_at', 'AFFX-PheX-5_at'"
   ]
  },
  {
   "cell_type": "code",
   "execution_count": 206,
   "metadata": {
    "collapsed": true
   },
   "outputs": [],
   "source": [
    "pca = PCA(n_components= 2)\n",
    "pca.fit(X_train)\n",
    "x_train_pca = pca.transform(X_train)"
   ]
  },
  {
   "cell_type": "code",
   "execution_count": 207,
   "metadata": {},
   "outputs": [
    {
     "data": {
      "text/plain": [
       "[<matplotlib.lines.Line2D at 0x11bd5b470>]"
      ]
     },
     "execution_count": 207,
     "metadata": {},
     "output_type": "execute_result"
    },
    {
     "data": {
      "image/png": "[encoded data removed]",
      "text/plain": [
       "<matplotlib.figure.Figure at 0x1151842e8>"
      ]
     },
     "metadata": {},
     "output_type": "display_data"
    }
   ],
   "source": [
    "plt.plot(x_train_pca[:,0],'o')"
   ]
  },
  {
   "cell_type": "code",
   "execution_count": 208,
   "metadata": {},
   "outputs": [
    {
     "data": {
      "text/plain": [
       "[<matplotlib.lines.Line2D at 0x11c4f7be0>]"
      ]
     },
     "execution_count": 208,
     "metadata": {},
     "output_type": "execute_result"
    },
    {
     "data": {
      "image/png": "[encoded data removed]",
      "text/plain": [
       "<matplotlib.figure.Figure at 0x11513aba8>"
      ]
     },
     "metadata": {},
     "output_type": "display_data"
    }
   ],
   "source": [
    "plt.plot(x_train_pca[:,1],'o')"
   ]
  },
  {
   "cell_type": "markdown",
   "metadata": {},
   "source": [
    "## Part (b): Linear Regression vs. Logistic Regression\n",
    "\n",
    "Begin by analyzing the differences between using linear regression and logistic regression for classification. For this part, you shall work with a single gene predictor: `D29963_at`.\n",
    "\n",
    "1. Fit a simple linear regression model to the training set using the single gene predictor `D29963_at`. We could interpret the scores predicted by regression model interpreted for a patient as an estimate of the probability that the patient has the `ALL` type cancer (class 1). Is there a problem with this interpretation?\n",
    "\n",
    "2. The fitted linear regression model can be converted to a classification model (i.e. a model that predicts one of two binary labels 0 or 1) by classifying patients with predicted score greater than 0.5 into the `ALL` type (class 1), and the others into the `AML` type (class 0). Evaluate the classification accuracy (1 - misclassification rate) of the obtained classification model on both the training and test sets.\n",
    "\n",
    "3. Next, fit a simple logistic regression model to the training set. How does the training and test calssification accuracy of this model compare with the linear regression model?  Remember, you need to set the regularization parameter for sklearn's logistic regression function to be a very large value in order not to regularize (use 'C=100000').\n",
    "\n",
    "4. Plot the quantitative output from linear regression model and the probabilistic output from the logistic regression model (on the training set points) as a function of the gene predictor. Also, display the true binary response for the training set points in the same plot.\n",
    "Based on these plots, does one of the models appear better suited for binary classification than the other? Explain.\n",
    "\n"
   ]
  },
  {
   "cell_type": "markdown",
   "metadata": {},
   "source": [
    "1. There is problem with interpretation using regression probability directly since the range of prediction is not [0, 1]."
   ]
  },
  {
   "cell_type": "code",
   "execution_count": 210,
   "metadata": {},
   "outputs": [],
   "source": [
    "X_single = data_train.D29963_at\n",
    "maximum = X_single.max()\n",
    "minimum = X_single.min()\n",
    "X_single = (X_single - minimum)/(maximum - minimum)\n",
    "X_single = sm.add_constant(X_single)"
   ]
  },
  {
   "cell_type": "code",
   "execution_count": 211,
   "metadata": {
    "collapsed": true
   },
   "outputs": [],
   "source": [
    "X_test_single = data_test.D29963_at\n",
    "X_test_single = (X_test_single - minimum)/(maximum - minimum)\n",
    "X_test_single = sm.add_constant(X_test_single)"
   ]
  },
  {
   "cell_type": "code",
   "execution_count": 212,
   "metadata": {},
   "outputs": [],
   "source": [
    "ols = sm.OLS(y_train, X_single).fit()\n",
    "y_predict = ols.predict(X_single) > 0.5\n",
    "y_test_predict = ols.predict(X_test_single) > 0.5"
   ]
  },
  {
   "cell_type": "code",
   "execution_count": 213,
   "metadata": {},
   "outputs": [
    {
     "name": "stdout",
     "output_type": "stream",
     "text": [
      "accuracy for training data: 0.71875\n",
      "accuracy for test data: 0.8292682926829268\n"
     ]
    }
   ],
   "source": [
    "accuracy = sum(y_predict == (y_train == 1)) / 32\n",
    "accuracy_test = sum(y_test_predict == (y_test == 1)) / 41\n",
    "print(\"accuracy for training data: {}\" .format(accuracy))\n",
    "print(\"accuracy for test data: {}\" .format(accuracy_test))"
   ]
  },
  {
   "cell_type": "code",
   "execution_count": 214,
   "metadata": {},
   "outputs": [
    {
     "data": {
      "text/plain": [
       "LogisticRegression(C=100000, class_weight=None, dual=False,\n",
       "          fit_intercept=True, intercept_scaling=1, max_iter=100,\n",
       "          multi_class='ovr', n_jobs=1, penalty='l2', random_state=None,\n",
       "          solver='liblinear', tol=0.0001, verbose=0, warm_start=False)"
      ]
     },
     "execution_count": 214,
     "metadata": {},
     "output_type": "execute_result"
    }
   ],
   "source": [
    "clf = LogisticRegression(C=100000)\n",
    "clf.fit(X_single.iloc[:,1].values.reshape(-1, 1), y_train)"
   ]
  },
  {
   "cell_type": "code",
   "execution_count": 215,
   "metadata": {},
   "outputs": [
    {
     "name": "stdout",
     "output_type": "stream",
     "text": [
      "accuracy for training data: 0.71875\n",
      "accuracy for test data: 0.8292682926829268\n"
     ]
    }
   ],
   "source": [
    "accuracy = sum(clf.predict(X_single.iloc[:,1].values.reshape(-1, 1)) == y_train) /32\n",
    "accuracy_test = sum(clf.predict(X_test_single.iloc[:,1].values.reshape(-1, 1)) == y_test) /41\n",
    "print(\"accuracy for training data: {}\" .format(accuracy))\n",
    "print(\"accuracy for test data: {}\" .format(accuracy_test))"
   ]
  },
  {
   "cell_type": "code",
   "execution_count": 216,
   "metadata": {},
   "outputs": [
    {
     "data": {
      "text/plain": [
       "<matplotlib.legend.Legend at 0x11d77d7f0>"
      ]
     },
     "execution_count": 216,
     "metadata": {},
     "output_type": "execute_result"
    },
    {
     "data": {
      "image/png": "[encoded data removed]",
      "text/plain": [
       "<matplotlib.figure.Figure at 0x11b46f048>"
      ]
     },
     "metadata": {},
     "output_type": "display_data"
    }
   ],
   "source": [
    "plt.plot(clf.predict_proba(X_single.iloc[:,1].values.reshape(-1, 1))[:,1], 'o', label = 'logistic', markersize = 10)\n",
    "plt.plot(ols.predict(X_single).values, 'o', label = 'linear regression', markersize = 10)\n",
    "plt.plot(y_train.values, 'o', label ='true y')\n",
    "plt.legend()"
   ]
  },
  {
   "cell_type": "markdown",
   "metadata": {},
   "source": [
    "They are the same, since logistics regression is maximizing the same log likelihood as linear regression."
   ]
  },
  {
   "cell_type": "markdown",
   "metadata": {},
   "source": [
    "## Part (c): Multiple Logistic Regression\n",
    "\n",
    "1. Next, fit a multiple logistic regression model with all the gene predictors from the data set.  How does the classification accuracy of this model compare with the models fitted in Part (b) with a single gene (on both the training and test sets)?  \n",
    "\n",
    "2. \"Use the `visualize_prob` from `HW5_functions.py` to visualize the probabilties predicted by the fitted multiple logistic regression model on both the training and test data sets. The function creates a visualization that places the data points on a vertical line based on the predicted probabilities, with the `ALL` and `AML` classes shown in different colors, and with the 0.5 threshold highlighted using a dotted horizontal line.  Is there a difference in the spread of probabilities in the training and test plots? Are there data points for which the predicted probability is close to 0.5? If so, what can you say about these points?\""
   ]
  },
  {
   "cell_type": "code",
   "execution_count": 22,
   "metadata": {
    "collapsed": true
   },
   "outputs": [],
   "source": [
    "# starter code\n",
    "from HW5_functions import visualize_prob"
   ]
  },
  {
   "cell_type": "code",
   "execution_count": 217,
   "metadata": {
    "collapsed": true
   },
   "outputs": [],
   "source": [
    "def visualize_prob(model, x, y, ax):\n",
    "    # Use the model to predict probabilities for\n",
    "    \n",
    "    y_pred = model.predict_proba(x)\n",
    "    \n",
    "    # Separate the predictions on the label 1 and label 0 points\n",
    "    ypos = y_pred[y==1]\n",
    "    yneg = y_pred[y==0]\n",
    "    \n",
    "    # Count the number of label 1 and label 0 points\n",
    "    npos = ypos.shape[0]\n",
    "    nneg = yneg.shape[0]\n",
    "    \n",
    "    # Plot the probabilities on a vertical line at x = 0, \n",
    "    # with the positive points in blue and negative points in red\n",
    "    pos_handle = ax.plot(np.zeros((npos,1)), ypos[:,1], 'bx', label = 'ALL')\n",
    "    neg_handle = ax.plot(np.zeros((nneg,1)), yneg[:,1], 'rx', label = 'AML')\n",
    "    \n",
    "#     pos_handle = ax.plot(np.zeros((npos,1)), ypos[:,1], 'bx', label ='ALL')\n",
    "#     neg_handle = ax.plot(np.zeros((nneg,1)), yneg[:,1], 'rx', label = 'AML')\n",
    "#     pos_handle = ax.plot(np.zeros((npos,1)), ypos[:,1], 'bo', label ='ALL')\n",
    "#     neg_handle = ax.plot(np.zeros((nneg,1)), yneg[:,1], 'ro', label = 'AML')\n",
    "    \n",
    "    # Line to mark prob 0.5\n",
    "    ax.axhline(y = 0.5, color = 'k', linestyle = '--')\n",
    "    \n",
    "    # Add y-label and legend, do not display x-axis, set y-axis limit\n",
    "    ax.set_ylabel('Probability of AML class')\n",
    "    ax.legend(loc = 'best')\n",
    "    ax.get_xaxis().set_visible(False)\n",
    "    ax.set_ylim([0,1])\n"
   ]
  },
  {
   "cell_type": "code",
   "execution_count": 218,
   "metadata": {},
   "outputs": [
    {
     "data": {
      "text/plain": [
       "LogisticRegression(C=100000, class_weight=None, dual=False,\n",
       "          fit_intercept=True, intercept_scaling=1, max_iter=100,\n",
       "          multi_class='ovr', n_jobs=1, penalty='l2', random_state=None,\n",
       "          solver='liblinear', tol=0.0001, verbose=0, warm_start=False)"
      ]
     },
     "execution_count": 218,
     "metadata": {},
     "output_type": "execute_result"
    }
   ],
   "source": [
    "clf_all = LogisticRegression(C=100000)\n",
    "clf_all.fit(X_train, y_train)"
   ]
  },
  {
   "cell_type": "code",
   "execution_count": 219,
   "metadata": {},
   "outputs": [
    {
     "name": "stdout",
     "output_type": "stream",
     "text": [
      "accuracy for training data: 1.0\n",
      "accuracy for test data: 0.975609756097561\n"
     ]
    }
   ],
   "source": [
    "y_predict = clf_all.predict(X_train)\n",
    "accuracy = sum(y_predict == y_train) /32\n",
    "y_test_predict = clf_all.predict(X_test)\n",
    "accuracy_test = sum(y_test_predict == y_test) /41\n",
    "print(\"accuracy for training data: {}\" .format(accuracy))\n",
    "print(\"accuracy for test data: {}\" .format(accuracy_test))"
   ]
  },
  {
   "cell_type": "code",
   "execution_count": 220,
   "metadata": {},
   "outputs": [
    {
     "data": {
      "image/png": "[encoded data removed]",
      "text/plain": [
       "<matplotlib.figure.Figure at 0x11d73fd68>"
      ]
     },
     "metadata": {},
     "output_type": "display_data"
    }
   ],
   "source": [
    "fig = plt.figure()\n",
    "ax = fig.add_subplot(111)\n",
    "visualize_prob(clf_all, X_train, y_train, ax)"
   ]
  },
  {
   "cell_type": "code",
   "execution_count": 221,
   "metadata": {},
   "outputs": [
    {
     "data": {
      "image/png": "[encoded data removed]",
      "text/plain": [
       "<matplotlib.figure.Figure at 0x11eadea20>"
      ]
     },
     "metadata": {},
     "output_type": "display_data"
    }
   ],
   "source": [
    "fig = plt.figure()\n",
    "ax1 = fig.add_subplot(111)\n",
    "visualize_prob(clf_all, X_test, y_test, ax1)"
   ]
  },
  {
   "cell_type": "markdown",
   "metadata": {},
   "source": [
    "1. Classification accuracy improved.\n",
    "\n",
    "2. training plot: close to 0 or 1\n",
    "test plot: concentrate on 0 or 1 but have some plots around 0.5. These points have higher probability to be misclassfied."
   ]
  },
  {
   "cell_type": "markdown",
   "metadata": {},
   "source": [
    "## Part (d): Analyzing Significance of Coefficients\n",
    "\n",
    "How many of the coefficients estimated by the multiple logistic regression in the previous problem are significantly different from zero at a *significance level of 95%*? \n",
    "\n",
    "Hint: To answer this question, use *bootstrapping* with 100 boostrap samples/iterations.  \n",
    "\n"
   ]
  },
  {
   "cell_type": "code",
   "execution_count": 222,
   "metadata": {},
   "outputs": [],
   "source": [
    "#--------  sample\n",
    "# A function to select a random sample of size k from the training set\n",
    "# Input: \n",
    "#      x (n x d array of predictors in training data)\n",
    "#      y (n x 1 array of response variable vals in training data)\n",
    "#      k (size of sample) \n",
    "# Return: \n",
    "#      chosen sample of predictors and responses\n",
    "\n",
    "def sample(x, y, k):\n",
    "    n = x.shape[0] # No. of training points\n",
    "    \n",
    "    # Choose random indices of size 'k'\n",
    "    subset_ind = np.random.choice(np.arange(n), k)\n",
    "    \n",
    "    # Get predictors and reponses with the indices\n",
    "    x_subset = x[subset_ind, :]\n",
    "    y_subset = y[subset_ind]\n",
    "    \n",
    "    return (x_subset, y_subset)"
   ]
  },
  {
   "cell_type": "code",
   "execution_count": 223,
   "metadata": {},
   "outputs": [],
   "source": [
    "# X_subset = sm.add_constant(X_train)\n",
    "# logit_sm = sm.Logit(y_train, X_subset)\n",
    "# fit_sm = logit_sm.fit()\n",
    "# print(fit_sm.summary())"
   ]
  },
  {
   "cell_type": "code",
   "execution_count": 224,
   "metadata": {},
   "outputs": [],
   "source": [
    "n_iter = 100\n",
    "res = []\n",
    "for i in range(n_iter):\n",
    "    X_subset, y_subset = sample(X_train, y_train, 32)\n",
    "    clf_resample = LogisticRegression(C=100000)\n",
    "    clf_resample.fit(X_subset, y_subset)\n",
    "    res.append(clf_resample.coef_ > 0)"
   ]
  },
  {
   "cell_type": "code",
   "execution_count": 225,
   "metadata": {},
   "outputs": [],
   "source": [
    "total = []\n",
    "for j in range(7129):\n",
    "    tmp = sum(np.array(res)[:,:,j]) / n_iter\n",
    "    total.append(tmp if tmp < 0.5 else 1 - tmp)"
   ]
  },
  {
   "cell_type": "code",
   "execution_count": 226,
   "metadata": {},
   "outputs": [
    {
     "data": {
      "text/plain": [
       "2218"
      ]
     },
     "execution_count": 226,
     "metadata": {},
     "output_type": "execute_result"
    }
   ],
   "source": [
    "count = 0\n",
    "for t in total:\n",
    "    if t < 0.05:\n",
    "        count += 1\n",
    "\n",
    "count"
   ]
  },
  {
   "cell_type": "markdown",
   "metadata": {},
   "source": [
    "## Part (e): Dimensionality Reduction using PCA\n",
    "\n",
    "A reasonable approach to reduce the dimensionality of the data is to use PCA and fit a logistic regression model on the first set of principal components contributing to 90% of the variance in the predictors.\n",
    "\n",
    "1. How do the classification accuracy values on both the training and tests sets compare with the models fitted in Parts (c) and (d)?  \n",
    "\n",
    "2. Re-fit a logistic regression model using 5-fold cross-validation to choose the number of principal components, and comment on whether you get better test performance than the model fitted above (explain your observations). \n",
    "\n",
    "3. Use the code provided in Part (c) to visualize the probabilities predicted by the fitted models on both the training and test sets. How does the spread of probabilities in these plots compare to those for the models in Part (c) and (d)? \n"
   ]
  },
  {
   "cell_type": "code",
   "execution_count": 227,
   "metadata": {},
   "outputs": [],
   "source": [
    "n = 50\n",
    "for i in range(n):\n",
    "    pca = PCA(n_components= i)\n",
    "    pca.fit(X_train)\n",
    "    if sum(pca.explained_variance_ratio_) > 0.9:\n",
    "        break"
   ]
  },
  {
   "cell_type": "code",
   "execution_count": 234,
   "metadata": {},
   "outputs": [
    {
     "data": {
      "text/plain": [
       "LogisticRegression(C=100000, class_weight=None, dual=False,\n",
       "          fit_intercept=True, intercept_scaling=1, max_iter=100,\n",
       "          multi_class='ovr', n_jobs=1, penalty='l2', random_state=None,\n",
       "          solver='liblinear', tol=0.0001, verbose=0, warm_start=False)"
      ]
     },
     "execution_count": 234,
     "metadata": {},
     "output_type": "execute_result"
    }
   ],
   "source": [
    "x_train_pca = pca.transform(X_train)\n",
    "x_test_pca = pca.transform(X_test)\n",
    "clf_pca = LogisticRegression(C=100000)\n",
    "clf_pca.fit(x_train_pca, y_train)"
   ]
  },
  {
   "cell_type": "code",
   "execution_count": 235,
   "metadata": {},
   "outputs": [
    {
     "name": "stdout",
     "output_type": "stream",
     "text": [
      "accuracy for training data: 1.0\n",
      "accuracy for test data: 0.926829268292683\n"
     ]
    }
   ],
   "source": [
    "y_predict = clf_pca.predict(x_train_pca)\n",
    "accuracy = sum(y_predict == y_train) /32\n",
    "y_test_predict = clf_pca.predict(x_test_pca)\n",
    "accuracy_test = sum(y_test_predict == y_test) /41\n",
    "print(\"accuracy for training data: {}\" .format(accuracy))\n",
    "print(\"accuracy for test data: {}\" .format(accuracy_test))"
   ]
  },
  {
   "cell_type": "markdown",
   "metadata": {},
   "source": [
    "testing accuracy lower than before. "
   ]
  },
  {
   "cell_type": "code",
   "execution_count": 236,
   "metadata": {},
   "outputs": [
    {
     "data": {
      "text/plain": [
       "LogisticRegressionCV(Cs=10, class_weight=None, cv=None, dual=False,\n",
       "           fit_intercept=True, intercept_scaling=1.0, max_iter=100,\n",
       "           multi_class='ovr', n_jobs=1, penalty='l2', random_state=None,\n",
       "           refit=True, scoring=None, solver='lbfgs', tol=0.0001, verbose=0)"
      ]
     },
     "execution_count": 236,
     "metadata": {},
     "output_type": "execute_result"
    }
   ],
   "source": [
    "clf_cv = LogisticRegressionCV()\n",
    "clf_cv.fit(x_train_pca, y_train)"
   ]
  },
  {
   "cell_type": "code",
   "execution_count": 237,
   "metadata": {},
   "outputs": [
    {
     "name": "stdout",
     "output_type": "stream",
     "text": [
      "accuracy for training data: 1.0\n",
      "accuracy for test data: 0.975609756097561\n"
     ]
    }
   ],
   "source": [
    "y_predict = clf_cv.predict(x_train_pca)\n",
    "accuracy = sum(y_predict == y_train) /32\n",
    "y_test_predict = clf_cv.predict(x_test_pca)\n",
    "accuracy_test = sum(y_test_predict == y_test) /41\n",
    "print(\"accuracy for training data: {}\" .format(accuracy))\n",
    "print(\"accuracy for test data: {}\" .format(accuracy_test))"
   ]
  },
  {
   "cell_type": "markdown",
   "metadata": {},
   "source": [
    "Same result as before. That means we could use much fewer predictors to achieve the same accuracy by using all the predictors. PCA helps to select the combined predictors that could explain most of the variety and the reconstrucion error is pretty small."
   ]
  },
  {
   "cell_type": "code",
   "execution_count": 238,
   "metadata": {},
   "outputs": [
    {
     "data": {
      "image/png": "[encoded data removed]",
      "text/plain": [
       "<matplotlib.figure.Figure at 0x11cc5c048>"
      ]
     },
     "metadata": {},
     "output_type": "display_data"
    }
   ],
   "source": [
    "fig = plt.figure()\n",
    "ax = fig.add_subplot(111)\n",
    "visualize_prob(clf_cv, x_train_pca, y_train, ax)"
   ]
  },
  {
   "cell_type": "code",
   "execution_count": 239,
   "metadata": {},
   "outputs": [
    {
     "data": {
      "image/png": "[encoded data removed]",
      "text/plain": [
       "<matplotlib.figure.Figure at 0x11fd0a7b8>"
      ]
     },
     "metadata": {},
     "output_type": "display_data"
    }
   ],
   "source": [
    "fig = plt.figure()\n",
    "ax = fig.add_subplot(111)\n",
    "visualize_prob(clf_cv, x_test_pca, y_test, ax)"
   ]
  },
  {
   "cell_type": "markdown",
   "metadata": {},
   "source": [
    "The probability distribution is not so extreme as in part(c). The reason might be part(c) is overfitting."
   ]
  },
  {
   "cell_type": "markdown",
   "metadata": {},
   "source": [
    "---\n",
    " "
   ]
  },
  {
   "cell_type": "markdown",
   "metadata": {},
   "source": [
    "# APCOMP209a - Homework Question"
   ]
  },
  {
   "cell_type": "markdown",
   "metadata": {},
   "source": [
    "Suppose we want to conduct PCA on the model matrix $X \\in \\Re^{n×p}$, where the columns have been suitably set to zero mean. In this question, we consider the squared reconstruction error:\n",
    "\n",
    "$$  \\parallel XQ- XQ_m \\parallel ^2 $$\n",
    "\n",
    "for a suitable set of eigenvectors forming the matrix $Q_m$, as discussed below. Suppose that we conduct eigendecomposition of $X^T X$ and obtain eigenvalues $\\lambda_1, \\ldots , \\lambda_p$ and principal components $Q$, i.e.\n",
    "\n",
    "$$ X^T X = Q \\Lambda Q ^T $$\n",
    "\n",
    "(1) Suppose that the matrix norm is simply the squared dot product, namely\n",
    "\n",
    "$$ \\parallel A \\parallel ^2 = A^T A $$\n",
    "\n",
    "Then, express the reconstruction error as a sum of matrix products.\n",
    "\n",
    "(2) Simplify your result from (1) based on properties of the matrices $Q$.\n",
    "\n",
    "(3) Now let $Q_m$ be the matrix of the first $m < p$ eigenvectors, namely\n",
    "\n",
    "$$ Q_m = (q_1, \\ldots, q_m, 0, \\ldots, 0) \\in \\Re^{p \\times p} $$\n",
    "\n",
    "Thus, $X Q_m$ is the PCA projection of the data into the space spanned by the first $m$ principal components. Express the products $Q^T_m Q$ and $Q^T Q_m$, again using properties of the eigenbasis $q_1, \\ldots, q_p$.\n",
    "\n",
    "(4) Use your results from (3) to finally fully simplify your expression from (2).\n",
    "\n",
    "(5) Note that the result you obtain should still be a matrix, i.e. this does not define a proper norm on the space of matrices (since the value should be a scalar). Consequently, the true matrix norm is actually the trace of the\n",
    "above result, namely\n",
    "\n",
    "$$ \\parallel A \\parallel ^2  = {\\rm trace} (A^T A) $$\n",
    "Use your result from (4) and this new definition to find a simple expression\n",
    "for the reconstruction error in terms of the eigenvalues.\n",
    "\n",
    "(6) Interpret your result from (5). In light of your results, does our procedure for PCA (selecting the $m$ substantially larger eigenvalues) make sense? Why or why not?"
   ]
  },
  {
   "cell_type": "markdown",
   "metadata": {
    "collapsed": true
   },
   "source": [
    "Make sense. The reconstruction error is small, which means the reconstructed $XQ_m$ can explain large variety of X"
   ]
  },
  {
   "cell_type": "code",
   "execution_count": null,
   "metadata": {
    "collapsed": true
   },
   "outputs": [],
   "source": []
  }
 ],
 "metadata": {
  "anaconda-cloud": {},
  "kernelspec": {
   "display_name": "Python 3",
   "language": "python",
   "name": "python3"
  },
  "language_info": {
   "codemirror_mode": {
    "name": "ipython",
    "version": 3
   },
   "file_extension": ".py",
   "mimetype": "text/x-python",
   "name": "python",
   "nbconvert_exporter": "python",
   "pygments_lexer": "ipython3",
   "version": "3.6.1"
  }
 },
 "nbformat": 4,
 "nbformat_minor": 1
}
