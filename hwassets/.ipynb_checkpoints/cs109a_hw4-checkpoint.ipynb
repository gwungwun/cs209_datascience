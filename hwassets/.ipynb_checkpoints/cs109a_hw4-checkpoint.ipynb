{
 "cells": [
  {
   "cell_type": "markdown",
   "metadata": {},
   "source": [
    "# CS 109A/STAT 121A/AC 209A/CSCI E-109A: Homework 4\n",
    "# Regularization, High Dimensionality, PCA\n",
    "\n",
    "\n",
    "**Harvard University**<br/>\n",
    "**Fall 2017**<br/>\n",
    "**Instructors**: Pavlos Protopapas, Kevin Rader, Rahul Dave, Margo Levine\n",
    "\n",
    "---\n",
    "\n",
    "### INSTRUCTIONS\n",
    "\n",
    "- To submit your assignment follow the instructions given in canvas.\n",
    "- Restart the kernel and run the whole notebook again before you submit. \n",
    "- Do not include your name(s) in the notebook even if you are submitting as a group. \n",
    "- If you submit individually and you have worked with someone, please include the name of your [one] partner below. \n",
    "\n",
    "---"
   ]
  },
  {
   "cell_type": "markdown",
   "metadata": {},
   "source": [
    "Your partner's name (if you submit separately):\n",
    "\n",
    "Enrollment Status (109A, 121A, 209A, or E109A): 209A"
   ]
  },
  {
   "cell_type": "markdown",
   "metadata": {},
   "source": [
    "Import libraries:"
   ]
  },
  {
   "cell_type": "code",
   "execution_count": 1,
   "metadata": {},
   "outputs": [
    {
     "name": "stderr",
     "output_type": "stream",
     "text": [
      "/Users/gwungwun/anaconda/lib/python3.6/site-packages/statsmodels/compat/pandas.py:56: FutureWarning: The pandas.core.datetools module is deprecated and will be removed in a future version. Please use the pandas.tseries module instead.\n",
      "  from pandas.core import datetools\n"
     ]
    }
   ],
   "source": [
    "import numpy as np\n",
    "import pandas as pd\n",
    "import matplotlib\n",
    "import matplotlib.pyplot as plt\n",
    "from sklearn.metrics import r2_score\n",
    "import statsmodels.api as sm\n",
    "from statsmodels.api import OLS\n",
    "from sklearn.preprocessing import PolynomialFeatures\n",
    "from sklearn.linear_model import Ridge\n",
    "from sklearn.linear_model import Lasso\n",
    "from sklearn.linear_model import RidgeCV\n",
    "from sklearn.linear_model import LassoCV\n",
    "%matplotlib inline"
   ]
  },
  {
   "cell_type": "code",
   "execution_count": 2,
   "metadata": {
    "collapsed": true
   },
   "outputs": [],
   "source": [
    "import seaborn as sns\n",
    "pd.set_option('display.width', 1500)\n",
    "pd.set_option('display.max_columns', 100)\n",
    "\n",
    "sns.set_context('poster')"
   ]
  },
  {
   "cell_type": "markdown",
   "metadata": {},
   "source": [
    "# Continuing Bike Sharing Usage Data\n",
    "\n",
    "In this homework, we will focus on multiple linear regression, regularization, dealing with high dimensionality, and PCA. We will continue to build regression models for the Capital Bikeshare program in Washington D.C.  See Homework 3 for more information about the data.\n",
    "\n",
    "*Note: please make sure you use all the processed data from HW 3 Part (a)...you make want to save the data set on your computer and reread the csv/json file here.\n"
   ]
  },
  {
   "cell_type": "code",
   "execution_count": 3,
   "metadata": {
    "collapsed": true
   },
   "outputs": [],
   "source": [
    "# Load data\n",
    "\n",
    "data_train = pd.read_csv('data/Bikeshare_train.csv')\n",
    "data_test = pd.read_csv('data/Bikeshare_test.csv')\n",
    "data_train = data_train.drop('Unnamed: 0', 1)\n",
    "data_test = data_test.drop('Unnamed: 0', 1)\n",
    "\n",
    "data_train = pd.get_dummies(data_train, columns=['season', 'month', 'day_of_week', 'weather'])\n",
    "data_train = data_train.drop(['season_4.0', 'month_12.0', 'day_of_week_6.0', 'weather_3.0'], 1)\n",
    "data_test = pd.get_dummies(data_test, columns=['season', 'month', 'day_of_week', 'weather'])\n",
    "data_test = data_test.drop(['season_4.0', 'month_12.0', 'day_of_week_6.0', 'weather_3.0'], 1)\n",
    "\n",
    "cp = ['temp', 'atemp', 'humidity', 'windspeed']\n",
    "cp_means = [data_train[v].mean() for v in cp]\n",
    "cp_std = [data_train[v].std() for v in cp]\n",
    "for i, v in enumerate(cp):\n",
    "    data_train[v] = (data_train[v] - cp_means[i]) / cp_std[i]\n",
    "    data_test[v] = (data_test[v] - cp_means[i]) / cp_std[i]\n",
    "\n",
    "col_names = list(data_train.columns[7:]) + list(data_train.columns[:7])\n",
    "all_predictors = col_names[:-1]\n",
    "data_train = data_train[col_names]\n",
    "data_test = data_test[col_names]"
   ]
  },
  {
   "cell_type": "markdown",
   "metadata": {},
   "source": [
    "## Part (f): Regularization/Penalization Methods\n",
    "\n",
    "As an alternative to selecting a subset of predictors and fitting a regression model on the subset, one can fit a linear regression model on all predictors, but shrink or regularize the coefficient estimates to make sure that the model does not \"overfit\" the training set. \n",
    "\n",
    "Use the following regularization techniques to fit linear models to the training set:\n",
    "- Ridge regression\n",
    "- Lasso regression\n",
    "    \n",
    "You may choose the shrikage parameter $\\lambda$ from the set $\\{10^{-5}, 10^{-4},...,10^{4},10^{5}\\}$ using cross-validation. In each case, \n",
    "\n",
    "- How do the estimated coefficients compare to or differ from the coefficients estimated by a plain linear regression (without shrikage penalty) in Part (b) fropm HW 3? Is there a difference between coefficients estimated by the two shrinkage methods? If so, give an explantion for the difference.\n",
    "- List the predictors that are assigned a coefficient value close to 0 (say < 1e-10) by the two methods. How closely do these predictors match the redundant predictors (if any) identified in Part (c) from HW 3?\n",
    "- Is there a difference in the way Ridge and Lasso regression assign coefficients to the predictors `temp` and `atemp`? If so, explain the reason for the difference.\n",
    "\n",
    "We next analyze the performance of the two shrinkage methods for different training sample sizes:\n",
    "- Generate random samples of sizes 100, 150, ..., 400 from the training set. You may use the following code to draw a random sample of a specified size from the training set:"
   ]
  },
  {
   "cell_type": "code",
   "execution_count": 4,
   "metadata": {
    "collapsed": true
   },
   "outputs": [],
   "source": [
    "#--------  sample\n",
    "# A function to select a random sample of size k from the training set\n",
    "# Input: \n",
    "#      x (n x d array of predictors in training data)\n",
    "#      y (n x 1 array of response variable vals in training data)\n",
    "#      k (size of sample) \n",
    "# Return: \n",
    "#      chosen sample of predictors and responses\n",
    "\n",
    "def sample(x, y, k):\n",
    "    n = x.shape[0] # No. of training points\n",
    "    \n",
    "    # Choose random indices of size 'k'\n",
    "    subset_ind = np.random.choice(np.arange(n), k)\n",
    "    \n",
    "    # Get predictors and reponses with the indices\n",
    "    x_subset = x[subset_ind, :]\n",
    "    y_subset = y[subset_ind]\n",
    "    \n",
    "    return (x_subset, y_subset)"
   ]
  },
  {
   "cell_type": "markdown",
   "metadata": {},
   "source": [
    "- Fit linear, Ridge and Lasso regression models to each of the generated sample. In each case, compute the $R^2$ score for the model on the training sample on which it was fitted, and on the test set.\n",
    "- Repeat the above experiment for 10 random trials/splits, and compute the average train and test $R^2$ across the trials for each training sample size. Also, compute the standard deviation (SD) in each case.\n",
    "- Make a plot of the mean training $R^2$ scores for the linear, Ridge and Lasso regression methods as a function of the training sample size. Also, show a confidence interval for the mean scores extending from **mean - SD** to **mean + SD**. Make a similar plot for the test $R^2$ scores.\n",
    "\n",
    "How do the training and test $R^2$ scores compare for the three methods? Give an explanation for your observations. How do the confidence intervals for the estimated $R^2$ change with training sample size? Based on the plots, which of the three methods would you recommend when one needs to fit a regression model using a small training sample?\n",
    "\n",
    "*Hint:* You may use `sklearn`'s `RidgeCV` and `LassoCV` classes to implement Ridge and Lasso regression. These classes automatically perform cross-validation to tune the parameter $\\lambda$ from a given range of values. You may use the `plt.errorbar` function to plot confidence bars for the average $R^2$ scores."
   ]
  },
  {
   "cell_type": "code",
   "execution_count": 5,
   "metadata": {
    "collapsed": true
   },
   "outputs": [],
   "source": [
    "from sklearn.linear_model import LinearRegression\n",
    "import warnings\n",
    "warnings.filterwarnings('ignore')"
   ]
  },
  {
   "cell_type": "code",
   "execution_count": 6,
   "metadata": {},
   "outputs": [
    {
     "name": "stdout",
     "output_type": "stream",
     "text": [
      "The test R^2 for the plain linear regression is 0.24934211146527574.\n",
      "The test R^2 for the Ridge regression is 0.25825181588390766.\n",
      "The test R^2 for the Lasso regression is 0.26377723427905897.\n"
     ]
    }
   ],
   "source": [
    "# Fitting\n",
    "\n",
    "X_train = data_train.iloc[:, :-1].values\n",
    "y_train = data_train.iloc[:, -1].values\n",
    "\n",
    "X_test = data_test.iloc[:, :-1].values\n",
    "y_test = data_test.iloc[:, -1].values\n",
    "\n",
    "linear_regression = LinearRegression(fit_intercept=True)\n",
    "linear_regression.fit(X_train, y_train)\n",
    "print('The test R^2 for the plain linear regression is {}.'.format(linear_regression.score(X_test, y_test)))\n",
    "\n",
    "alphas = np.array([10**i for i in range(-5, 6)])\n",
    "ridge_regression = RidgeCV(alphas=alphas, fit_intercept=True)\n",
    "ridge_regression.fit(X_train, y_train)\n",
    "print('The test R^2 for the Ridge regression is {}.'.format(ridge_regression.score(X_test, y_test)))\n",
    "\n",
    "lasso_regression = LassoCV(alphas=alphas, fit_intercept=True)\n",
    "lasso_regression.fit(X_train, y_train)\n",
    "print('The test R^2 for the Lasso regression is {}.'.format(lasso_regression.score(X_test, y_test)))"
   ]
  },
  {
   "cell_type": "code",
   "execution_count": 7,
   "metadata": {},
   "outputs": [
    {
     "data": {
      "image/png": "[encoded data removed]",
      "text/plain": [
       "<matplotlib.figure.Figure at 0x1d02d74f8d0>"
      ]
     },
     "metadata": {},
     "output_type": "display_data"
    }
   ],
   "source": [
    "plt.scatter(range(len(all_predictors)), linear_regression.coef_, marker='.',\\\n",
    "           color='b', alpha=0.7, label='Plain linear regression');\n",
    "plt.scatter(range(len(all_predictors)), ridge_regression.coef_, marker='.',\\\n",
    "           color='g', alpha=0.7, label='Ridge regression');\n",
    "plt.scatter(range(len(all_predictors)), lasso_regression.coef_, marker='.',\\\n",
    "           color='r', alpha=0.7, label='Lasso regression');\n",
    "plt.axhline(y=0, alpha=0.3, color='k');\n",
    "plt.xticks(range(len(all_predictors)), all_predictors, rotation=90);\n",
    "plt.ylabel('Coefficient');\n",
    "plt.legend();"
   ]
  },
  {
   "cell_type": "markdown",
   "metadata": {},
   "source": [
    "As we can see, the absolute value of most estimated coefficients is smaller for Ridge regression and Lasso regression than the plain linear regression. There are slight differences for the estimated coefficients obtained from Ridge regression and Lasso regression; some coefficients from Lasso regression reaches zero, while there is no zero coefficients from Ridge regression."
   ]
  },
  {
   "cell_type": "code",
   "execution_count": 8,
   "metadata": {},
   "outputs": [
    {
     "name": "stdout",
     "output_type": "stream",
     "text": [
      "There is 0 coefficient close to 0 by Ridge regression.\n",
      "\n",
      "There are 7 coefficients close to 0 by Lasso regression:\n",
      "season_2.0, month_2.0, month_3.0, month_5.0, day_of_week_3.0, day_of_week_4.0, workingday.\n"
     ]
    }
   ],
   "source": [
    "print('There is {} coefficient close to 0 by Ridge regression.'.\\\n",
    "     format(sum(np.abs(ridge_regression.coef_) < 1e-10)))\n",
    "print()\n",
    "print('There are {} coefficients close to 0 by Lasso regression:'.\\\n",
    "     format(sum(np.abs(lasso_regression.coef_) < 1e-10)))\n",
    "print(', '.join(['{}'.format(all_predictors[i])\\\n",
    "                for i, v in enumerate(np.abs(lasso_regression.coef_) < 1e-10) if v]) + '.')"
   ]
  },
  {
   "cell_type": "markdown",
   "metadata": {},
   "source": [
    "These predictors all belong to the redundant predictors identified in Part (c) from HW 3; but there remains some redundant predictors having non-zero coefficients, such as temp/atemp."
   ]
  },
  {
   "cell_type": "code",
   "execution_count": 9,
   "metadata": {},
   "outputs": [
    {
     "name": "stdout",
     "output_type": "stream",
     "text": [
      "The coefficients to temp and atemp by Ridge regression are 587.295654147897, 516.9296493186753.\n",
      "The coefficients to temp and atemp by Lasso regression are 609.2251362451425, 468.4101220582489.\n"
     ]
    }
   ],
   "source": [
    "print('The coefficients to temp and atemp by Ridge regression are {}, {}.'.\\\n",
    "     format(ridge_regression.coef_[all_predictors.index('temp')], \\\n",
    "            ridge_regression.coef_[all_predictors.index('atemp')]))\n",
    "print('The coefficients to temp and atemp by Lasso regression are {}, {}.'.\\\n",
    "     format(lasso_regression.coef_[all_predictors.index('temp')], \\\n",
    "            lasso_regression.coef_[all_predictors.index('atemp')]))"
   ]
  },
  {
   "cell_type": "markdown",
   "metadata": {},
   "source": [
    "The way Ridge and Lasso regression assign coefficients to the predictors `temp` and `atemp` is very similar."
   ]
  },
  {
   "cell_type": "code",
   "execution_count": 10,
   "metadata": {
    "collapsed": true
   },
   "outputs": [],
   "source": [
    "# Sample size\n",
    "\n",
    "def train_regression(k, alphas = np.array([10**i for i in range(-5, 6)])):\n",
    "    X_subset, y_subset = sample(X_train, y_train, k)\n",
    "    linear_regression = LinearRegression(fit_intercept=True)\n",
    "    linear_regression.fit(X_subset, y_subset)\n",
    "    ridge_regression = RidgeCV(alphas=alphas, fit_intercept=True)\n",
    "    ridge_regression.fit(X_subset, y_subset)\n",
    "    lasso_regression = LassoCV(alphas=alphas, fit_intercept=True)\n",
    "    lasso_regression.fit(X_subset, y_subset)\n",
    "    r2 = [linear_regression.score(X_subset, y_subset), linear_regression.score(X_test, y_test), \\\n",
    "          ridge_regression.score(X_subset, y_subset), ridge_regression.score(X_test, y_test), \\\n",
    "         lasso_regression.score(X_subset, y_subset), lasso_regression.score(X_test, y_test)]\n",
    "    return r2    "
   ]
  },
  {
   "cell_type": "code",
   "execution_count": 11,
   "metadata": {},
   "outputs": [
    {
     "name": "stdout",
     "output_type": "stream",
     "text": [
      "k = 100:\n",
      "Linear regression: training R^2 0.6806291607423258; test R^2 0.112384287653011.\n",
      "Ridge regression: training R^2 0.5548972111410462; test R^2 0.25366846609323157.\n",
      "Lasso regression: training R^2 0.4553067468754831; test R^2 0.26212102576264074.\n",
      "\n",
      "k = 150:\n",
      "Linear regression: training R^2 0.6485581509671634; test R^2 0.1808126351460051.\n",
      "Ridge regression: training R^2 0.6130870969854229; test R^2 0.23070383988641274.\n",
      "Lasso regression: training R^2 0.6348993368353408; test R^2 0.2160630779306815.\n",
      "\n",
      "k = 200:\n",
      "Linear regression: training R^2 0.6109461661319454; test R^2 0.1598519651535344.\n",
      "Ridge regression: training R^2 0.5808557133587486; test R^2 0.23346042241333875.\n",
      "Lasso regression: training R^2 0.5961152722390137; test R^2 0.20630258997051953.\n",
      "\n",
      "k = 250:\n",
      "Linear regression: training R^2 0.5892404925697956; test R^2 0.2035836282950908.\n",
      "Ridge regression: training R^2 0.5501384457441276; test R^2 0.25561008009151565.\n",
      "Lasso regression: training R^2 0.5653842236434945; test R^2 0.24783896730644706.\n",
      "\n",
      "k = 300:\n",
      "Linear regression: training R^2 0.6093661165047065; test R^2 0.18809389408490707.\n",
      "Ridge regression: training R^2 0.5930315363880176; test R^2 0.23918008098287835.\n",
      "Lasso regression: training R^2 0.5991562061847433; test R^2 0.21866498866461215.\n",
      "\n",
      "k = 350:\n",
      "Linear regression: training R^2 0.6053827121062987; test R^2 0.23438326134499.\n",
      "Ridge regression: training R^2 0.6026912292440612; test R^2 0.245419281324429.\n",
      "Lasso regression: training R^2 0.5914443483121272; test R^2 0.25667643590363964.\n",
      "\n",
      "k = 400:\n",
      "Linear regression: training R^2 0.5875061292469468; test R^2 0.25103413287846954.\n",
      "Ridge regression: training R^2 0.5663802879536055; test R^2 0.2673285893857138.\n",
      "Lasso regression: training R^2 0.5698523989525548; test R^2 0.2665282151729925.\n",
      "\n"
     ]
    }
   ],
   "source": [
    "k_list = np.arange(100, 401, 50, dtype=int)\n",
    "for k in k_list:\n",
    "    result = train_regression(k)\n",
    "    print('k = {}:'.format(k))\n",
    "    print('Linear regression: training R^2 {}; test R^2 {}.'.format(result[0], result[1]))\n",
    "    print('Ridge regression: training R^2 {}; test R^2 {}.'.format(result[2], result[3]))\n",
    "    print('Lasso regression: training R^2 {}; test R^2 {}.'.format(result[4], result[5]))\n",
    "    print()"
   ]
  },
  {
   "cell_type": "code",
   "execution_count": 12,
   "metadata": {
    "collapsed": true
   },
   "outputs": [],
   "source": [
    "# Repeat for 10 random trials/splits\n",
    "\n",
    "results = [np.array([train_regression(k) for _ in range(10)]) for k in k_list]"
   ]
  },
  {
   "cell_type": "code",
   "execution_count": 13,
   "metadata": {},
   "outputs": [
    {
     "data": {
      "image/png": "[encoded data removed]",
      "text/plain": [
       "<matplotlib.figure.Figure at 0x1d029540320>"
      ]
     },
     "metadata": {},
     "output_type": "display_data"
    }
   ],
   "source": [
    "r2_mean = np.array([result.mean(axis=0) for result in results])\n",
    "r2_std = np.array([result.std(axis=0) for result in results])\n",
    "labels = ['Linear regression (training $R^2$)', 'Linear regression (test $R^2$)', \\\n",
    "         'Ridge regression (training $R^2$)', 'Ridge regression (test $R^2$)', \\\n",
    "         'Lasso regression (training $R^2$)', 'Lasso regression (test $R^2$)']\n",
    "for i in [0, 2, 4, 1, 3, 5]:\n",
    "    plt.errorbar(k_list, r2_mean[:, i], alpha=0.8, yerr=r2_std[:, i], capsize=10, elinewidth=2, markeredgewidth=2, \\\n",
    "                label=labels[i]);\n",
    "plt.legend(bbox_to_anchor=(1.05, 1), loc=2);\n",
    "plt.xlabel('$k$');\n",
    "plt.ylabel('$R^2$');"
   ]
  },
  {
   "cell_type": "markdown",
   "metadata": {},
   "source": [
    "In general, the training $R^2$ scores are similar for Ridge regression and Lasso regression, which are smaller than the training $R^2$ for linear regression; the test $R^2$ scores are smaller than the training $R^2$ scores; the test $R^2$ scores are similar for Ridge regression and Lasso regression, which are larger than the test $R^2$ for linear regression. The regularizaition terms are included in the loss functions of Ridge and Lasso regression, causing a smaller training $R^2$ (than linear regression without regularization). On the other hand, the regularization terms in Ridge and Lasso regression diminish the overfitting issue, resulting in a larger test $R^2$ (than linear regression without regularization)."
   ]
  },
  {
   "cell_type": "markdown",
   "metadata": {},
   "source": [
    "The confidence intervals for the estimated $R^2$ decrease as training sample size increases."
   ]
  },
  {
   "cell_type": "markdown",
   "metadata": {},
   "source": [
    "Based on the plots, we would recommend Ridge or Lasso regression, of which the test $R^2$ scores are similar and higher, when we need to fit a regression model using a small training sample."
   ]
  },
  {
   "cell_type": "markdown",
   "metadata": {},
   "source": [
    "## Part (g): Polynomial & Interaction Terms\n",
    "\n",
    "Moving beyond linear models, we will now try to improve the performance of the regression model in Part (b) from HW 3 by including higher-order polynomial and interaction terms. \n",
    "\n",
    "- For each continuous predictor $X_j$, include additional polynomial terms $X^2_j$, $X^3_j$, and $X^4_j$, and fit a multiple regression model to the expanded training set. How does the $R^2$ of this model on the test set compare with that of the linear model fitted in Part (b) from HW 3? Using a t-test, find out which of estimated coefficients for the polynomial terms are statistically significant at a significance level of 5%. \n",
    "\n",
    "- Fit a multiple linear regression model with additional interaction terms $\\mathbb{I}_{month = 12} \\times temp$ and $\\mathbb{I}_{workingday = 1} \\times \\mathbb{I}_{weathersit = 1}$ and report the test $R^2$ for the fitted model. How does this compare with the $R^2$ obtained using linear model in Part (b) from HW 3? Are the estimated coefficients for the interaction terms statistically significant at a significance level of 5%?"
   ]
  },
  {
   "cell_type": "code",
   "execution_count": 14,
   "metadata": {},
   "outputs": [
    {
     "name": "stdout",
     "output_type": "stream",
     "text": [
      "The test R^2 for linear regression model is 0.24934211146527574.\n",
      "The test R^2 for multiple regression model with additional polynomial terms is 0.27723843508615176.\n"
     ]
    }
   ],
   "source": [
    "# Additional polynomial terms\n",
    "\n",
    "X_train = data_train.iloc[:, :-1].values\n",
    "y_train = data_train.iloc[:, -1].values\n",
    "\n",
    "X_test = data_test.iloc[:, :-1].values\n",
    "y_test = data_test.iloc[:, -1].values\n",
    "\n",
    "def add_poly_terms(X, inds, degree=4):\n",
    "    for ind in inds:\n",
    "        X = np.concatenate((X, np.array([X[:, ind]**i for i in range(2, degree+1)]).transpose()), axis=1)\n",
    "    return X\n",
    "\n",
    "def update_predictors(predictors, inds, degree=4):\n",
    "    for ind in inds:\n",
    "        predictors = predictors + [predictors[ind] + '^' + str(i) for i in range(2, degree+1)]\n",
    "    return predictors\n",
    "\n",
    "cp_inds = [all_predictors.index(p) for p in cp]\n",
    "X_train_poly = add_poly_terms(X_train, cp_inds)\n",
    "X_test_poly = add_poly_terms(X_test, cp_inds)\n",
    "poly_predictors = update_predictors(all_predictors, cp_inds)\n",
    "\n",
    "X_train = sm.add_constant(X_train)\n",
    "X_test = sm.add_constant(X_test)\n",
    "X_train_poly = sm.add_constant(X_train_poly)\n",
    "X_test_poly = sm.add_constant(X_test_poly)\n",
    "poly_predictors = ['const'] + poly_predictors\n",
    "\n",
    "result0 = sm.OLS(y_train, X_train).fit()\n",
    "result = sm.OLS(y_train, X_train_poly).fit()\n",
    "print('The test R^2 for linear regression model is {}.'.format(r2_score(y_test, result0.predict(X_test))))\n",
    "print('The test R^2 for multiple regression model with additional polynomial terms is {}.'.\\\n",
    "     format(r2_score(y_test, result.predict(X_test_poly))))"
   ]
  },
  {
   "cell_type": "markdown",
   "metadata": {
    "collapsed": true
   },
   "source": [
    "The test $R^2$ of this model is higher than that of the linear model fitted in Part (b) from HW3."
   ]
  },
  {
   "cell_type": "code",
   "execution_count": 15,
   "metadata": {},
   "outputs": [
    {
     "name": "stdout",
     "output_type": "stream",
     "text": [
      "There are 6 statistically significant coefficients (p < 0.05):\n",
      "const: value 5429.916277803321; standard error 711.1856189784675; p-value 3.2621380389305417e-13\n",
      "season_1.0: value -1523.2288234038806; standard error 467.5800130824736; p-value 0.0012562409900277584\n",
      "weather_2.0: value 1103.011557374929; standard error 499.02336453814365; p-value 0.02785951161606185\n",
      "humidity: value -668.9144631916308; standard error 157.35619553547878; p-value 2.8703429720927837e-05\n",
      "windspeed: value -446.5085045541166; standard error 148.92909707051936; p-value 0.002950903968417459\n",
      "temp^2: value -1811.0179723344477; standard error 816.9102468051536; p-value 0.02740199958574\n"
     ]
    }
   ],
   "source": [
    "# Check statistical significance\n",
    "\n",
    "is_significant = result.pvalues < 0.05\n",
    "sig_vars = [name for i, name in enumerate(poly_predictors) if is_significant[i]]\n",
    "print('There are {} statistically significant coefficients (p < 0.05):'.format(len(sig_vars)))\n",
    "print('\\n'.join(['{}: value {}; standard error {}; p-value {}'.\\\n",
    "                format(name, result.params[is_significant][i], result.bse[is_significant][i], \\\n",
    "                       result.pvalues[is_significant][i])\\\n",
    "                for i, name in enumerate(sig_vars)]))"
   ]
  },
  {
   "cell_type": "code",
   "execution_count": 16,
   "metadata": {},
   "outputs": [
    {
     "name": "stdout",
     "output_type": "stream",
     "text": [
      "The test R^2 for linear regression model is 0.24934211146527574.\n",
      "The test R^2 for multiple regression model with additional interaction terms is 0.26851818962680996.\n"
     ]
    }
   ],
   "source": [
    "# Additional interaction terms\n",
    "\n",
    "X_train = data_train.iloc[:, :-1].values\n",
    "y_train = data_train.iloc[:, -1].values\n",
    "\n",
    "X_test = data_test.iloc[:, :-1].values\n",
    "y_test = data_test.iloc[:, -1].values\n",
    "\n",
    "inter_predictors = all_predictors + ['month_12.0Xtemp', 'workingday=1Xweather=1']\n",
    "month_predictors = [p for p in all_predictors if 'month' in p]\n",
    "\n",
    "def add_inter_terms(X, data):\n",
    "    new_col = (1 - data[month_predictors].sum(axis=1).values) * data['temp'].values\n",
    "    new_col = new_col.reshape((len(data), 1))\n",
    "    X = np.concatenate((X, new_col), axis=1)\n",
    "    new_col = data['weather_1.0'].values * data['workingday'].values\n",
    "    new_col = new_col.reshape((len(data), 1))\n",
    "    X = np.concatenate((X, new_col), axis=1)\n",
    "    return X\n",
    "\n",
    "X_train_inter = add_inter_terms(X_train, data_train)\n",
    "X_test_inter = add_inter_terms(X_test, data_test)\n",
    "\n",
    "X_train = sm.add_constant(X_train)\n",
    "X_test = sm.add_constant(X_test)\n",
    "X_train_inter = sm.add_constant(X_train_inter)\n",
    "X_test_inter = sm.add_constant(X_test_inter)\n",
    "inter_predictors = ['const'] + inter_predictors\n",
    "\n",
    "result0 = sm.OLS(y_train, X_train).fit()\n",
    "result = sm.OLS(y_train, X_train_inter).fit()\n",
    "print('The test R^2 for linear regression model is {}.'.format(r2_score(y_test, result0.predict(X_test))))\n",
    "print('The test R^2 for multiple regression model with additional interaction terms is {}.'.\\\n",
    "     format(r2_score(y_test, result.predict(X_test_inter))))"
   ]
  },
  {
   "cell_type": "markdown",
   "metadata": {},
   "source": [
    "The test $R^2$ of this model is higher than that of the linear model fitted in Part (b) from HW3."
   ]
  },
  {
   "cell_type": "code",
   "execution_count": 17,
   "metadata": {},
   "outputs": [
    {
     "name": "stdout",
     "output_type": "stream",
     "text": [
      "There are 6 statistically significant coefficients (p < 0.05):\n",
      "const: value 4734.015183791815; standard error 918.0107523681093; p-value 4.5612535012924353e-07\n",
      "month_7.0: value -2140.04402367848; standard error 941.7748952367559; p-value 0.023770393363035575\n",
      "weather_1.0: value 1339.914702308954; standard error 590.8030836647705; p-value 0.02404044509918082\n",
      "weather_2.0: value 1563.2213099445257; standard error 477.69970906371077; p-value 0.0011904824828959742\n",
      "humidity: value -574.1179358240837; standard error 113.992273826975; p-value 8.186394402382593e-07\n",
      "windspeed: value -275.7456778883614; standard error 81.73658099192726; p-value 0.000839080259268073\n"
     ]
    }
   ],
   "source": [
    "# Check statistical significance\n",
    "\n",
    "is_significant = result.pvalues < 0.05\n",
    "sig_vars = [name for i, name in enumerate(inter_predictors) if is_significant[i]]\n",
    "print('There are {} statistically significant coefficients (p < 0.05):'.format(len(sig_vars)))\n",
    "print('\\n'.join(['{}: value {}; standard error {}; p-value {}'.\\\n",
    "                format(name, result.params[is_significant][i], result.bse[is_significant][i], \\\n",
    "                       result.pvalues[is_significant][i])\\\n",
    "                for i, name in enumerate(sig_vars)]))"
   ]
  },
  {
   "cell_type": "markdown",
   "metadata": {},
   "source": [
    "The estimated coefficients for the interaction terms are not statistically significant at a significance level of 5%."
   ]
  },
  {
   "cell_type": "markdown",
   "metadata": {},
   "source": [
    "## Part (h): PCA to deal with high dimensionality\n",
    "\n",
    "We would like to fit a model to include all main effects, polynomial terms up to the $4^{th}$ order, and all interactions between all possible predictors and polynomial terms (not including the interactions between $X^1_j$, $X^2_j$, $X^3_j$, and $X^4_j$ as they would just create higher order polynomial terms).  \n",
    "\n",
    "- Create an expanded training set including all the desired terms mentioned above.  What are the dimensions of this 'design matrix' of all the predictor variables?   What are the issues with attempting to fit a regression model using all of these predictors?\n",
    "\n",
    "- Instead of using the usual approaches for model selection, let's instead use principal components analysis (PCA) to fit the model.  First, create the principal component vectors in python (consider: should you normalize first?).  Then fit 5 different regression models: (1) using just the first PCA vector, (2) using the first two PCA vectors, (3) using the first three PCA vectors, etc...  Briefly summarize how these models compare in the training set.\n",
    "\n",
    "- Use the test set to decide which of the 5 models above is best to predict out of sample.  How does this model compare to the previous models you've fit?  What are the interpretations of this model's coefficients?"
   ]
  },
  {
   "cell_type": "code",
   "execution_count": 65,
   "metadata": {},
   "outputs": [
    {
     "name": "stdout",
     "output_type": "stream",
     "text": [
      "(331, 418)\n"
     ]
    }
   ],
   "source": [
    "# Reload data and expand training set\n",
    "\n",
    "X_train = data_train.iloc[:, :-1].values\n",
    "y_train = data_train.iloc[:, -1].values\n",
    "\n",
    "X_test = data_test.iloc[:, :-1].values\n",
    "y_test = data_test.iloc[:, -1].values\n",
    "\n",
    "X_train_hd = PolynomialFeatures(interaction_only=True, include_bias=False).fit_transform(X_train)\n",
    "X_test_hd = PolynomialFeatures(interaction_only=True, include_bias=False).fit_transform(X_test)\n",
    "\n",
    "def add_poly_terms(X, inds, degree=4):\n",
    "    for ind in inds:\n",
    "        X = np.concatenate((X, np.array([X[:, ind]**i for i in range(2, degree+1)]).transpose()), axis=1)\n",
    "    return X\n",
    "\n",
    "cp_inds = [all_predictors.index(p) for p in cp]\n",
    "X_train_hd = add_poly_terms(X_train_hd, cp_inds)\n",
    "X_test_hd = add_poly_terms(X_test_hd, cp_inds)\n",
    "\n",
    "X_train = sm.add_constant(X_train)\n",
    "X_test = sm.add_constant(X_test)\n",
    "\n",
    "print(X_train_hd.shape)"
   ]
  },
  {
   "cell_type": "markdown",
   "metadata": {},
   "source": [
    "THe dimension of this \"design matrix\" of all the predictor variables is $331\\times 418$ (without the constant term; it would be $331\\times 419$ with the constant term). The model would suffer from overfitting if we attempt to fit a regression model using all of these predictors since there too many features."
   ]
  },
  {
   "cell_type": "markdown",
   "metadata": {},
   "source": [
    "We should normalize data (by column) before applying PCA. Also, we are supposed to use the normalization factors obtain from the training set to \"normalize\" the test set."
   ]
  },
  {
   "cell_type": "code",
   "execution_count": 66,
   "metadata": {
    "collapsed": true
   },
   "outputs": [],
   "source": [
    "norm_factors = np.sqrt(np.sum(X_train_hd*X_train_hd, axis=0))\n",
    "norm_factors = np.array([f if f > 1e-10 else 1 for f in norm_factors])\n",
    "X_train_hd_normed = X_train_hd / norm_factors\n",
    "X_test_hd_normed = X_test_hd / norm_factors"
   ]
  },
  {
   "cell_type": "code",
   "execution_count": 67,
   "metadata": {
    "collapsed": true
   },
   "outputs": [],
   "source": [
    "from sklearn.decomposition import PCA\n",
    "from sklearn.preprocessing import normalize"
   ]
  },
  {
   "cell_type": "code",
   "execution_count": 87,
   "metadata": {
    "collapsed": true
   },
   "outputs": [],
   "source": [
    "pca = PCA().fit(X_train_hd_normed)\n",
    "pcs_train = pca.fit_transform(X_train_hd_normed)\n",
    "pcs_test = pca.fit_transform(X_test_hd_normed)"
   ]
  },
  {
   "cell_type": "code",
   "execution_count": 94,
   "metadata": {
    "collapsed": true
   },
   "outputs": [],
   "source": [
    "def pcs_regression(n, pcs_train=pcs_train, y_train=y_train, pcs_test=pcs_test, y_test=y_test):\n",
    "    X_train = pcs_train[:, :n]\n",
    "    X_test = pcs_test[:, :n]\n",
    "    X_train = sm.add_constant(X_train)\n",
    "    X_test = sm.add_constant(X_test)\n",
    "    result = sm.OLS(y_train, X_train).fit()\n",
    "    r2_train = r2_score(y_train, result.predict(X_train))\n",
    "    r2_test = r2_score(y_test, result.predict(X_test))\n",
    "    return r2_train, r2_test"
   ]
  },
  {
   "cell_type": "code",
   "execution_count": 96,
   "metadata": {},
   "outputs": [
    {
     "name": "stdout",
     "output_type": "stream",
     "text": [
      "Using the first 1 PCA vector(s): training R^2 0.34644901150219565; test R^2 0.19449863531912115.\n",
      "Using the first 2 PCA vector(s): training R^2 0.34858219488823594; test R^2 0.18608318640226718.\n",
      "Using the first 3 PCA vector(s): training R^2 0.3681812604591641; test R^2 0.16489077461808532.\n",
      "Using the first 4 PCA vector(s): training R^2 0.38066886426280266; test R^2 0.14054504998627193.\n",
      "Using the first 5 PCA vector(s): training R^2 0.3811335019633668; test R^2 0.13789837608556077.\n"
     ]
    }
   ],
   "source": [
    "for i in range(1, 6):\n",
    "    r2 = pcs_regression(i)\n",
    "    print('Using the first {} PCA vector(s): training R^2 {}; test R^2 {}.'.format(i, r2[0], r2[1]))"
   ]
  },
  {
   "cell_type": "markdown",
   "metadata": {},
   "source": [
    "The training $R^2$ score increases as the number of PCA vectors used increases."
   ]
  },
  {
   "cell_type": "markdown",
   "metadata": {},
   "source": [
    "According to the result of test set, the first model (using the first PCA vector) is the best to predict out of sample. This model is worse than the previous models I've fit (smaller $R^2$ score). The model's coefficients indicate how the response is related to the position of data points projected to the directions which maximize the variance."
   ]
  },
  {
   "cell_type": "markdown",
   "metadata": {},
   "source": [
    "## Part (i): Beyond Squared Error\n",
    "\n",
    "We have seen in class that the multiple linear regression method optimizes the Mean Squared Error (MSE) on the training set. Consider the following alternate evaluation metric, referred to as the Root Mean Squared Logarthmic Error (RMSLE):\n",
    "\n",
    "$$\n",
    "\\sqrt{\\frac{1}{n}\\sum_{i=1}^n (log(y_i+1) - log(\\hat{y}_i+1))^2}.\n",
    "$$\n",
    "\n",
    "The *lower* the RMSLE the *better* is the performance of a model. The RMSLE penalizes errors on smaller responses more heavily than errors on larger responses. For example, the RMSLE penalizes a prediction of $\\hat{y} = 15$ for a true response of $y=10$ more heavily than a prediction of $\\hat{y} = 105$ for a true response of $100$, though the difference in predicted and true responses are the same in both cases. \n",
    "\n",
    "This is a natural evaluation metric for bike share demand prediction, as in this application, it is more important that the prediction model is accurate on days where the demand is low (so that the few customers who arrive are served satisfactorily), compared to days on which the demand is high (when it is less damaging to lose out on some customers).\n",
    "\n",
    "The following code computes the RMSLE for you:"
   ]
  },
  {
   "cell_type": "code",
   "execution_count": 22,
   "metadata": {
    "collapsed": true
   },
   "outputs": [],
   "source": [
    "#--------  rmsle\n",
    "# A function for evaluating Root Mean Squared Logarithmic Error (RMSLE)\n",
    "# of the linear regression model on a data set\n",
    "# Input: \n",
    "#      y_test (n x 1 array of response variable vals in testing data)\n",
    "#      y_pred (n x 1 array of response variable vals in testing data)\n",
    "# Return: \n",
    "#      RMSLE (float) \n",
    "\n",
    "def rmsle(y, y_pred):     \n",
    "    # Evaluate sqaured error, against target labels\n",
    "    # rmsle = \\sqrt(1/n \\sum_i (log (y[i]+1) - log (y_pred[i]+1))^2)\n",
    "    rmsle_ = np.sqrt(np.mean(np.square(np.log(y+1) - np.nan_to_num(np.log(y_pred+1)))))\n",
    "    \n",
    "    return rmsle_\n"
   ]
  },
  {
   "cell_type": "markdown",
   "metadata": {},
   "source": [
    "Use the above code to compute the training and test RMSLE for the polynomial regression model you fit in Part (g). \n",
    "\n",
    "You are required to develop a strategy to fit a regression model by optimizing the RMSLE on the training set. Give a justification for your proposed approach. Does the model fitted using your approach yield lower train RMSLE than the model in Part (g)? How about the test RMSLE of the new model? \n",
    "\n",
    "**Note:** We do not require you to implement a new regression solver for RMSLE. Instead, we ask you to think about ways to use existing built-in functions to fit a model that performs well on RMSLE. Your regression model may use the same polynomial terms used in Part (g)."
   ]
  },
  {
   "cell_type": "code",
   "execution_count": 23,
   "metadata": {
    "collapsed": true
   },
   "outputs": [],
   "source": [
    "from scipy.optimize import fmin"
   ]
  },
  {
   "cell_type": "code",
   "execution_count": 24,
   "metadata": {
    "collapsed": true
   },
   "outputs": [],
   "source": [
    "def loss_rmsle(coeff, X=X_train_poly, y=y_train):\n",
    "    return rmsle(y, np.dot(X, coeff))"
   ]
  },
  {
   "cell_type": "code",
   "execution_count": 34,
   "metadata": {},
   "outputs": [
    {
     "name": "stdout",
     "output_type": "stream",
     "text": [
      "The RMSLE on the training set for the polynomial regression model in Part (g) is 0.7214576597005674.\n"
     ]
    }
   ],
   "source": [
    "# Additional polynomial terms\n",
    "\n",
    "X_train = data_train.iloc[:, :-1].values\n",
    "y_train = data_train.iloc[:, -1].values\n",
    "\n",
    "X_test = data_test.iloc[:, :-1].values\n",
    "y_test = data_test.iloc[:, -1].values\n",
    "\n",
    "def add_poly_terms(X, inds, degree=4):\n",
    "    for ind in inds:\n",
    "        X = np.concatenate((X, np.array([X[:, ind]**i for i in range(2, degree+1)]).transpose()), axis=1)\n",
    "    return X\n",
    "\n",
    "def update_predictors(predictors, inds, degree=4):\n",
    "    for ind in inds:\n",
    "        predictors = predictors + [predictors[ind] + '^' + str(i) for i in range(2, degree+1)]\n",
    "    return predictors\n",
    "\n",
    "cp_inds = [all_predictors.index(p) for p in cp]\n",
    "X_train_poly = add_poly_terms(X_train, cp_inds)\n",
    "X_test_poly = add_poly_terms(X_test, cp_inds)\n",
    "poly_predictors = update_predictors(all_predictors, cp_inds)\n",
    "\n",
    "X_train = sm.add_constant(X_train)\n",
    "X_test = sm.add_constant(X_test)\n",
    "X_train_poly = sm.add_constant(X_train_poly)\n",
    "X_test_poly = sm.add_constant(X_test_poly)\n",
    "poly_predictors = ['const'] + poly_predictors\n",
    "\n",
    "result = sm.OLS(y_train, X_train_poly).fit()\n",
    "coeff0 = result.params\n",
    "\n",
    "print('The RMSLE on the training set for the polynomial regression model in Part (g) is {}.'.format(loss_rmsle(coeff0)))"
   ]
  },
  {
   "cell_type": "markdown",
   "metadata": {},
   "source": [
    "We replace $\\hat{y}$ no more than -1 by 0 to ensure the calculation of RMSLE. The replacement makes sense since it is reasonable to set $\\hat{y}$ to zero when the model generates negative $\\hat{y}$, which doesn't have any physical meaning and is usually rare. For the corner cases when $-1<\\hat{y}<0$, the model might be penalized heavily, which is also reasonable. "
   ]
  },
  {
   "cell_type": "markdown",
   "metadata": {},
   "source": [
    "We can use the downhill simplex algorithm to minimize RMSLE, which can be implemented by `scipy.optimize.fmin` function in python. We can use the coefficients from Part (g) as the initial guess."
   ]
  },
  {
   "cell_type": "code",
   "execution_count": 35,
   "metadata": {},
   "outputs": [
    {
     "name": "stdout",
     "output_type": "stream",
     "text": [
      "Optimization terminated successfully.\n",
      "         Current function value: 0.293973\n",
      "         Iterations: 79648\n",
      "         Function evaluations: 92545\n"
     ]
    }
   ],
   "source": [
    "# Minimize RMSLE\n",
    "\n",
    "coeff1 = fmin(loss_rmsle, coeff0, maxiter=100000)"
   ]
  },
  {
   "cell_type": "code",
   "execution_count": 36,
   "metadata": {},
   "outputs": [
    {
     "name": "stdout",
     "output_type": "stream",
     "text": [
      "The RMSLE on the training set for the polynomial regression model in Part (g) is 0.7214576597005674.\n",
      "The RMSLE on the training set for the new model is 0.29397300452636055.\n",
      "\n",
      "The RMSLE on the test set for the polynomial regression model in Part (g) is 0.857618314536147.\n",
      "The RMSLE on the test set for the new model is 0.8517121453867361.\n"
     ]
    }
   ],
   "source": [
    "print('The RMSLE on the training set for the polynomial regression model in Part (g) is {}.'.format(loss_rmsle(coeff0)))\n",
    "print('The RMSLE on the training set for the new model is {}.'.format(loss_rmsle(coeff)))\n",
    "print()\n",
    "print('The RMSLE on the test set for the polynomial regression model in Part (g) is {}.'.\\\n",
    "      format(loss_rmsle(coeff0, X_test_poly, y_test)))\n",
    "print('The RMSLE on the test set for the new model is {}.'.\\\n",
    "      format(loss_rmsle(coeff1, X_test_poly, y_test)))"
   ]
  },
  {
   "cell_type": "markdown",
   "metadata": {},
   "source": [
    "As we can see, the new model yield lower train RMSLE than the model in Part (g). And the test RMSLE of the new model is slightly lower."
   ]
  },
  {
   "cell_type": "markdown",
   "metadata": {},
   "source": [
    "## Part (j): Dealing with Erroneous Labels\n",
    "\n",
    "Due to occasional system crashes, some of the bike counts reported in the data set have been recorded manually. These counts are not very unreliable and are prone to errors. It is known that roughly 5% of the labels in the training set are erroneous (i.e. can be arbitrarily different from the true counts), while all the labels in the test set were confirmed to be accurate. Unfortunately, the identities of the erroneous records in the training set are not available. Can this information about presence of 5% errors in the training set labels (without details about the specific identities of the erroneous rows) be used to improve the performance of the model in Part (g)? Note that we are interested in improving the $R^2$ performance of the model on the test set (not the training $R^2$ score). \n",
    "\n",
    "As a final task, we require you to come up with a strategy to fit a regression model, taking into account the errors in the training set labels. Explain the intuition behind your approach (we do not expect a detailed mathematical justification). Use your approach to fit a regression model on the training set, and compare its test $R^2$ with the model in Part (g).\n",
    "\n",
    "**Note:** Again, we do not require you to implement a new regression solver for handling erroneous labels. It is sufficient that you to come up with an approach that uses existing built-in functions. Your regression model may use the same polynomial terms used in Part (g)."
   ]
  },
  {
   "cell_type": "code",
   "execution_count": 37,
   "metadata": {
    "collapsed": true
   },
   "outputs": [],
   "source": [
    "# Reload data\n",
    "# Additional polynomial terms\n",
    "\n",
    "X_train = data_train.iloc[:, :-1].values\n",
    "y_train = data_train.iloc[:, -1].values\n",
    "\n",
    "X_test = data_test.iloc[:, :-1].values\n",
    "y_test = data_test.iloc[:, -1].values\n",
    "\n",
    "def add_poly_terms(X, inds, degree=4):\n",
    "    for ind in inds:\n",
    "        X = np.concatenate((X, np.array([X[:, ind]**i for i in range(2, degree+1)]).transpose()), axis=1)\n",
    "    return X\n",
    "\n",
    "def update_predictors(predictors, inds, degree=4):\n",
    "    for ind in inds:\n",
    "        predictors = predictors + [predictors[ind] + '^' + str(i) for i in range(2, degree+1)]\n",
    "    return predictors\n",
    "\n",
    "cp_inds = [all_predictors.index(p) for p in cp]\n",
    "X_train_poly = add_poly_terms(X_train, cp_inds)\n",
    "X_test_poly = add_poly_terms(X_test, cp_inds)\n",
    "poly_predictors = update_predictors(all_predictors, cp_inds)\n",
    "\n",
    "X_train = sm.add_constant(X_train)\n",
    "X_test = sm.add_constant(X_test)\n",
    "X_train_poly = sm.add_constant(X_train_poly)\n",
    "X_test_poly = sm.add_constant(X_test_poly)\n",
    "poly_predictors = ['const'] + poly_predictors\n",
    "\n",
    "result = sm.OLS(y_train, X_train_poly).fit()\n",
    "coeff0 = result.params"
   ]
  },
  {
   "cell_type": "markdown",
   "metadata": {},
   "source": [
    "We assume the erroneous records usually deviate more from its predicted value (generated by the correct model) than the correct records , and can thus approximate the identities of the erroneous records by those with top 5% highest standard error. Instead of minimizing RMSLE, we minimize a modified RMSLE which excludes data points with top 5% highest standard error (we calculate the absolute residues to find the data points to be excluded). Again, we can use numerical method (`scipy.optimize.fmin`) to minimize the modified RMSLE."
   ]
  },
  {
   "cell_type": "code",
   "execution_count": 38,
   "metadata": {
    "collapsed": true
   },
   "outputs": [],
   "source": [
    "def rmsle_mod(y, y_pred, thres=0.05):    \n",
    "    '''Returen RMSLE of the dataset excluding thres*100% data points with largest absolute residues'''\n",
    "    r_abs = np.abs(y - y_pred)\n",
    "    keep_ind = r_abs.argsort()[:int(len(r_abs)*(1-thres))]\n",
    "    rmsle_ = np.sqrt(np.mean(np.square(np.log(y[keep_ind]+1) - np.nan_to_num(np.log(y_pred[keep_ind]+1)))))\n",
    "    \n",
    "    return rmsle_\n",
    "\n",
    "def loss_rmsle_mod(coeff, X=X_train_poly, y=y_train, thres=0.05):\n",
    "    return rmsle_mod(y, np.dot(X, coeff), thres)\n"
   ]
  },
  {
   "cell_type": "code",
   "execution_count": 39,
   "metadata": {},
   "outputs": [
    {
     "name": "stdout",
     "output_type": "stream",
     "text": [
      "Optimization terminated successfully.\n",
      "         Current function value: 0.253878\n",
      "         Iterations: 33503\n",
      "         Function evaluations: 40357\n"
     ]
    }
   ],
   "source": [
    "coeff2 = fmin(loss_rmsle_mod, coeff0, maxiter=100000)"
   ]
  },
  {
   "cell_type": "code",
   "execution_count": 43,
   "metadata": {},
   "outputs": [
    {
     "name": "stdout",
     "output_type": "stream",
     "text": [
      "The RMSLE on the test set for the polynomial regression model in Part (g) is 0.857618314536147.\n",
      "The RMSLE on the test set for the polynomial regression model in Part (i) is 0.8517121453867361.\n",
      "The RMSLE on the test set for the polynomial regression model in this part is 0.7936239647423046.\n",
      "\n",
      "The R^2 score on the test set for the polynomial regression model in Part (g) is 0.27723843508615176.\n",
      "The R^2 score on the test set for the polynomial regression model in Part (i) is 0.17855584897706012.\n",
      "The R^2 score on the test set for the polynomial regression model in this part is 0.2800779317306492.\n"
     ]
    }
   ],
   "source": [
    "print('The RMSLE on the test set for the polynomial regression model in Part (g) is {}.'.\\\n",
    "      format(loss_rmsle(coeff0, X_test_poly, y_test)))\n",
    "print('The RMSLE on the test set for the polynomial regression model in Part (i) is {}.'.\\\n",
    "      format(loss_rmsle(coeff1, X_test_poly, y_test)))\n",
    "print('The RMSLE on the test set for the polynomial regression model in this part is {}.'.\\\n",
    "      format(loss_rmsle(coeff2, X_test_poly, y_test)))\n",
    "print()\n",
    "print('The R^2 score on the test set for the polynomial regression model in Part (g) is {}.'.\\\n",
    "      format(r2_score(y_test, np.dot(X_test_poly, coeff0))))\n",
    "print('The R^2 score on the test set for the polynomial regression model in Part (i) is {}.'.\\\n",
    "      format(r2_score(y_test, np.dot(X_test_poly, coeff1))))\n",
    "print('The R^2 score on the test set for the polynomial regression model in this part is {}.'.\\\n",
    "      format(r2_score(y_test, np.dot(X_test_poly, coeff2))))"
   ]
  },
  {
   "cell_type": "markdown",
   "metadata": {},
   "source": [
    "As we can see, the RMSLE for the model excluding training data points with top 5% highest standard error is smaller than the polynomial regression model in Part (g) and (i); the $R^2$ score is higher than the model in Part (g) and (i), indicating the perfomance is better for the model using this strategy."
   ]
  },
  {
   "cell_type": "markdown",
   "metadata": {},
   "source": [
    "---\n",
    "--_"
   ]
  },
  {
   "cell_type": "markdown",
   "metadata": {},
   "source": [
    "# APCOMP209a - Homework Question"
   ]
  },
  {
   "cell_type": "markdown",
   "metadata": {},
   "source": [
    "\n",
    "\n",
    "##  Question 1: Student's t MLE\n",
    "\n",
    "Use Maximum Likelihood Estimation to generate a linear regression model on the data provided in ``beerdata.csv`` considering two statistical models for noise: a) iid Normal and b) iid Student's t-distribution with $\\nu=5$ and scale factor σ=0.5.  \n",
    "\n",
    "Compare the two models performances and comment why it is perhaps appropriate to use the Student's t-distribution instead of the Normal? \n",
    "\n",
    "\n",
    "\n",
    "\n",
    "\n",
    "HINTS:\n",
    "1. Use the probability density function for the Student's t distribution  with location μ and scale factor σ.\n",
    "2. If the MLE regressions coefficients can not be derived analytically consider numerical methods.\n",
    "3. You can use sklearn or statsmodel for the Normal case \n",
    "\n",
    "\n"
   ]
  },
  {
   "cell_type": "markdown",
   "metadata": {},
   "source": [
    "## Question 2 (continued from HW2) \n",
    "\n",
    "Read sections 1 and 2 of this [paper](https://www.researchgate.net/profile/Roberto_Togneri/publication/45094554_Linear_Regression_for_Face_Recognition/links/09e4150d243bd8b987000000/Linear-Regression-for-Face-Recognition.pdf). \n",
    "\n",
    "Briefly, the model leverages the concept that \"patterns from a single-object class lie on a linear subspace.\"   It also makes use of the idea of linear regression as a problem about projections.  In this case, given a vector $y$, the goal is to find the subspace induced by $\\mathrm{Col} \\, \\mathbf X$ that produced the 'closest' projection vector $\\widehat y$ to the original $y$.  \n",
    "\n",
    "### Question 2a\n",
    "\n",
    "As discussed in the paper, our face dataset contains cleaned images of faces belonging to different people. Assuming that patterns (faces) from one class (person) are elements of the same subspace, let's try to classify an unknown face using the method presented in the paper.  For each class $i$, we need to:\n",
    "\n",
    "1. construct the $\\mathbf H_i$ hat matrix from known faces, being careful to follow the column concatenation step described in the paper to convert an image into its vector representation;\n",
    "2. calculate the predicted $\\widehat y_i$, the closest vector in $\\mathrm{Col} \\, \\mathbf X_i$ to $y$; and\n",
    "3. calculate the magnitude of the difference vector between $y$ and $\\widehat y_i$.\n",
    "\n",
    "You should then be able to make a classification decision.\n",
    "\n",
    "**Notes:**\n",
    "- Use the provided code to download and re-sample the dataset.\n",
    "- Follow the normalisation step in the paper to ensure the \"maximum pixel value is 1\".\n",
    "- Your classifier should have approximately an 80% accuracy.\n",
    "- Use the image plotting library of matplotlib to display one (or two) correctly classified faces and the known faces.\n",
    "- Use the image plotting library of matplotlib to display one (or two) incorrectly classified faces and the known faces.\n",
    "    \n",
    "### Question 2b - Significant Faces\n",
    "Select an example of a correctly classified face. Use statsmodels to investigate the most predictive columns (faces) that the model used in this regression:\n",
    "\n",
    "(i) Which columns (i.e. faces) make the highest contribution to the projection?\n",
    "\n",
    "(ii) Which columns (i.e. faces) are the least useful in making this projection?\n",
    "\n",
    "Plot the correctly assigned face, and the two faces from the questions (i) and (ii). What do you notice about these faces?"
   ]
  },
  {
   "cell_type": "code",
   "execution_count": 6,
   "metadata": {
    "collapsed": true
   },
   "outputs": [],
   "source": [
    "from io import BytesIO\n",
    "from zipfile import ZipFile\n",
    "import urllib\n",
    "import os\n",
    "\n",
    "# Note that you may need to run the following command to install Python Image Library (PIL)\n",
    "#pip install Pillow\n",
    "from PIL import Image\n",
    "import numpy as np\n",
    "from sklearn.cross_validation import train_test_split\n",
    "\n",
    "import matplotlib\n",
    "import matplotlib.pyplot as plt\n",
    "\n",
    "%matplotlib inline"
   ]
  },
  {
   "cell_type": "code",
   "execution_count": 7,
   "metadata": {
    "collapsed": true
   },
   "outputs": [],
   "source": [
    "# starter functions provided to students\n",
    "def rgb2gray(rgb):\n",
    "    '''\n",
    "    function to convert RGB image to gray scale\n",
    "    accepts 3D numpy array and returns 2D array with same dimensions\n",
    "    as the first two dimensions of input\n",
    "    '''\n",
    "    \n",
    "    return np.dot(rgb[...,:3], [0.299, 0.587, 0.114])\n",
    "\n",
    "def fetch_and_read_data(shape=(50,30)):\n",
    "    \n",
    "    '''\n",
    "    Function to download image data, store in a local folder (note this is 18.4mb), only download the data when\n",
    "    the local folder is not present, read in the images, downsample them to the specified shape (default = (50x30) (rows x cols))\n",
    "    and finally split them into a four tuple return object.\n",
    "    \n",
    "    Returns:\n",
    "        - 1) training image data (i.e. images that should form the predictor matrix in your solution)\n",
    "        - 2) training image data labels (i.e. labels from 1 to 50 that identify which face (1) belongs to)\n",
    "        - 3) testing image data (i.e. data that you should use to try and classify - note this forms the predictor variable in your regression)\n",
    "        - 4) testing image data labels (i.e. the labels for (3) - this is to allow you to evaluate your model)\n",
    "    \n",
    "    ___________________\n",
    "    Aside:\n",
    "    If you want to change the sampling dimensions of your data, pass the shape = (x,y) argument to the method where\n",
    "    y is the number of columns and x is the number of rows in the image.\n",
    "    '''\n",
    "    \n",
    "    if not os.path.exists('./cropped_faces'):\n",
    "        url = urllib.request.urlopen(\"http://www.anefian.com/research/GTdb_crop.zip\")\n",
    "        \n",
    "        zipfile = ZipFile(BytesIO(url.read()))\n",
    "        zipfile.extractall()\n",
    "     \n",
    "    data = []\n",
    "    labels = []\n",
    "    \n",
    "    files = os.listdir('cropped_faces')\n",
    "    for f in files:\n",
    "        if '.jpg' in f:\n",
    "            image = Image.open('cropped_faces/' + f)\n",
    "            image = image.resize((shape[1], shape[0]))\n",
    "            data.append(rgb2gray(np.asarray(image)))\n",
    "            labels.append(int(f.split('_')[0][1:]) - 1)\n",
    "            \n",
    "    data = np.array(data)\n",
    "    \n",
    "    trainX, testX, trainY, testY = train_test_split(data, labels, test_size=0.2, stratify=labels)\n",
    "    return np.array(trainX), np.array(testX), np.array(trainY), np.array(testY)"
   ]
  },
  {
   "cell_type": "code",
   "execution_count": 8,
   "metadata": {},
   "outputs": [
    {
     "data": {
      "image/png": "[encoded data removed]",
      "text/plain": [
       "<matplotlib.figure.Figure at 0x10d663630>"
      ]
     },
     "metadata": {},
     "output_type": "display_data"
    }
   ],
   "source": [
    "# starter code for the students\n",
    "train_dataset, test_dataset, train_labels, test_labels = fetch_and_read_data()\n",
    "\n",
    "# code to plot some of the images\n",
    "fig, axes = plt.subplots(2,4,figsize=(10,5))\n",
    "axes = axes.flatten()\n",
    "[axes[i].imshow(train_dataset[i], cmap='gray') for i in range(len(axes))]\n",
    "plt.show()"
   ]
  },
  {
   "cell_type": "code",
   "execution_count": null,
   "metadata": {
    "collapsed": true
   },
   "outputs": [],
   "source": []
  }
 ],
 "metadata": {
  "anaconda-cloud": {},
  "kernelspec": {
   "display_name": "Python 3",
   "language": "python",
   "name": "python3"
  },
  "language_info": {
   "codemirror_mode": {
    "name": "ipython",
    "version": 3
   },
   "file_extension": ".py",
   "mimetype": "text/x-python",
   "name": "python",
   "nbconvert_exporter": "python",
   "pygments_lexer": "ipython3",
   "version": "3.6.1"
  }
 },
 "nbformat": 4,
 "nbformat_minor": 1
}
