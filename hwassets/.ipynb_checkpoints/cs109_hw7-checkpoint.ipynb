{
 "cells": [
  {
   "cell_type": "markdown",
   "metadata": {},
   "source": [
    "# CS 109A/STAT 121A/AC 209A/CSCI E-109A: Homework 7\n",
    "# LDA/QDA and Decision Trees\n",
    "\n",
    "**Harvard University**<br/>\n",
    "**Fall 2017**<br/>\n",
    "**Instructors**: Pavlos Protopapas, Kevin Rader, Rahul Dave, Margo Levine\n",
    "\n",
    "---\n",
    "\n",
    "### INSTRUCTIONS\n",
    "\n",
    "- To submit your assignment follow the instructions given in canvas.\n",
    "- Restart the kernel and run the whole notebook again before you submit. \n",
    "- Do not include your name(s) in the notebook if you are submitting as a group. \n",
    "- If you submit individually and you have worked with someone, please include the name of your [one] partner below. \n",
    "\n",
    "---"
   ]
  },
  {
   "cell_type": "markdown",
   "metadata": {},
   "source": [
    "Your partner's name (if you submit separately):\n",
    "\n",
    "Enrollment Status (109A, 121A, 209A, or E109A):"
   ]
  },
  {
   "cell_type": "markdown",
   "metadata": {},
   "source": [
    "Import libraries:"
   ]
  },
  {
   "cell_type": "code",
   "execution_count": 1,
   "metadata": {
    "collapsed": true
   },
   "outputs": [],
   "source": [
    "import numpy as np\n",
    "import pandas as pd\n",
    "import matplotlib\n",
    "import matplotlib.pyplot as plt\n",
    "from sklearn.linear_model import LogisticRegressionCV\n",
    "import sklearn.metrics as metrics\n",
    "from sklearn.preprocessing import PolynomialFeatures\n",
    "from sklearn.discriminant_analysis import LinearDiscriminantAnalysis\n",
    "from sklearn.discriminant_analysis import QuadraticDiscriminantAnalysis\n",
    "from sklearn.neighbors import KNeighborsClassifier\n",
    "from sklearn.tree import DecisionTreeClassifier\n",
    "from sklearn.model_selection import cross_val_score\n",
    "from sklearn.metrics import accuracy_score\n",
    "#import pydotplus\n",
    "#import io\n",
    "from sklearn.tree import export_graphviz\n",
    "from IPython.display import Image\n",
    "from IPython.display import display\n",
    "%matplotlib inline"
   ]
  },
  {
   "cell_type": "markdown",
   "metadata": {},
   "source": [
    "\n",
    "## Multiclass Thyroid Classification\n",
    "\n",
    "In this problem, you will build a model for diagnosing disorders in a patient's thyroid gland. Given the results of medical tests on a patient, the task is to classify the patient either as:\n",
    "- *normal* (class 1)\n",
    "- having *hyperthyroidism* (class 2)\n",
    "- or having *hypothyroidism* (class 3). \n",
    "\n",
    "The data set is provided in the file `hw7_dataset.csv`. Columns 1-2 contain biomarkers for a patient (predictors):\n",
    "- Biomarker 1: (Logarithm of) level of basal thyroid-stimulating hormone (TSH) as measured by radioimmuno assay\n",
    "- Biomarker 2: (Logarithm of) maximal absolute difference of TSH value after injection of 200 micro grams of thyrotropin-releasing hormone as compared to the basal value.\n",
    "\n",
    "The last column contains the diagnosis for the patient from a medical expert. This data set was obtained from the UCI machine learning repository.\n",
    "\n",
    "Notice that unlike previous exercises, the task at hand is a 3-class classification problem. We will explore the use of different methods for multiclass classification.\n",
    "\n",
    "First task: split the data using the following code:"
   ]
  },
  {
   "cell_type": "code",
   "execution_count": 2,
   "metadata": {
    "collapsed": true
   },
   "outputs": [],
   "source": [
    "np.random.seed(9001)\n",
    "df = pd.read_csv('data/hw7_dataset.csv')\n",
    "msk = np.random.rand(len(df)) < 0.5\n",
    "data_train = df[msk]\n",
    "data_test = df[~msk]"
   ]
  },
  {
   "cell_type": "code",
   "execution_count": 3,
   "metadata": {},
   "outputs": [
    {
     "data": {
      "text/html": [
       "<div>\n",
       "<style>\n",
       "    .dataframe thead tr:only-child th {\n",
       "        text-align: right;\n",
       "    }\n",
       "\n",
       "    .dataframe thead th {\n",
       "        text-align: left;\n",
       "    }\n",
       "\n",
       "    .dataframe tbody tr th {\n",
       "        vertical-align: top;\n",
       "    }\n",
       "</style>\n",
       "<table border=\"1\" class=\"dataframe\">\n",
       "  <thead>\n",
       "    <tr style=\"text-align: right;\">\n",
       "      <th></th>\n",
       "      <th>Biomarker 1</th>\n",
       "      <th>Biomarker 2</th>\n",
       "      <th>Diagnosis</th>\n",
       "    </tr>\n",
       "  </thead>\n",
       "  <tbody>\n",
       "    <tr>\n",
       "      <th>0</th>\n",
       "      <td>0.262372</td>\n",
       "      <td>0.875473</td>\n",
       "      <td>1.0</td>\n",
       "    </tr>\n",
       "    <tr>\n",
       "      <th>1</th>\n",
       "      <td>0.693152</td>\n",
       "      <td>0.262372</td>\n",
       "      <td>1.0</td>\n",
       "    </tr>\n",
       "    <tr>\n",
       "      <th>2</th>\n",
       "      <td>0.262372</td>\n",
       "      <td>0.405472</td>\n",
       "      <td>1.0</td>\n",
       "    </tr>\n",
       "    <tr>\n",
       "      <th>3</th>\n",
       "      <td>-0.105349</td>\n",
       "      <td>1.064714</td>\n",
       "      <td>1.0</td>\n",
       "    </tr>\n",
       "    <tr>\n",
       "      <th>4</th>\n",
       "      <td>0.000010</td>\n",
       "      <td>1.131405</td>\n",
       "      <td>1.0</td>\n",
       "    </tr>\n",
       "  </tbody>\n",
       "</table>\n",
       "</div>"
      ],
      "text/plain": [
       "   Biomarker 1  Biomarker 2  Diagnosis\n",
       "0     0.262372     0.875473        1.0\n",
       "1     0.693152     0.262372        1.0\n",
       "2     0.262372     0.405472        1.0\n",
       "3    -0.105349     1.064714        1.0\n",
       "4     0.000010     1.131405        1.0"
      ]
     },
     "execution_count": 3,
     "metadata": {},
     "output_type": "execute_result"
    }
   ],
   "source": [
    "df.head()"
   ]
  },
  {
   "cell_type": "markdown",
   "metadata": {},
   "source": [
    "## Question 1: Fit Classification Models\n",
    "\n",
    "1. Generate a 2D scatter plot of the training set, denoting each class with a different color. Does it appear that the data points can be separated well by a linear classifier?\n",
    "\n",
    "2. Briefly explain the difference between multinomial logistic regression and one-vs-rest (OvR) logistic regression methods for fitting a multiclass classifier (in 2-3 sentences).\n",
    "\n",
    "3. Fit linear classification models on the thyroid data set using both the methods.  You should use $L_2$ regularization in both cases, tuning the regularization parameter using cross-validation.  Is there a difference in the overall classification accuracy of the two methods on the training and test sets?\n",
    "\n",
    "4. Also, compare the training and test accuracies of these models with the following classification methods:\n",
    "    - Multiclass Logistic Regression with quadratic terms \n",
    "    - Linear Discriminant Analysis\n",
    "    - Quadratic Discriminant Analysis\n",
    "    - k-Nearest Neighbors\n",
    "    <br>\n",
    "*Note:* you may use either the OvR or multinomial variant for the multiclass logistic regression (with $L_2$ regularization). Do not forget to use cross-validation to choose the regularization parameter, and also the number of neighbors in k-NN. \n",
    "\n",
    "5. Does the inclusion of the polynomial terms in logistic regression yield better test accuracy compared to the model with only linear terms? \n",
    "\n",
    "\n",
    "*Hint:* You may use the `KNeighborsClassifier` class to fit a k-NN classification model."
   ]
  },
  {
   "cell_type": "code",
   "execution_count": 4,
   "metadata": {},
   "outputs": [
    {
     "data": {
      "image/png": "[encoded data removed]",
      "text/plain": [
       "<matplotlib.figure.Figure at 0x11bc311d0>"
      ]
     },
     "metadata": {},
     "output_type": "display_data"
    }
   ],
   "source": [
    "for i in range(1,4):\n",
    "    x_temp = data_train[data_train.Diagnosis == i]['Biomarker 1']\n",
    "    y_temp = data_train[data_train.Diagnosis == i]['Biomarker 2']\n",
    "    plt.scatter(x_temp, y_temp, label = i)\n",
    "    plt.legend()"
   ]
  },
  {
   "cell_type": "markdown",
   "metadata": {},
   "source": [
    "Multinomial logistic relies on the (not always realistic) assumption of independence of irrelevant alternatives whereas a series of binary logistic predictions does not.\n",
    "But the complexity of ovr would be higher, since it needs to do logistic regression for n times(n : number of classes)."
   ]
  },
  {
   "cell_type": "code",
   "execution_count": 5,
   "metadata": {
    "collapsed": true
   },
   "outputs": [],
   "source": [
    "from sklearn.preprocessing import StandardScaler\n",
    "\n",
    "X_train = data_train.iloc[:, :-1].values\n",
    "y_train = data_train.iloc[:, -1].values\n",
    "X_test = data_test.iloc[:, :-1].values\n",
    "y_test = data_test.iloc[:, -1].values\n",
    "\n",
    "# Standardize\n",
    "\n",
    "scaler = StandardScaler().fit(X_train)\n",
    "X_train = scaler.transform(X_train)\n",
    "X_test = scaler.transform(X_test)"
   ]
  },
  {
   "cell_type": "code",
   "execution_count": 6,
   "metadata": {},
   "outputs": [
    {
     "data": {
      "text/plain": [
       "(102, 2)"
      ]
     },
     "execution_count": 6,
     "metadata": {},
     "output_type": "execute_result"
    }
   ],
   "source": [
    "X_train.shape"
   ]
  },
  {
   "cell_type": "code",
   "execution_count": 7,
   "metadata": {},
   "outputs": [
    {
     "data": {
      "text/plain": [
       "LogisticRegressionCV(Cs=10, class_weight=None, cv=None, dual=False,\n",
       "           fit_intercept=True, intercept_scaling=1.0, max_iter=100,\n",
       "           multi_class='multinomial', n_jobs=1, penalty='l2',\n",
       "           random_state=None, refit=True, scoring=None, solver='lbfgs',\n",
       "           tol=0.0001, verbose=0)"
      ]
     },
     "execution_count": 7,
     "metadata": {},
     "output_type": "execute_result"
    }
   ],
   "source": [
    "clf_multi = LogisticRegressionCV(multi_class='multinomial')\n",
    "clf_multi.fit(X_train, y_train)"
   ]
  },
  {
   "cell_type": "code",
   "execution_count": 8,
   "metadata": {},
   "outputs": [
    {
     "data": {
      "text/plain": [
       "0.89215686274509809"
      ]
     },
     "execution_count": 8,
     "metadata": {},
     "output_type": "execute_result"
    }
   ],
   "source": [
    "accuracy_score(clf_multi.predict(X_train), y_train)"
   ]
  },
  {
   "cell_type": "code",
   "execution_count": 9,
   "metadata": {
    "collapsed": true
   },
   "outputs": [],
   "source": [
    "y_pred = clf_multi.predict(X_test)"
   ]
  },
  {
   "cell_type": "code",
   "execution_count": 10,
   "metadata": {},
   "outputs": [
    {
     "data": {
      "text/plain": [
       "0.88495575221238942"
      ]
     },
     "execution_count": 10,
     "metadata": {},
     "output_type": "execute_result"
    }
   ],
   "source": [
    "accuracy_score(y_pred, y_test)"
   ]
  },
  {
   "cell_type": "code",
   "execution_count": 11,
   "metadata": {},
   "outputs": [
    {
     "data": {
      "text/plain": [
       "LogisticRegressionCV(Cs=10, class_weight=None, cv=None, dual=False,\n",
       "           fit_intercept=True, intercept_scaling=1.0, max_iter=100,\n",
       "           multi_class='ovr', n_jobs=1, penalty='l2', random_state=None,\n",
       "           refit=True, scoring=None, solver='lbfgs', tol=0.0001, verbose=0)"
      ]
     },
     "execution_count": 11,
     "metadata": {},
     "output_type": "execute_result"
    }
   ],
   "source": [
    "clf_ovr = LogisticRegressionCV(multi_class='ovr')\n",
    "clf_ovr.fit(X_train, y_train)"
   ]
  },
  {
   "cell_type": "code",
   "execution_count": 12,
   "metadata": {},
   "outputs": [
    {
     "data": {
      "text/plain": [
       "0.87254901960784315"
      ]
     },
     "execution_count": 12,
     "metadata": {},
     "output_type": "execute_result"
    }
   ],
   "source": [
    "accuracy_score(clf_ovr.predict(X_train), y_train)"
   ]
  },
  {
   "cell_type": "code",
   "execution_count": 13,
   "metadata": {},
   "outputs": [
    {
     "data": {
      "text/plain": [
       "0.86725663716814161"
      ]
     },
     "execution_count": 13,
     "metadata": {},
     "output_type": "execute_result"
    }
   ],
   "source": [
    "accuracy_score(clf_ovr.predict(X_test), y_test)"
   ]
  },
  {
   "cell_type": "markdown",
   "metadata": {},
   "source": [
    "Multiclass logistic regression has better performance on both training and testing set."
   ]
  },
  {
   "cell_type": "code",
   "execution_count": 14,
   "metadata": {},
   "outputs": [
    {
     "name": "stdout",
     "output_type": "stream",
     "text": [
      "accuracy 0.8823529411764706 for mlr in training set\n",
      "accuracy 0.8761061946902655 for mlr in testing set\n",
      "accuracy 0.8725490196078431 for lda in training set\n",
      "accuracy 0.831858407079646 for lda in testing set\n",
      "accuracy 0.8725490196078431 for qda in training set\n",
      "accuracy 0.8495575221238938 for qda in testing set\n",
      "accuracy 0.9117647058823529 for knn in training set\n",
      "accuracy 0.8495575221238938 for knn in testing set\n"
     ]
    }
   ],
   "source": [
    "#Multiclass Logistic Regression with quadratic terms\n",
    "X_train_new = PolynomialFeatures(2).fit_transform(X_train)\n",
    "X_test_new = PolynomialFeatures(2).fit_transform(X_test)\n",
    "clf_q = LogisticRegressionCV(multi_class='multinomial')\n",
    "clf_q.fit(X_train_new, y_train)\n",
    "\n",
    "print(\"accuracy {} for mlr in training set\". format(accuracy_score(clf_q.predict(X_train_new), y_train)))\n",
    "print(\"accuracy {} for mlr in testing set\". format(accuracy_score(clf_q.predict(X_test_new), y_test)))\n",
    "\n",
    "#Linear Discriminant Analysis & quadratic Discriminant Analysis\n",
    "lda = LinearDiscriminantAnalysis()\n",
    "qda = QuadraticDiscriminantAnalysis()\n",
    "lda.fit(X_train,y_train)\n",
    "qda.fit(X_train,y_train)\n",
    "\n",
    "print(\"accuracy {} for lda in training set\". format(accuracy_score(lda.predict(X_train), y_train)))\n",
    "print(\"accuracy {} for lda in testing set\". format(accuracy_score(lda.predict(X_test), y_test)))\n",
    "print(\"accuracy {} for qda in training set\". format(accuracy_score(qda.predict(X_train), y_train)))\n",
    "print(\"accuracy {} for qda in testing set\". format(accuracy_score(qda.predict(X_test), y_test)))\n",
    "\n",
    "msk = np.random.rand(len(X_train)) < 0.7\n",
    "X_train_new = X_train[msk]\n",
    "X_cv_new = X_train[~msk]\n",
    "y_train_new = y_train[msk]\n",
    "y_cv_new = y_train[~msk]\n",
    "\n",
    "#k-Nearest Neighbors \n",
    "k_ls = np.arange(2, 50)\n",
    "score = 0\n",
    "best = 0\n",
    "for k in k_ls:\n",
    "    knn = KNeighborsClassifier(k)\n",
    "    knn.fit(X_train_new,y_train_new)\n",
    "    if score < accuracy_score(knn.predict(X_cv_new), y_cv_new):\n",
    "        score = accuracy_score(knn.predict(X_cv_new), y_cv_new)\n",
    "        best = k\n",
    "\n",
    "knn = KNeighborsClassifier(best)\n",
    "knn.fit(X_train,y_train)        \n",
    "print(\"accuracy {} for knn in training set\". format(accuracy_score(knn.predict(X_train), y_train)))\n",
    "print(\"accuracy {} for knn in testing set\". format(accuracy_score(knn.predict(X_test), y_test)))"
   ]
  },
  {
   "cell_type": "markdown",
   "metadata": {},
   "source": [
    "## Question 2: Visualize Decision Boundaries\n",
    "\n",
    "The following code will allow you to visualize the decision boundaries of a given classification model."
   ]
  },
  {
   "cell_type": "code",
   "execution_count": 15,
   "metadata": {
    "collapsed": true
   },
   "outputs": [],
   "source": [
    "#--------  plot_decision_boundary\n",
    "# A function that visualizes the data and the decision boundaries\n",
    "# Input: \n",
    "#      x (predictors)\n",
    "#      y (labels)\n",
    "#      model (the classifier you want to visualize)\n",
    "#      title (title for plot)\n",
    "#      ax (a set of axes to plot on)\n",
    "#      poly_degree (highest degree of polynomial terms included in the model; None by default)\n",
    "\n",
    "def plot_decision_boundary(x, y, model, title, ax, poly_degree=None):\n",
    "    # Create mesh\n",
    "    # Interval of points for biomarker 1\n",
    "    min0 = x[:,0].min()\n",
    "    max0 = x[:,0].max()\n",
    "    interval0 = np.arange(min0, max0, (max0-min0)/100)\n",
    "    n0 = np.size(interval0)\n",
    "    \n",
    "    # Interval of points for biomarker 2\n",
    "    min1 = x[:,1].min()\n",
    "    max1 = x[:,1].max()\n",
    "    interval1 = np.arange(min1, max1, (max1-min1)/100)\n",
    "    n1 = np.size(interval1)\n",
    "\n",
    "    # Create mesh grid of points\n",
    "    x1, x2 = np.meshgrid(interval0, interval1)\n",
    "    x1 = x1.reshape(-1,1)\n",
    "    x2 = x2.reshape(-1,1)\n",
    "    xx = np.concatenate((x1, x2), axis=1)\n",
    "\n",
    "    # Predict on mesh of points\n",
    "    # Check if polynomial terms need to be included\n",
    "    if(poly_degree!=None):\n",
    "        # Use PolynomialFeatures to generate polynomial terms\n",
    "        poly = PolynomialFeatures(poly_degree)\n",
    "        xx_ = poly.fit_transform(xx)\n",
    "        yy = model.predict(xx_) \n",
    "    else:   \n",
    "        yy = model.predict(xx)\n",
    "        \n",
    "    yy = yy.reshape((n0, n1))\n",
    "\n",
    "    # Plot decision surface\n",
    "    x1 = x1.reshape(n0, n1)\n",
    "    x2 = x2.reshape(n0, n1)\n",
    "    ax.contourf(x1, x2, yy, cmap=plt.cm.coolwarm, alpha=0.8)\n",
    "    \n",
    "    # Plot scatter plot of data\n",
    "    yy = y.reshape(-1,)\n",
    "    ax.scatter(x[yy==1,0], x[yy==1,1], c='blue', label='Normal', cmap=plt.cm.coolwarm)\n",
    "    ax.scatter(x[yy==2,0], x[yy==2,1], c='cyan', label='Hyper', cmap=plt.cm.coolwarm)\n",
    "    ax.scatter(x[yy==3,0], x[yy==3,1], c='red', label='Hypo', cmap=plt.cm.coolwarm)\n",
    "    \n",
    "    # Label axis, title\n",
    "    ax.set_title(title)\n",
    "    ax.set_xlabel('Biomarker 1')\n",
    "    ax.set_ylabel('Biomarker 2')"
   ]
  },
  {
   "cell_type": "markdown",
   "metadata": {},
   "source": [
    "**Note:** The provided code uses `sklearn`'s `PolynomialFeatures` to generate higher-order polynomial terms, with degree `poly_degree`. \n",
    "Also, if you have loaded the data sets into `pandas` data frames, you may use the `as_matrix` function to obtain a `numpy` array from the data frame objects.\n",
    "\n",
    "1. Use the above code to visualize the decision boundaries for each of the model fitted in the previous part.\n",
    "2. Comment on the difference in the decision boundaries (if any) for the OvR and multinomial logistic regression models. Is there a difference between the decision boundaries for the linear logistic regression models and LDA. What about the decision boundaries for the quadratic logistic regression and QDA? Give an explanation for your answer."
   ]
  },
  {
   "cell_type": "code",
   "execution_count": 16,
   "metadata": {},
   "outputs": [
    {
     "data": {
      "image/png": "[encoded data removed]",
      "text/plain": [
       "<matplotlib.figure.Figure at 0x11f0b3ac8>"
      ]
     },
     "metadata": {},
     "output_type": "display_data"
    }
   ],
   "source": [
    "fig = plt.figure()\n",
    "ax1 = fig.add_subplot(111)\n",
    "plot_decision_boundary(X_test, y_test, clf_multi, 'multiclass_multinomial_linear', ax1, poly_degree=None)"
   ]
  },
  {
   "cell_type": "code",
   "execution_count": 17,
   "metadata": {},
   "outputs": [
    {
     "data": {
      "image/png": "[encoded data removed]",
      "text/plain": [
       "<matplotlib.figure.Figure at 0x11f2d5198>"
      ]
     },
     "metadata": {},
     "output_type": "display_data"
    }
   ],
   "source": [
    "fig = plt.figure()\n",
    "ax1 = fig.add_subplot(111)\n",
    "plot_decision_boundary(X_test, y_test, clf_ovr, 'multiclass_ovr', ax1, poly_degree=None)"
   ]
  },
  {
   "cell_type": "code",
   "execution_count": 18,
   "metadata": {},
   "outputs": [
    {
     "data": {
      "image/png": "[encoded data removed]",
      "text/plain": [
       "<matplotlib.figure.Figure at 0x11f035390>"
      ]
     },
     "metadata": {},
     "output_type": "display_data"
    }
   ],
   "source": [
    "fig = plt.figure()\n",
    "ax1 = fig.add_subplot(111)\n",
    "plot_decision_boundary(X_test, y_test, clf_q, 'multiclass_multinomial_quadratic', ax1, poly_degree=2)"
   ]
  },
  {
   "cell_type": "code",
   "execution_count": 19,
   "metadata": {},
   "outputs": [
    {
     "data": {
      "image/png": "[encoded data removed]",
      "text/plain": [
       "<matplotlib.figure.Figure at 0x11f3bc940>"
      ]
     },
     "metadata": {},
     "output_type": "display_data"
    }
   ],
   "source": [
    "fig = plt.figure()\n",
    "ax1 = fig.add_subplot(111)\n",
    "plot_decision_boundary(X_test, y_test, lda, 'lda', ax1, poly_degree=None)"
   ]
  },
  {
   "cell_type": "code",
   "execution_count": 20,
   "metadata": {},
   "outputs": [
    {
     "data": {
      "image/png": "[encoded data removed]",
      "text/plain": [
       "<matplotlib.figure.Figure at 0x11fed75c0>"
      ]
     },
     "metadata": {},
     "output_type": "display_data"
    }
   ],
   "source": [
    "fig = plt.figure()\n",
    "ax1 = fig.add_subplot(111)\n",
    "plot_decision_boundary(X_test, y_test, qda, 'qda', ax1, poly_degree=None)"
   ]
  },
  {
   "cell_type": "code",
   "execution_count": 21,
   "metadata": {},
   "outputs": [
    {
     "data": {
      "image/png": "[encoded data removed]",
      "text/plain": [
       "<matplotlib.figure.Figure at 0x11f3f8ba8>"
      ]
     },
     "metadata": {},
     "output_type": "display_data"
    }
   ],
   "source": [
    "fig = plt.figure()\n",
    "ax1 = fig.add_subplot(111)\n",
    "plot_decision_boundary(X_test, y_test, knn, 'knn', ax1, poly_degree=None)"
   ]
  },
  {
   "cell_type": "markdown",
   "metadata": {},
   "source": [
    "## Question 3: Fit Decision Trees\n",
    "\n",
    "We next try out decision trees for thyroid classification. For the following questions, you may use the *Gini* index as the splitting criterion while fitting the decision tree. \n",
    "1. Fit a decision tree model to the thyroid data set with (maximum) tree depths 2, 3, ..., 10. Make plots of the training and test accuracies as a function of the tree depth. Is there a depth at which the fitted decision tree model achieves near-perfect classification on the training set? If so, what can you say about the test accuracy of this model?\n",
    "\n",
    "2. Use 5-fold cross-validation to find the optimal tree depth. How does the performance of a decision tree fitted with this depth compare with the models fitted in Part 2(a)?\n",
    "\n",
    "3. Use the code provided in Part 2(c) to visualize the decision boundary of the fitted decision tree. How is the decision boundary of the decision tree model different from the other methods? Given an explanation for your observation.\n",
    "\n",
    "4. Use the `export_graphviz` function in `sklearn` to generate a visualization of the tree diagram for the fitted model. Based on the visualization, explain *in words* how the fitted model diagnoses 'hypothyroidism' for a patient.  \n"
   ]
  },
  {
   "cell_type": "code",
   "execution_count": 23,
   "metadata": {},
   "outputs": [],
   "source": [
    "accuracy_training = []\n",
    "accuracy_testing = []\n",
    "\n",
    "scores = []\n",
    "depth_ls = np.arange(2, 11)\n",
    "for depth in depth_ls:\n",
    "    score = []\n",
    "    dfc = DecisionTreeClassifier(max_depth=depth)\n",
    "    dfc.fit(X_train, y_train)\n",
    "    accuracy_training.append(accuracy_score(dfc.predict(X_train), y_train))\n",
    "    accuracy_testing.append(accuracy_score(dfc.predict(X_test), y_test))\n",
    "    score = cross_val_score(dfc, X_train, y_train, cv = 5)\n",
    "    scores.append(score)"
   ]
  },
  {
   "cell_type": "code",
   "execution_count": 24,
   "metadata": {},
   "outputs": [
    {
     "data": {
      "text/plain": [
       "[<matplotlib.lines.Line2D at 0x11ff85e10>]"
      ]
     },
     "execution_count": 24,
     "metadata": {},
     "output_type": "execute_result"
    },
    {
     "data": {
      "image/png": "[encoded data removed]",
      "text/plain": [
       "<matplotlib.figure.Figure at 0x11efb5588>"
      ]
     },
     "metadata": {},
     "output_type": "display_data"
    }
   ],
   "source": [
    "plt.plot(depth_ls, accuracy_training)"
   ]
  },
  {
   "cell_type": "code",
   "execution_count": 25,
   "metadata": {},
   "outputs": [
    {
     "data": {
      "text/plain": [
       "[<matplotlib.lines.Line2D at 0x11f3873c8>]"
      ]
     },
     "execution_count": 25,
     "metadata": {},
     "output_type": "execute_result"
    },
    {
     "data": {
      "image/png": "[encoded data removed]",
      "text/plain": [
       "<matplotlib.figure.Figure at 0x11ef84048>"
      ]
     },
     "metadata": {},
     "output_type": "display_data"
    }
   ],
   "source": [
    "plt.plot(depth_ls, accuracy_testing)"
   ]
  },
  {
   "cell_type": "code",
   "execution_count": 26,
   "metadata": {
    "collapsed": true
   },
   "outputs": [],
   "source": [
    "scores = []\n",
    "depth_ls = np.arange(2, 11)\n",
    "for depth in depth_ls:\n",
    "    score = []\n",
    "    dfc = DecisionTreeClassifier(max_depth=depth)\n",
    "    score = cross_val_score(dfc, X_train, y_train, cv = 5)\n",
    "    scores.append(score)"
   ]
  },
  {
   "cell_type": "code",
   "execution_count": 27,
   "metadata": {
    "scrolled": true
   },
   "outputs": [
    {
     "data": {
      "text/plain": [
       "[array([ 0.90909091,  0.9047619 ,  0.85714286,  0.89473684,  1.        ]),\n",
       " array([ 0.90909091,  0.85714286,  0.85714286,  0.84210526,  1.        ]),\n",
       " array([ 0.86363636,  0.85714286,  0.80952381,  0.84210526,  1.        ]),\n",
       " array([ 0.86363636,  0.85714286,  0.85714286,  0.78947368,  1.        ]),\n",
       " array([ 0.86363636,  0.85714286,  0.80952381,  0.78947368,  1.        ]),\n",
       " array([ 0.86363636,  0.85714286,  0.80952381,  0.78947368,  1.        ]),\n",
       " array([ 0.86363636,  0.85714286,  0.80952381,  0.78947368,  1.        ]),\n",
       " array([ 0.86363636,  0.85714286,  0.80952381,  0.78947368,  1.        ]),\n",
       " array([ 0.86363636,  0.85714286,  0.80952381,  0.78947368,  1.        ])]"
      ]
     },
     "execution_count": 27,
     "metadata": {},
     "output_type": "execute_result"
    }
   ],
   "source": [
    "scores"
   ]
  },
  {
   "cell_type": "code",
   "execution_count": 28,
   "metadata": {},
   "outputs": [
    {
     "name": "stdout",
     "output_type": "stream",
     "text": [
      "0.921568627451\n",
      "0.87610619469\n"
     ]
    }
   ],
   "source": [
    "print(accuracy_training[0])\n",
    "print(accuracy_testing[0])"
   ]
  },
  {
   "cell_type": "code",
   "execution_count": 29,
   "metadata": {},
   "outputs": [
    {
     "data": {
      "image/png": "[encoded data removed]",
      "text/plain": [
       "<matplotlib.figure.Figure at 0x11f18e4e0>"
      ]
     },
     "metadata": {},
     "output_type": "display_data"
    }
   ],
   "source": [
    "fig = plt.figure()\n",
    "ax1 = fig.add_subplot(111)\n",
    "dfc = DecisionTreeClassifier(max_depth=2)\n",
    "dfc.fit(X_train, y_train)\n",
    "plot_decision_boundary(X_test, y_test, dfc, 'lda', ax1, poly_degree=None)"
   ]
  },
  {
   "cell_type": "markdown",
   "metadata": {},
   "source": [
    "*Note:* Look at the `export_graphviz` function in the `sklearn.tree` module. \n",
    "\n",
    "You can get a graphic for this visualization by pasting the generated graphviz file in the text box at http://www.webgraphviz.com/ , or you can do it on your own computer.\n",
    "\n",
    "If you choose the do the latter, you will have to install `GraphViz` and `pydot` to use the decision tree rendering code. For this, you may execute the following commands in a terminal:\n",
    "\n",
    "`$pip install graphviz`<br>\n",
    "`$pip install pydot`\n",
    "\n",
    "*Hint:* You may use the `DecisionTreeClassifier` class to fit a decision tree classifier and the `max_depth` attribute to set the tree depth. You may use the `cross_val_score` function for cross-validation with decision trees."
   ]
  },
  {
   "cell_type": "code",
   "execution_count": 37,
   "metadata": {},
   "outputs": [],
   "source": [
    "import graphviz \n",
    "dot_data = export_graphviz(dfc, feature_names=['Biomarker 1', 'Biomarker 2'], class_names= ['1','2','3'], filled=True, rounded=True, out_file= None)"
   ]
  },
  {
   "cell_type": "code",
   "execution_count": 40,
   "metadata": {},
   "outputs": [
    {
     "data": {
      "image/svg+xml": [
       "<?xml version=\"1.0\" encoding=\"UTF-8\" standalone=\"no\"?>\n",
       "<!DOCTYPE svg PUBLIC \"-//W3C//DTD SVG 1.1//EN\"\n",
       " \"http://www.w3.org/Graphics/SVG/1.1/DTD/svg11.dtd\">\n",
       "<!-- Generated by graphviz version 2.38.0 (20140413.2041)\n",
       " -->\n",
       "<!-- Title: Tree Pages: 1 -->\n",
       "<svg width=\"548pt\" height=\"300pt\"\n",
       " viewBox=\"0.00 0.00 548.01 300.00\" xmlns=\"http://www.w3.org/2000/svg\" xmlns:xlink=\"http://www.w3.org/1999/xlink\">\n",
       "<g id=\"graph0\" class=\"graph\" transform=\"scale(1 1) rotate(0) translate(4 296)\">\n",
       "<title>Tree</title>\n",
       "<polygon fill=\"white\" stroke=\"none\" points=\"-4,4 -4,-296 544.013,-296 544.013,4 -4,4\"/>\n",
       "<!-- 0 -->\n",
       "<g id=\"node1\" class=\"node\"><title>0</title>\n",
       "<path fill=\"#e58139\" fill-opacity=\"0.654902\" stroke=\"black\" d=\"M340.535,-292C340.535,-292 201.371,-292 201.371,-292 195.371,-292 189.371,-286 189.371,-280 189.371,-280 189.371,-226 189.371,-226 189.371,-220 195.371,-214 201.371,-214 201.371,-214 340.535,-214 340.535,-214 346.535,-214 352.535,-220 352.535,-226 352.535,-226 352.535,-280 352.535,-280 352.535,-286 346.535,-292 340.535,-292\"/>\n",
       "<text text-anchor=\"middle\" x=\"270.953\" y=\"-276.8\" font-family=\"Helvetica,sans-Serif\" font-size=\"14.00\">Biomarker 2 &lt;= &#45;0.4951</text>\n",
       "<text text-anchor=\"middle\" x=\"270.953\" y=\"-262.8\" font-family=\"Helvetica,sans-Serif\" font-size=\"14.00\">gini = 0.445</text>\n",
       "<text text-anchor=\"middle\" x=\"270.953\" y=\"-248.8\" font-family=\"Helvetica,sans-Serif\" font-size=\"14.00\">samples = 102</text>\n",
       "<text text-anchor=\"middle\" x=\"270.953\" y=\"-234.8\" font-family=\"Helvetica,sans-Serif\" font-size=\"14.00\">value = [73, 18, 11]</text>\n",
       "<text text-anchor=\"middle\" x=\"270.953\" y=\"-220.8\" font-family=\"Helvetica,sans-Serif\" font-size=\"14.00\">class = 1</text>\n",
       "</g>\n",
       "<!-- 1 -->\n",
       "<g id=\"node2\" class=\"node\"><title>1</title>\n",
       "<path fill=\"#39e581\" fill-opacity=\"0.556863\" stroke=\"black\" d=\"M251.535,-178C251.535,-178 112.371,-178 112.371,-178 106.371,-178 100.371,-172 100.371,-166 100.371,-166 100.371,-112 100.371,-112 100.371,-106 106.371,-100 112.371,-100 112.371,-100 251.535,-100 251.535,-100 257.535,-100 263.535,-106 263.535,-112 263.535,-112 263.535,-166 263.535,-166 263.535,-172 257.535,-178 251.535,-178\"/>\n",
       "<text text-anchor=\"middle\" x=\"181.953\" y=\"-162.8\" font-family=\"Helvetica,sans-Serif\" font-size=\"14.00\">Biomarker 1 &lt;= &#45;0.1475</text>\n",
       "<text text-anchor=\"middle\" x=\"181.953\" y=\"-148.8\" font-family=\"Helvetica,sans-Serif\" font-size=\"14.00\">gini = 0.426</text>\n",
       "<text text-anchor=\"middle\" x=\"181.953\" y=\"-134.8\" font-family=\"Helvetica,sans-Serif\" font-size=\"14.00\">samples = 26</text>\n",
       "<text text-anchor=\"middle\" x=\"181.953\" y=\"-120.8\" font-family=\"Helvetica,sans-Serif\" font-size=\"14.00\">value = [8, 18, 0]</text>\n",
       "<text text-anchor=\"middle\" x=\"181.953\" y=\"-106.8\" font-family=\"Helvetica,sans-Serif\" font-size=\"14.00\">class = 2</text>\n",
       "</g>\n",
       "<!-- 0&#45;&gt;1 -->\n",
       "<g id=\"edge1\" class=\"edge\"><title>0&#45;&gt;1</title>\n",
       "<path fill=\"none\" stroke=\"black\" d=\"M240.573,-213.769C233.485,-204.849 225.863,-195.257 218.537,-186.038\"/>\n",
       "<polygon fill=\"black\" stroke=\"black\" points=\"221.158,-183.71 212.196,-178.058 215.677,-188.065 221.158,-183.71\"/>\n",
       "<text text-anchor=\"middle\" x=\"209.354\" y=\"-198.696\" font-family=\"Helvetica,sans-Serif\" font-size=\"14.00\">True</text>\n",
       "</g>\n",
       "<!-- 4 -->\n",
       "<g id=\"node5\" class=\"node\"><title>4</title>\n",
       "<path fill=\"#e58139\" fill-opacity=\"0.831373\" stroke=\"black\" d=\"M428.374,-178C428.374,-178 293.533,-178 293.533,-178 287.533,-178 281.533,-172 281.533,-166 281.533,-166 281.533,-112 281.533,-112 281.533,-106 287.533,-100 293.533,-100 293.533,-100 428.374,-100 428.374,-100 434.374,-100 440.374,-106 440.374,-112 440.374,-112 440.374,-166 440.374,-166 440.374,-172 434.374,-178 428.374,-178\"/>\n",
       "<text text-anchor=\"middle\" x=\"360.953\" y=\"-162.8\" font-family=\"Helvetica,sans-Serif\" font-size=\"14.00\">Biomarker 1 &lt;= 1.0675</text>\n",
       "<text text-anchor=\"middle\" x=\"360.953\" y=\"-148.8\" font-family=\"Helvetica,sans-Serif\" font-size=\"14.00\">gini = 0.2476</text>\n",
       "<text text-anchor=\"middle\" x=\"360.953\" y=\"-134.8\" font-family=\"Helvetica,sans-Serif\" font-size=\"14.00\">samples = 76</text>\n",
       "<text text-anchor=\"middle\" x=\"360.953\" y=\"-120.8\" font-family=\"Helvetica,sans-Serif\" font-size=\"14.00\">value = [65, 0, 11]</text>\n",
       "<text text-anchor=\"middle\" x=\"360.953\" y=\"-106.8\" font-family=\"Helvetica,sans-Serif\" font-size=\"14.00\">class = 1</text>\n",
       "</g>\n",
       "<!-- 0&#45;&gt;4 -->\n",
       "<g id=\"edge4\" class=\"edge\"><title>0&#45;&gt;4</title>\n",
       "<path fill=\"none\" stroke=\"black\" d=\"M301.674,-213.769C308.842,-204.849 316.55,-195.257 323.958,-186.038\"/>\n",
       "<polygon fill=\"black\" stroke=\"black\" points=\"326.835,-188.046 330.37,-178.058 321.378,-183.661 326.835,-188.046\"/>\n",
       "<text text-anchor=\"middle\" x=\"333.077\" y=\"-198.712\" font-family=\"Helvetica,sans-Serif\" font-size=\"14.00\">False</text>\n",
       "</g>\n",
       "<!-- 2 -->\n",
       "<g id=\"node3\" class=\"node\"><title>2</title>\n",
       "<path fill=\"#39e581\" fill-opacity=\"0.921569\" stroke=\"black\" d=\"M107.859,-64C107.859,-64 12.0468,-64 12.0468,-64 6.04684,-64 0.0468384,-58 0.0468384,-52 0.0468384,-52 0.0468384,-12 0.0468384,-12 0.0468384,-6 6.04684,-0 12.0468,-0 12.0468,-0 107.859,-0 107.859,-0 113.859,-0 119.859,-6 119.859,-12 119.859,-12 119.859,-52 119.859,-52 119.859,-58 113.859,-64 107.859,-64\"/>\n",
       "<text text-anchor=\"middle\" x=\"59.9531\" y=\"-48.8\" font-family=\"Helvetica,sans-Serif\" font-size=\"14.00\">gini = 0.1327</text>\n",
       "<text text-anchor=\"middle\" x=\"59.9531\" y=\"-34.8\" font-family=\"Helvetica,sans-Serif\" font-size=\"14.00\">samples = 14</text>\n",
       "<text text-anchor=\"middle\" x=\"59.9531\" y=\"-20.8\" font-family=\"Helvetica,sans-Serif\" font-size=\"14.00\">value = [1, 13, 0]</text>\n",
       "<text text-anchor=\"middle\" x=\"59.9531\" y=\"-6.8\" font-family=\"Helvetica,sans-Serif\" font-size=\"14.00\">class = 2</text>\n",
       "</g>\n",
       "<!-- 1&#45;&gt;2 -->\n",
       "<g id=\"edge2\" class=\"edge\"><title>1&#45;&gt;2</title>\n",
       "<path fill=\"none\" stroke=\"black\" d=\"M137.563,-99.7956C126.598,-90.3587 114.859,-80.2547 103.914,-70.8355\"/>\n",
       "<polygon fill=\"black\" stroke=\"black\" points=\"105.971,-67.9877 96.1083,-64.1172 101.405,-73.2933 105.971,-67.9877\"/>\n",
       "</g>\n",
       "<!-- 3 -->\n",
       "<g id=\"node4\" class=\"node\"><title>3</title>\n",
       "<path fill=\"#e58139\" fill-opacity=\"0.286275\" stroke=\"black\" d=\"M238.073,-64C238.073,-64 149.833,-64 149.833,-64 143.833,-64 137.833,-58 137.833,-52 137.833,-52 137.833,-12 137.833,-12 137.833,-6 143.833,-0 149.833,-0 149.833,-0 238.073,-0 238.073,-0 244.073,-0 250.073,-6 250.073,-12 250.073,-12 250.073,-52 250.073,-52 250.073,-58 244.073,-64 238.073,-64\"/>\n",
       "<text text-anchor=\"middle\" x=\"193.953\" y=\"-48.8\" font-family=\"Helvetica,sans-Serif\" font-size=\"14.00\">gini = 0.4861</text>\n",
       "<text text-anchor=\"middle\" x=\"193.953\" y=\"-34.8\" font-family=\"Helvetica,sans-Serif\" font-size=\"14.00\">samples = 12</text>\n",
       "<text text-anchor=\"middle\" x=\"193.953\" y=\"-20.8\" font-family=\"Helvetica,sans-Serif\" font-size=\"14.00\">value = [7, 5, 0]</text>\n",
       "<text text-anchor=\"middle\" x=\"193.953\" y=\"-6.8\" font-family=\"Helvetica,sans-Serif\" font-size=\"14.00\">class = 1</text>\n",
       "</g>\n",
       "<!-- 1&#45;&gt;3 -->\n",
       "<g id=\"edge3\" class=\"edge\"><title>1&#45;&gt;3</title>\n",
       "<path fill=\"none\" stroke=\"black\" d=\"M186.319,-99.7956C187.272,-91.4581 188.285,-82.6 189.25,-74.1534\"/>\n",
       "<polygon fill=\"black\" stroke=\"black\" points=\"192.739,-74.4499 190.397,-64.1172 185.784,-73.6551 192.739,-74.4499\"/>\n",
       "</g>\n",
       "<!-- 5 -->\n",
       "<g id=\"node6\" class=\"node\"><title>5</title>\n",
       "<path fill=\"#e58139\" fill-opacity=\"0.968627\" stroke=\"black\" d=\"M397.859,-64C397.859,-64 302.047,-64 302.047,-64 296.047,-64 290.047,-58 290.047,-52 290.047,-52 290.047,-12 290.047,-12 290.047,-6 296.047,-0 302.047,-0 302.047,-0 397.859,-0 397.859,-0 403.859,-0 409.859,-6 409.859,-12 409.859,-12 409.859,-52 409.859,-52 409.859,-58 403.859,-64 397.859,-64\"/>\n",
       "<text text-anchor=\"middle\" x=\"349.953\" y=\"-48.8\" font-family=\"Helvetica,sans-Serif\" font-size=\"14.00\">gini = 0.0579</text>\n",
       "<text text-anchor=\"middle\" x=\"349.953\" y=\"-34.8\" font-family=\"Helvetica,sans-Serif\" font-size=\"14.00\">samples = 67</text>\n",
       "<text text-anchor=\"middle\" x=\"349.953\" y=\"-20.8\" font-family=\"Helvetica,sans-Serif\" font-size=\"14.00\">value = [65, 0, 2]</text>\n",
       "<text text-anchor=\"middle\" x=\"349.953\" y=\"-6.8\" font-family=\"Helvetica,sans-Serif\" font-size=\"14.00\">class = 1</text>\n",
       "</g>\n",
       "<!-- 4&#45;&gt;5 -->\n",
       "<g id=\"edge5\" class=\"edge\"><title>4&#45;&gt;5</title>\n",
       "<path fill=\"none\" stroke=\"black\" d=\"M356.951,-99.7956C356.077,-91.4581 355.149,-82.6 354.264,-74.1534\"/>\n",
       "<polygon fill=\"black\" stroke=\"black\" points=\"357.736,-73.698 353.213,-64.1172 350.774,-74.4274 357.736,-73.698\"/>\n",
       "</g>\n",
       "<!-- 6 -->\n",
       "<g id=\"node7\" class=\"node\"><title>6</title>\n",
       "<path fill=\"#8139e5\" stroke=\"black\" d=\"M528.073,-64C528.073,-64 439.833,-64 439.833,-64 433.833,-64 427.833,-58 427.833,-52 427.833,-52 427.833,-12 427.833,-12 427.833,-6 433.833,-0 439.833,-0 439.833,-0 528.073,-0 528.073,-0 534.073,-0 540.073,-6 540.073,-12 540.073,-12 540.073,-52 540.073,-52 540.073,-58 534.073,-64 528.073,-64\"/>\n",
       "<text text-anchor=\"middle\" x=\"483.953\" y=\"-48.8\" font-family=\"Helvetica,sans-Serif\" font-size=\"14.00\">gini = 0.0</text>\n",
       "<text text-anchor=\"middle\" x=\"483.953\" y=\"-34.8\" font-family=\"Helvetica,sans-Serif\" font-size=\"14.00\">samples = 9</text>\n",
       "<text text-anchor=\"middle\" x=\"483.953\" y=\"-20.8\" font-family=\"Helvetica,sans-Serif\" font-size=\"14.00\">value = [0, 0, 9]</text>\n",
       "<text text-anchor=\"middle\" x=\"483.953\" y=\"-6.8\" font-family=\"Helvetica,sans-Serif\" font-size=\"14.00\">class = 3</text>\n",
       "</g>\n",
       "<!-- 4&#45;&gt;6 -->\n",
       "<g id=\"edge6\" class=\"edge\"><title>4&#45;&gt;6</title>\n",
       "<path fill=\"none\" stroke=\"black\" d=\"M405.707,-99.7956C416.762,-90.3587 428.598,-80.2547 439.632,-70.8355\"/>\n",
       "<polygon fill=\"black\" stroke=\"black\" points=\"442.168,-73.2718 447.502,-64.1172 437.623,-67.9478 442.168,-73.2718\"/>\n",
       "</g>\n",
       "</g>\n",
       "</svg>\n"
      ],
      "text/plain": [
       "<graphviz.files.Source at 0x11f06b828>"
      ]
     },
     "execution_count": 40,
     "metadata": {},
     "output_type": "execute_result"
    }
   ],
   "source": [
    "graph = graphviz.Source(dot_data)\n",
    "graph"
   ]
  },
  {
   "cell_type": "markdown",
   "metadata": {},
   "source": [
    "## Question 4: Too many models to choose from!\n",
    "\n",
    "We have so far seen six different ways of fitting a classification model for thyroid classification problem: **linear logistic regression**, **logistic regression with polynomial terms**, **LDA**, **QDA**, **k-NN** and **decision tree**. Which of these methods should one use in practice? To answer this question, we now look at the pros and cons of each method.\n",
    "\n",
    "1. Compare and contrast the six models based on each of the following criteria (a supporting table to summarize your  thoughts can be helpful):\n",
    "  - Classification performance\n",
    "  - Complexity of decision boundary\n",
    "  - Memory storage\n",
    "  - Ease of interpretability\n",
    "\n",
    "2. If you were a clinician who had to use the classifier to diagnose thyroid disorders in patients, which among the six methods would you be most comfortable in using? "
   ]
  },
  {
   "cell_type": "code",
   "execution_count": null,
   "metadata": {
    "collapsed": true
   },
   "outputs": [],
   "source": []
  },
  {
   "cell_type": "code",
   "execution_count": null,
   "metadata": {
    "collapsed": true
   },
   "outputs": [],
   "source": []
  },
  {
   "cell_type": "markdown",
   "metadata": {},
   "source": [
    "## Question 5: Including an 'abstain' option\n",
    "\n",
    "One of the reasons a hospital might be hesitant to use your thyroid classification model is that a misdiagnosis by the model on a patient can sometimes prove to be very costly (e.g. if the patient were to file a law suit seeking a compensation for damages). One way to mitigate this concern is to allow the model to 'abstain' from making a prediction, whenever it is uncertain about the diagnosis for a patient. However, when the model abstains from making a prediction, the hospital will have to forward the patient to a thyroid specialist (i.e. an endocrinologist), which would incur additional cost. How does one design a thyroid classification model with an abstain option, such that the cost to the hospital is minimized?\n",
    "\n",
    "1. More specifically, suppose the cost incurred by a hospital when a model mis-predicts on a patient is \\$5000, and the cost incurred when the model abstains from making a prediction is \\$1000. What is the average cost per patient for the OvR logistic regression model from Question 1, Part 3? Note that this needs to be evaluated on the patients in the test set. Your task is to design a classification strategy (into the 3 groups plus the *abstain* group) that has as low cost as possible per patient.   Give a justification for your approach.\n",
    "\n",
    "2. **Presentation:** Prepare a set of 5 slides explaining your approach to the hospital management. Your presentation must be accessible to the lay man. Explain in particular how your approach would be robust to changes in the costs of using the abstain option.\n",
    "\n",
    "*Hint:* think of a way to use the estimated probabilities from the logistic regression model to decide who to classify as *abstain*."
   ]
  },
  {
   "cell_type": "code",
   "execution_count": 93,
   "metadata": {},
   "outputs": [
    {
     "name": "stdout",
     "output_type": "stream",
     "text": [
      "0.35\n",
      "0.4\n",
      "0.45\n",
      "0.5\n",
      "0.55\n",
      "0.6\n",
      "0.65\n",
      "0.7\n",
      "0.75\n",
      "0.8\n",
      "0.85\n",
      "0.9\n",
      "0.95\n",
      "1.0\n"
     ]
    }
   ],
   "source": [
    "from sklearn.cross_validation import KFold\n",
    "\n",
    "n = len(X_train)\n",
    "scores = []\n",
    "threshold_ls = np.arange(0.35, 1.05, 0.05)\n",
    "\n",
    "\n",
    "for threshold in threshold_ls:\n",
    "    score = []\n",
    "    for f_train, f_test in KFold(n, n_folds=10, shuffle=False, random_state=9001):\n",
    "        count_abstain = 0 ## abstain\n",
    "        count_mis = 0\n",
    "        X_mini_train = X_train[f_train]\n",
    "        y_mini_train = y_train[f_train]\n",
    "        X_mini_test = X_test[f_test]\n",
    "        y_mini_test = y_test[f_test]\n",
    "\n",
    "        clf_new = LogisticRegressionCV(multi_class='ovr')\n",
    "        clf_new.fit(X_mini_train, y_mini_train)\n",
    "\n",
    "        y_predict_prob = clf_new.predict_proba(X_mini_test)\n",
    "        y_predict = clf_new.predict(X_mini_test)\n",
    "\n",
    "        for i in range(len(X_mini_test)):\n",
    "            if max(y_predict_prob[i]) > threshold:\n",
    "                if y_predict[i]!= y_mini_test[i]:\n",
    "                    count_mis += 1\n",
    "            else:\n",
    "                count_abstain += 1\n",
    "\n",
    "        score.append(count_abstain * 1000 + count_mis * 5000) \n",
    "    scores.append(score)"
   ]
  },
  {
   "cell_type": "code",
   "execution_count": 99,
   "metadata": {},
   "outputs": [
    {
     "data": {
      "text/plain": [
       "[[5000, 10000, 5000, 0, 15000, 10000, 0, 10000, 10000, 10000],\n",
       " [5000, 10000, 5000, 0, 15000, 10000, 0, 10000, 10000, 10000],\n",
       " [5000, 10000, 5000, 0, 15000, 10000, 0, 10000, 10000, 10000],\n",
       " [5000, 10000, 5000, 0, 15000, 10000, 0, 10000, 10000, 10000],\n",
       " [5000, 6000, 5000, 0, 16000, 6000, 0, 6000, 10000, 10000],\n",
       " [5000, 6000, 5000, 0, 9000, 6000, 1000, 3000, 8000, 6000],\n",
       " [5000, 7000, 1000, 1000, 11000, 7000, 2000, 4000, 9000, 6000],\n",
       " [5000, 7000, 1000, 1000, 12000, 9000, 2000, 4000, 10000, 6000],\n",
       " [5000, 8000, 1000, 2000, 12000, 9000, 2000, 4000, 11000, 6000],\n",
       " [5000, 9000, 3000, 2000, 13000, 9000, 3000, 4000, 11000, 6000],\n",
       " [5000, 5000, 6000, 4000, 9000, 10000, 3000, 5000, 11000, 7000],\n",
       " [6000, 6000, 7000, 5000, 9000, 8000, 3000, 7000, 11000, 3000],\n",
       " [7000, 9000, 8000, 9000, 9000, 9000, 5000, 10000, 9000, 8000],\n",
       " [11000, 11000, 10000, 10000, 10000, 10000, 10000, 10000, 10000, 10000]]"
      ]
     },
     "execution_count": 99,
     "metadata": {},
     "output_type": "execute_result"
    }
   ],
   "source": [
    "scores"
   ]
  },
  {
   "cell_type": "markdown",
   "metadata": {},
   "source": [
    "threshold = 0.65"
   ]
  },
  {
   "cell_type": "code",
   "execution_count": null,
   "metadata": {
    "collapsed": true
   },
   "outputs": [],
   "source": []
  }
 ],
 "metadata": {
  "anaconda-cloud": {},
  "kernelspec": {
   "display_name": "Python 3",
   "language": "python",
   "name": "python3"
  },
  "language_info": {
   "codemirror_mode": {
    "name": "ipython",
    "version": 3
   },
   "file_extension": ".py",
   "mimetype": "text/x-python",
   "name": "python",
   "nbconvert_exporter": "python",
   "pygments_lexer": "ipython3",
   "version": "3.6.1"
  }
 },
 "nbformat": 4,
 "nbformat_minor": 1
}
