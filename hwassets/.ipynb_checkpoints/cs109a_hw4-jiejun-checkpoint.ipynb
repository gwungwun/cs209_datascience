{
 "cells": [
  {
   "cell_type": "markdown",
   "metadata": {},
   "source": [
    "# CS 109A/STAT 121A/AC 209A/CSCI E-109A: Homework 4\n",
    "# Regularization, High Dimensionality, PCA\n",
    "\n",
    "\n",
    "**Harvard University**<br/>\n",
    "**Fall 2017**<br/>\n",
    "**Instructors**: Pavlos Protopapas, Kevin Rader, Rahul Dave, Margo Levine\n",
    "\n",
    "---\n",
    "\n",
    "### INSTRUCTIONS\n",
    "\n",
    "- To submit your assignment follow the instructions given in canvas.\n",
    "- Restart the kernel and run the whole notebook again before you submit. \n",
    "- Do not include your name(s) in the notebook even if you are submitting as a group. \n",
    "- If you submit individually and you have worked with someone, please include the name of your [one] partner below. \n",
    "\n",
    "---"
   ]
  },
  {
   "cell_type": "markdown",
   "metadata": {},
   "source": [
    "Your partner's name (if you submit separately):\n",
    "\n",
    "Enrollment Status (109A, 121A, 209A, or E109A):"
   ]
  },
  {
   "cell_type": "markdown",
   "metadata": {},
   "source": [
    "Import libraries:"
   ]
  },
  {
   "cell_type": "code",
   "execution_count": 1,
   "metadata": {},
   "outputs": [
    {
     "name": "stderr",
     "output_type": "stream",
     "text": [
      "/Users/gwungwun/anaconda/lib/python3.6/site-packages/statsmodels/compat/pandas.py:56: FutureWarning: The pandas.core.datetools module is deprecated and will be removed in a future version. Please use the pandas.tseries module instead.\n",
      "  from pandas.core import datetools\n"
     ]
    }
   ],
   "source": [
    "import numpy as np\n",
    "import pandas as pd\n",
    "import matplotlib\n",
    "import matplotlib.pyplot as plt\n",
    "from sklearn.metrics import r2_score\n",
    "import statsmodels.api as sm\n",
    "from statsmodels.api import OLS\n",
    "from sklearn.preprocessing import PolynomialFeatures\n",
    "from sklearn.linear_model import Ridge\n",
    "from sklearn.linear_model import Lasso\n",
    "from sklearn.linear_model import RidgeCV\n",
    "from sklearn.linear_model import LassoCV\n",
    "%matplotlib inline"
   ]
  },
  {
   "cell_type": "code",
   "execution_count": 2,
   "metadata": {
    "collapsed": true
   },
   "outputs": [],
   "source": [
    "# Load data\n",
    "\n",
    "data_train = pd.read_csv('data/Bikeshare_train.csv')\n",
    "data_test = pd.read_csv('data/Bikeshare_test.csv')\n",
    "data_train = data_train.drop('Unnamed: 0', 1)\n",
    "data_test = data_test.drop('Unnamed: 0', 1)\n",
    "\n",
    "data_train = pd.get_dummies(data_train, columns=['season', 'month', 'day_of_week', 'weather'])\n",
    "data_train = data_train.drop(['season_4.0', 'month_12.0', 'day_of_week_6.0', 'weather_3.0'], 1)\n",
    "data_test = pd.get_dummies(data_test, columns=['season', 'month', 'day_of_week', 'weather'])\n",
    "data_test = data_test.drop(['season_4.0', 'month_12.0', 'day_of_week_6.0', 'weather_3.0'], 1)\n",
    "\n",
    "cp = ['temp', 'atemp', 'humidity', 'windspeed']\n",
    "cp_means = [data_train[v].mean() for v in cp]\n",
    "cp_std = [data_train[v].std() for v in cp]\n",
    "for i, v in enumerate(cp):\n",
    "    data_train[v] = (data_train[v] - cp_means[i]) / cp_std[i]\n",
    "    data_test[v] = (data_test[v] - cp_means[i]) / cp_std[i]\n",
    "\n",
    "col_names = list(data_train.columns[7:]) + list(data_train.columns[:7])\n",
    "all_predictors = col_names[:-1]\n",
    "data_train = data_train[col_names]\n",
    "data_test = data_test[col_names]"
   ]
  },
  {
   "cell_type": "markdown",
   "metadata": {},
   "source": [
    "# Continuing Bike Sharing Usage Data\n",
    "\n",
    "In this homework, we will focus on multiple linear regression, regularization, dealing with high dimensionality, and PCA. We will continue to build regression models for the Capital Bikeshare program in Washington D.C.  See Homework 3 for more information about the data.\n",
    "\n",
    "*Note: please make sure you use all the processed data from HW 3 Part (a)...you make want to save the data set on your computer and reread the csv/json file here.\n"
   ]
  },
  {
   "cell_type": "markdown",
   "metadata": {},
   "source": [
    "## Part (f): Regularization/Penalization Methods\n",
    "\n",
    "As an alternative to selecting a subset of predictors and fitting a regression model on the subset, one can fit a linear regression model on all predictors, but shrink or regularize the coefficient estimates to make sure that the model does not \"overfit\" the training set. \n",
    "\n",
    "Use the following regularization techniques to fit linear models to the training set:\n",
    "- Ridge regression\n",
    "- Lasso regression\n",
    "    \n",
    "You may choose the shrikage parameter $\\lambda$ from the set $\\{10^{-5}, 10^{-4},...,10^{4},10^{5}\\}$ using cross-validation. In each case, \n",
    "\n",
    "- How do the estimated coefficients compare to or differ from the coefficients estimated by a plain linear regression (without shrikage penalty) in Part (b) fropm HW 3? Is there a difference between coefficients estimated by the two shrinkage methods? If so, give an explantion for the difference.\n",
    "- List the predictors that are assigned a coefficient value close to 0 (say < 1e-10) by the two methods. How closely do these predictors match the redundant predictors (if any) identified in Part (c) from HW 3?\n",
    "- Is there a difference in the way Ridge and Lasso regression assign coefficients to the predictors `temp` and `atemp`? If so, explain the reason for the difference.\n",
    "\n",
    "We next analyze the performance of the two shrinkage methods for different training sample sizes:\n",
    "- Generate random samples of sizes 100, 150, ..., 400 from the training set. You may use the following code to draw a random sample of a specified size from the training set:"
   ]
  },
  {
   "cell_type": "code",
   "execution_count": 3,
   "metadata": {
    "collapsed": true
   },
   "outputs": [],
   "source": [
    "#--------  sample\n",
    "# A function to select a random sample of size k from the training set\n",
    "# Input: \n",
    "#      x (n x d array of predictors in training data)\n",
    "#      y (n x 1 array of response variable vals in training data)\n",
    "#      k (size of sample) \n",
    "# Return: \n",
    "#      chosen sample of predictors and responses\n",
    "\n",
    "def sample(x, y, k):\n",
    "    n = x.shape[0] # No. of training points\n",
    "    \n",
    "    # Choose random indices of size 'k'\n",
    "    subset_ind = np.random.choice(np.arange(n), k)\n",
    "    \n",
    "    # Get predictors and reponses with the indices\n",
    "    x_subset = x[subset_ind, :]\n",
    "    y_subset = y[subset_ind]\n",
    "    \n",
    "    return (x_subset, y_subset)"
   ]
  },
  {
   "cell_type": "markdown",
   "metadata": {},
   "source": [
    "- Fit linear, Ridge and Lasso regression models to each of the generated sample. In each case, compute the $R^2$ score for the model on the training sample on which it was fitted, and on the test set.\n",
    "- Repeat the above experiment for 10 random trials/splits, and compute the average train and test $R^2$ across the trials for each training sample size. Also, compute the standard deviation (SD) in each case.\n",
    "- Make a plot of the mean training $R^2$ scores for the linear, Ridge and Lasso regression methods as a function of the training sample size. Also, show a confidence interval for the mean scores extending from **mean - SD** to **mean + SD**. Make a similar plot for the test $R^2$ scores.\n",
    "\n",
    "How do the training and test $R^2$ scores compare for the three methods? Give an explanation for your observations. How do the confidence intervals for the estimated $R^2$ change with training sample size? Based on the plots, which of the three methods would you recommend when one needs to fit a regression model using a small training sample?\n",
    "\n",
    "*Hint:* You may use `sklearn`'s `RidgeCV` and `LassoCV` classes to implement Ridge and Lasso regression. These classes automatically perform cross-validation to tune the parameter $\\lambda$ from a given range of values. You may use the `plt.errorbar` function to plot confidence bars for the average $R^2$ scores."
   ]
  },
  {
   "cell_type": "code",
   "execution_count": 4,
   "metadata": {
    "collapsed": true
   },
   "outputs": [],
   "source": [
    "# your code here\n",
    "from sklearn.linear_model import LinearRegression\n",
    "\n",
    "X_train = data_train.iloc[:, :-1].values\n",
    "y_train = data_train.iloc[:, -1].values\n",
    "\n",
    "X_test = data_test.iloc[:, :-1].values\n",
    "y_test = data_test.iloc[:, -1].values"
   ]
  },
  {
   "cell_type": "code",
   "execution_count": 5,
   "metadata": {},
   "outputs": [
    {
     "name": "stdout",
     "output_type": "stream",
     "text": [
      "sample size = 100\n",
      "Ridge Regression\n",
      "The training R^2 is 0.6955525655127409.\n",
      "The test R^2 is 0.0842975989379916.\n",
      "Lasso Regression\n",
      "The training R^2 is 0.6996665645901361.\n",
      "The test R^2 is 0.08630135900014757.\n",
      "OLS Regression\n",
      "The training R^2 is 0.7349451502592613.\n",
      "The test R^2 is -0.06545826545062283.\n",
      "\n",
      "\n",
      "sample size = 150\n",
      "Ridge Regression\n",
      "The training R^2 is 0.7114200917278406.\n",
      "The test R^2 is 0.12885224413519492.\n",
      "Lasso Regression\n",
      "The training R^2 is 0.699800787652412.\n",
      "The test R^2 is 0.14836003135932818.\n",
      "OLS Regression\n",
      "The training R^2 is 0.723441968043876.\n",
      "The test R^2 is 0.059411827154128516.\n",
      "\n",
      "\n",
      "sample size = 200\n"
     ]
    },
    {
     "name": "stderr",
     "output_type": "stream",
     "text": [
      "/Users/gwungwun/anaconda/lib/python3.6/site-packages/sklearn/linear_model/coordinate_descent.py:484: ConvergenceWarning: Objective did not converge. You might want to increase the number of iterations. Fitting data with very small alpha may cause precision problems.\n",
      "  ConvergenceWarning)\n",
      "/Users/gwungwun/anaconda/lib/python3.6/site-packages/sklearn/linear_model/coordinate_descent.py:484: ConvergenceWarning: Objective did not converge. You might want to increase the number of iterations. Fitting data with very small alpha may cause precision problems.\n",
      "  ConvergenceWarning)\n",
      "/Users/gwungwun/anaconda/lib/python3.6/site-packages/sklearn/linear_model/coordinate_descent.py:484: ConvergenceWarning: Objective did not converge. You might want to increase the number of iterations. Fitting data with very small alpha may cause precision problems.\n",
      "  ConvergenceWarning)\n",
      "/Users/gwungwun/anaconda/lib/python3.6/site-packages/sklearn/linear_model/coordinate_descent.py:484: ConvergenceWarning: Objective did not converge. You might want to increase the number of iterations. Fitting data with very small alpha may cause precision problems.\n",
      "  ConvergenceWarning)\n"
     ]
    },
    {
     "name": "stdout",
     "output_type": "stream",
     "text": [
      "Ridge Regression\n",
      "The training R^2 is 0.5672462517656194.\n",
      "The test R^2 is 0.24151720554542555.\n",
      "Lasso Regression\n",
      "The training R^2 is 0.5793704066572531.\n",
      "The test R^2 is 0.2137116085530787.\n",
      "OLS Regression\n",
      "The training R^2 is 0.6074044217395906.\n",
      "The test R^2 is 0.16302709768588952.\n",
      "\n",
      "\n",
      "sample size = 250\n",
      "Ridge Regression\n",
      "The training R^2 is 0.6108790349563595.\n",
      "The test R^2 is 0.21978084887303154.\n",
      "Lasso Regression\n",
      "The training R^2 is 0.6267088629939724.\n",
      "The test R^2 is 0.17901134558272547.\n",
      "OLS Regression\n",
      "The training R^2 is 0.6411037457379942.\n",
      "The test R^2 is 0.14155409047054102.\n",
      "\n",
      "\n",
      "sample size = 300\n",
      "Ridge Regression\n",
      "The training R^2 is 0.6076996567954437.\n",
      "The test R^2 is 0.24026315131448608.\n",
      "Lasso Regression\n",
      "The training R^2 is 0.6119414851007459.\n",
      "The test R^2 is 0.22611745554278553.\n",
      "OLS Regression\n",
      "The training R^2 is 0.6123704386555044.\n",
      "The test R^2 is 0.21815318454925048.\n",
      "\n",
      "\n",
      "sample size = 350\n",
      "Ridge Regression\n",
      "The training R^2 is 0.6024435908756365.\n",
      "The test R^2 is 0.23800521798155483.\n",
      "Lasso Regression\n",
      "The training R^2 is 0.6187621100046521.\n",
      "The test R^2 is 0.2240063296133823.\n",
      "OLS Regression\n",
      "The training R^2 is 0.6308463684046239.\n",
      "The test R^2 is 0.19522302497561272.\n",
      "\n",
      "\n",
      "sample size = 400\n",
      "Ridge Regression\n",
      "The training R^2 is 0.6220980676798478.\n",
      "The test R^2 is 0.2079367849426016.\n",
      "Lasso Regression\n",
      "The training R^2 is 0.6258922449771842.\n",
      "The test R^2 is 0.19204038301957305.\n",
      "OLS Regression\n",
      "The training R^2 is 0.6266190277697226.\n",
      "The test R^2 is 0.18211513823266623.\n",
      "\n",
      "\n"
     ]
    },
    {
     "name": "stderr",
     "output_type": "stream",
     "text": [
      "/Users/gwungwun/anaconda/lib/python3.6/site-packages/sklearn/linear_model/coordinate_descent.py:484: ConvergenceWarning: Objective did not converge. You might want to increase the number of iterations. Fitting data with very small alpha may cause precision problems.\n",
      "  ConvergenceWarning)\n",
      "/Users/gwungwun/anaconda/lib/python3.6/site-packages/sklearn/linear_model/coordinate_descent.py:484: ConvergenceWarning: Objective did not converge. You might want to increase the number of iterations. Fitting data with very small alpha may cause precision problems.\n",
      "  ConvergenceWarning)\n",
      "/Users/gwungwun/anaconda/lib/python3.6/site-packages/sklearn/linear_model/coordinate_descent.py:484: ConvergenceWarning: Objective did not converge. You might want to increase the number of iterations. Fitting data with very small alpha may cause precision problems.\n",
      "  ConvergenceWarning)\n",
      "/Users/gwungwun/anaconda/lib/python3.6/site-packages/sklearn/linear_model/coordinate_descent.py:484: ConvergenceWarning: Objective did not converge. You might want to increase the number of iterations. Fitting data with very small alpha may cause precision problems.\n",
      "  ConvergenceWarning)\n",
      "/Users/gwungwun/anaconda/lib/python3.6/site-packages/sklearn/linear_model/coordinate_descent.py:484: ConvergenceWarning: Objective did not converge. You might want to increase the number of iterations. Fitting data with very small alpha may cause precision problems.\n",
      "  ConvergenceWarning)\n"
     ]
    }
   ],
   "source": [
    "alphas = [10**i for i in range(-5, 6)]\n",
    "k_list = np.arange(100, 401, 50)\n",
    "\n",
    "for k in k_list:\n",
    "    print(\"sample size = {}\".format(k))\n",
    "    X_subset, y_subset = sample(X_train, y_train, k)\n",
    "\n",
    "    ridgeRegression = RidgeCV(alphas)\n",
    "    results = ridgeRegression.fit(X_subset, y_subset)\n",
    "    print(\"Ridge Regression\")\n",
    "    print('The training R^2 is {}.'.format(results.score(X_subset, y_subset)))\n",
    "    print('The test R^2 is {}.'.format(results.score(X_test, y_test)))\n",
    "\n",
    "    lassoRegression = LassoCV(alphas = alphas)\n",
    "    results = lassoRegression.fit(X_subset, y_subset)\n",
    "    print(\"Lasso Regression\")\n",
    "    print('The training R^2 is {}.'.format(results.score(X_subset, y_subset)))\n",
    "    print('The test R^2 is {}.'.format(results.score(X_test, y_test)))\n",
    "\n",
    "    X_train_ols = sm.add_constant(X_subset)\n",
    "    X_test_ols = sm.add_constant(X_test)\n",
    "\n",
    "    result = sm.OLS(y_subset, X_train_ols).fit()\n",
    "    y_train_pred = result.predict(X_train_ols)\n",
    "    y_test_pred = result.predict(X_test_ols)\n",
    "    print(\"OLS Regression\")\n",
    "    print('The training R^2 is {}.'.format(r2_score(y_subset, y_train_pred)))\n",
    "    print('The test R^2 is {}.'.format(r2_score(y_test, y_test_pred)))\n",
    "    print(\"\\n\")"
   ]
  },
  {
   "cell_type": "code",
   "execution_count": 6,
   "metadata": {},
   "outputs": [
    {
     "name": "stderr",
     "output_type": "stream",
     "text": [
      "/Users/gwungwun/anaconda/lib/python3.6/site-packages/sklearn/linear_model/coordinate_descent.py:484: ConvergenceWarning: Objective did not converge. You might want to increase the number of iterations. Fitting data with very small alpha may cause precision problems.\n",
      "  ConvergenceWarning)\n",
      "/Users/gwungwun/anaconda/lib/python3.6/site-packages/sklearn/linear_model/coordinate_descent.py:484: ConvergenceWarning: Objective did not converge. You might want to increase the number of iterations. Fitting data with very small alpha may cause precision problems.\n",
      "  ConvergenceWarning)\n",
      "/Users/gwungwun/anaconda/lib/python3.6/site-packages/sklearn/linear_model/coordinate_descent.py:484: ConvergenceWarning: Objective did not converge. You might want to increase the number of iterations. Fitting data with very small alpha may cause precision problems.\n",
      "  ConvergenceWarning)\n",
      "/Users/gwungwun/anaconda/lib/python3.6/site-packages/sklearn/linear_model/coordinate_descent.py:484: ConvergenceWarning: Objective did not converge. You might want to increase the number of iterations. Fitting data with very small alpha may cause precision problems.\n",
      "  ConvergenceWarning)\n",
      "/Users/gwungwun/anaconda/lib/python3.6/site-packages/sklearn/linear_model/coordinate_descent.py:484: ConvergenceWarning: Objective did not converge. You might want to increase the number of iterations. Fitting data with very small alpha may cause precision problems.\n",
      "  ConvergenceWarning)\n",
      "/Users/gwungwun/anaconda/lib/python3.6/site-packages/sklearn/linear_model/coordinate_descent.py:484: ConvergenceWarning: Objective did not converge. You might want to increase the number of iterations. Fitting data with very small alpha may cause precision problems.\n",
      "  ConvergenceWarning)\n",
      "/Users/gwungwun/anaconda/lib/python3.6/site-packages/sklearn/linear_model/coordinate_descent.py:484: ConvergenceWarning: Objective did not converge. You might want to increase the number of iterations. Fitting data with very small alpha may cause precision problems.\n",
      "  ConvergenceWarning)\n",
      "/Users/gwungwun/anaconda/lib/python3.6/site-packages/sklearn/linear_model/coordinate_descent.py:484: ConvergenceWarning: Objective did not converge. You might want to increase the number of iterations. Fitting data with very small alpha may cause precision problems.\n",
      "  ConvergenceWarning)\n",
      "/Users/gwungwun/anaconda/lib/python3.6/site-packages/sklearn/linear_model/coordinate_descent.py:484: ConvergenceWarning: Objective did not converge. You might want to increase the number of iterations. Fitting data with very small alpha may cause precision problems.\n",
      "  ConvergenceWarning)\n",
      "/Users/gwungwun/anaconda/lib/python3.6/site-packages/sklearn/linear_model/coordinate_descent.py:484: ConvergenceWarning: Objective did not converge. You might want to increase the number of iterations. Fitting data with very small alpha may cause precision problems.\n",
      "  ConvergenceWarning)\n",
      "/Users/gwungwun/anaconda/lib/python3.6/site-packages/sklearn/linear_model/coordinate_descent.py:484: ConvergenceWarning: Objective did not converge. You might want to increase the number of iterations. Fitting data with very small alpha may cause precision problems.\n",
      "  ConvergenceWarning)\n",
      "/Users/gwungwun/anaconda/lib/python3.6/site-packages/sklearn/linear_model/coordinate_descent.py:484: ConvergenceWarning: Objective did not converge. You might want to increase the number of iterations. Fitting data with very small alpha may cause precision problems.\n",
      "  ConvergenceWarning)\n",
      "/Users/gwungwun/anaconda/lib/python3.6/site-packages/sklearn/linear_model/coordinate_descent.py:484: ConvergenceWarning: Objective did not converge. You might want to increase the number of iterations. Fitting data with very small alpha may cause precision problems.\n",
      "  ConvergenceWarning)\n",
      "/Users/gwungwun/anaconda/lib/python3.6/site-packages/sklearn/linear_model/coordinate_descent.py:484: ConvergenceWarning: Objective did not converge. You might want to increase the number of iterations. Fitting data with very small alpha may cause precision problems.\n",
      "  ConvergenceWarning)\n",
      "/Users/gwungwun/anaconda/lib/python3.6/site-packages/sklearn/linear_model/coordinate_descent.py:484: ConvergenceWarning: Objective did not converge. You might want to increase the number of iterations. Fitting data with very small alpha may cause precision problems.\n",
      "  ConvergenceWarning)\n",
      "/Users/gwungwun/anaconda/lib/python3.6/site-packages/sklearn/linear_model/coordinate_descent.py:484: ConvergenceWarning: Objective did not converge. You might want to increase the number of iterations. Fitting data with very small alpha may cause precision problems.\n",
      "  ConvergenceWarning)\n",
      "/Users/gwungwun/anaconda/lib/python3.6/site-packages/sklearn/linear_model/coordinate_descent.py:484: ConvergenceWarning: Objective did not converge. You might want to increase the number of iterations. Fitting data with very small alpha may cause precision problems.\n",
      "  ConvergenceWarning)\n",
      "/Users/gwungwun/anaconda/lib/python3.6/site-packages/sklearn/linear_model/coordinate_descent.py:484: ConvergenceWarning: Objective did not converge. You might want to increase the number of iterations. Fitting data with very small alpha may cause precision problems.\n",
      "  ConvergenceWarning)\n",
      "/Users/gwungwun/anaconda/lib/python3.6/site-packages/sklearn/linear_model/coordinate_descent.py:484: ConvergenceWarning: Objective did not converge. You might want to increase the number of iterations. Fitting data with very small alpha may cause precision problems.\n",
      "  ConvergenceWarning)\n",
      "/Users/gwungwun/anaconda/lib/python3.6/site-packages/sklearn/linear_model/coordinate_descent.py:484: ConvergenceWarning: Objective did not converge. You might want to increase the number of iterations. Fitting data with very small alpha may cause precision problems.\n",
      "  ConvergenceWarning)\n",
      "/Users/gwungwun/anaconda/lib/python3.6/site-packages/sklearn/linear_model/coordinate_descent.py:484: ConvergenceWarning: Objective did not converge. You might want to increase the number of iterations. Fitting data with very small alpha may cause precision problems.\n",
      "  ConvergenceWarning)\n",
      "/Users/gwungwun/anaconda/lib/python3.6/site-packages/sklearn/linear_model/coordinate_descent.py:484: ConvergenceWarning: Objective did not converge. You might want to increase the number of iterations. Fitting data with very small alpha may cause precision problems.\n",
      "  ConvergenceWarning)\n",
      "/Users/gwungwun/anaconda/lib/python3.6/site-packages/sklearn/linear_model/coordinate_descent.py:484: ConvergenceWarning: Objective did not converge. You might want to increase the number of iterations. Fitting data with very small alpha may cause precision problems.\n",
      "  ConvergenceWarning)\n",
      "/Users/gwungwun/anaconda/lib/python3.6/site-packages/sklearn/linear_model/coordinate_descent.py:484: ConvergenceWarning: Objective did not converge. You might want to increase the number of iterations. Fitting data with very small alpha may cause precision problems.\n",
      "  ConvergenceWarning)\n",
      "/Users/gwungwun/anaconda/lib/python3.6/site-packages/sklearn/linear_model/coordinate_descent.py:484: ConvergenceWarning: Objective did not converge. You might want to increase the number of iterations. Fitting data with very small alpha may cause precision problems.\n",
      "  ConvergenceWarning)\n",
      "/Users/gwungwun/anaconda/lib/python3.6/site-packages/sklearn/linear_model/coordinate_descent.py:484: ConvergenceWarning: Objective did not converge. You might want to increase the number of iterations. Fitting data with very small alpha may cause precision problems.\n",
      "  ConvergenceWarning)\n",
      "/Users/gwungwun/anaconda/lib/python3.6/site-packages/sklearn/linear_model/coordinate_descent.py:484: ConvergenceWarning: Objective did not converge. You might want to increase the number of iterations. Fitting data with very small alpha may cause precision problems.\n",
      "  ConvergenceWarning)\n",
      "/Users/gwungwun/anaconda/lib/python3.6/site-packages/sklearn/linear_model/coordinate_descent.py:484: ConvergenceWarning: Objective did not converge. You might want to increase the number of iterations. Fitting data with very small alpha may cause precision problems.\n",
      "  ConvergenceWarning)\n",
      "/Users/gwungwun/anaconda/lib/python3.6/site-packages/sklearn/linear_model/coordinate_descent.py:484: ConvergenceWarning: Objective did not converge. You might want to increase the number of iterations. Fitting data with very small alpha may cause precision problems.\n",
      "  ConvergenceWarning)\n",
      "/Users/gwungwun/anaconda/lib/python3.6/site-packages/sklearn/linear_model/coordinate_descent.py:484: ConvergenceWarning: Objective did not converge. You might want to increase the number of iterations. Fitting data with very small alpha may cause precision problems.\n",
      "  ConvergenceWarning)\n",
      "/Users/gwungwun/anaconda/lib/python3.6/site-packages/sklearn/linear_model/coordinate_descent.py:484: ConvergenceWarning: Objective did not converge. You might want to increase the number of iterations. Fitting data with very small alpha may cause precision problems.\n",
      "  ConvergenceWarning)\n",
      "/Users/gwungwun/anaconda/lib/python3.6/site-packages/sklearn/linear_model/coordinate_descent.py:484: ConvergenceWarning: Objective did not converge. You might want to increase the number of iterations. Fitting data with very small alpha may cause precision problems.\n",
      "  ConvergenceWarning)\n",
      "/Users/gwungwun/anaconda/lib/python3.6/site-packages/sklearn/linear_model/coordinate_descent.py:484: ConvergenceWarning: Objective did not converge. You might want to increase the number of iterations. Fitting data with very small alpha may cause precision problems.\n",
      "  ConvergenceWarning)\n"
     ]
    },
    {
     "name": "stderr",
     "output_type": "stream",
     "text": [
      "/Users/gwungwun/anaconda/lib/python3.6/site-packages/sklearn/linear_model/coordinate_descent.py:484: ConvergenceWarning: Objective did not converge. You might want to increase the number of iterations. Fitting data with very small alpha may cause precision problems.\n",
      "  ConvergenceWarning)\n",
      "/Users/gwungwun/anaconda/lib/python3.6/site-packages/sklearn/linear_model/coordinate_descent.py:484: ConvergenceWarning: Objective did not converge. You might want to increase the number of iterations. Fitting data with very small alpha may cause precision problems.\n",
      "  ConvergenceWarning)\n",
      "/Users/gwungwun/anaconda/lib/python3.6/site-packages/sklearn/linear_model/coordinate_descent.py:484: ConvergenceWarning: Objective did not converge. You might want to increase the number of iterations. Fitting data with very small alpha may cause precision problems.\n",
      "  ConvergenceWarning)\n",
      "/Users/gwungwun/anaconda/lib/python3.6/site-packages/sklearn/linear_model/coordinate_descent.py:484: ConvergenceWarning: Objective did not converge. You might want to increase the number of iterations. Fitting data with very small alpha may cause precision problems.\n",
      "  ConvergenceWarning)\n",
      "/Users/gwungwun/anaconda/lib/python3.6/site-packages/sklearn/linear_model/coordinate_descent.py:484: ConvergenceWarning: Objective did not converge. You might want to increase the number of iterations. Fitting data with very small alpha may cause precision problems.\n",
      "  ConvergenceWarning)\n",
      "/Users/gwungwun/anaconda/lib/python3.6/site-packages/sklearn/linear_model/coordinate_descent.py:484: ConvergenceWarning: Objective did not converge. You might want to increase the number of iterations. Fitting data with very small alpha may cause precision problems.\n",
      "  ConvergenceWarning)\n",
      "/Users/gwungwun/anaconda/lib/python3.6/site-packages/sklearn/linear_model/coordinate_descent.py:484: ConvergenceWarning: Objective did not converge. You might want to increase the number of iterations. Fitting data with very small alpha may cause precision problems.\n",
      "  ConvergenceWarning)\n",
      "/Users/gwungwun/anaconda/lib/python3.6/site-packages/sklearn/linear_model/coordinate_descent.py:484: ConvergenceWarning: Objective did not converge. You might want to increase the number of iterations. Fitting data with very small alpha may cause precision problems.\n",
      "  ConvergenceWarning)\n",
      "/Users/gwungwun/anaconda/lib/python3.6/site-packages/sklearn/linear_model/coordinate_descent.py:484: ConvergenceWarning: Objective did not converge. You might want to increase the number of iterations. Fitting data with very small alpha may cause precision problems.\n",
      "  ConvergenceWarning)\n",
      "/Users/gwungwun/anaconda/lib/python3.6/site-packages/sklearn/linear_model/coordinate_descent.py:484: ConvergenceWarning: Objective did not converge. You might want to increase the number of iterations. Fitting data with very small alpha may cause precision problems.\n",
      "  ConvergenceWarning)\n",
      "/Users/gwungwun/anaconda/lib/python3.6/site-packages/sklearn/linear_model/coordinate_descent.py:484: ConvergenceWarning: Objective did not converge. You might want to increase the number of iterations. Fitting data with very small alpha may cause precision problems.\n",
      "  ConvergenceWarning)\n",
      "/Users/gwungwun/anaconda/lib/python3.6/site-packages/sklearn/linear_model/coordinate_descent.py:484: ConvergenceWarning: Objective did not converge. You might want to increase the number of iterations. Fitting data with very small alpha may cause precision problems.\n",
      "  ConvergenceWarning)\n",
      "/Users/gwungwun/anaconda/lib/python3.6/site-packages/sklearn/linear_model/coordinate_descent.py:484: ConvergenceWarning: Objective did not converge. You might want to increase the number of iterations. Fitting data with very small alpha may cause precision problems.\n",
      "  ConvergenceWarning)\n",
      "/Users/gwungwun/anaconda/lib/python3.6/site-packages/sklearn/linear_model/coordinate_descent.py:484: ConvergenceWarning: Objective did not converge. You might want to increase the number of iterations. Fitting data with very small alpha may cause precision problems.\n",
      "  ConvergenceWarning)\n",
      "/Users/gwungwun/anaconda/lib/python3.6/site-packages/sklearn/linear_model/coordinate_descent.py:484: ConvergenceWarning: Objective did not converge. You might want to increase the number of iterations. Fitting data with very small alpha may cause precision problems.\n",
      "  ConvergenceWarning)\n",
      "/Users/gwungwun/anaconda/lib/python3.6/site-packages/sklearn/linear_model/coordinate_descent.py:484: ConvergenceWarning: Objective did not converge. You might want to increase the number of iterations. Fitting data with very small alpha may cause precision problems.\n",
      "  ConvergenceWarning)\n",
      "/Users/gwungwun/anaconda/lib/python3.6/site-packages/sklearn/linear_model/coordinate_descent.py:484: ConvergenceWarning: Objective did not converge. You might want to increase the number of iterations. Fitting data with very small alpha may cause precision problems.\n",
      "  ConvergenceWarning)\n",
      "/Users/gwungwun/anaconda/lib/python3.6/site-packages/sklearn/linear_model/coordinate_descent.py:484: ConvergenceWarning: Objective did not converge. You might want to increase the number of iterations. Fitting data with very small alpha may cause precision problems.\n",
      "  ConvergenceWarning)\n",
      "/Users/gwungwun/anaconda/lib/python3.6/site-packages/sklearn/linear_model/coordinate_descent.py:484: ConvergenceWarning: Objective did not converge. You might want to increase the number of iterations. Fitting data with very small alpha may cause precision problems.\n",
      "  ConvergenceWarning)\n",
      "/Users/gwungwun/anaconda/lib/python3.6/site-packages/sklearn/linear_model/coordinate_descent.py:484: ConvergenceWarning: Objective did not converge. You might want to increase the number of iterations. Fitting data with very small alpha may cause precision problems.\n",
      "  ConvergenceWarning)\n",
      "/Users/gwungwun/anaconda/lib/python3.6/site-packages/sklearn/linear_model/coordinate_descent.py:484: ConvergenceWarning: Objective did not converge. You might want to increase the number of iterations. Fitting data with very small alpha may cause precision problems.\n",
      "  ConvergenceWarning)\n",
      "/Users/gwungwun/anaconda/lib/python3.6/site-packages/sklearn/linear_model/coordinate_descent.py:484: ConvergenceWarning: Objective did not converge. You might want to increase the number of iterations. Fitting data with very small alpha may cause precision problems.\n",
      "  ConvergenceWarning)\n",
      "/Users/gwungwun/anaconda/lib/python3.6/site-packages/sklearn/linear_model/coordinate_descent.py:484: ConvergenceWarning: Objective did not converge. You might want to increase the number of iterations. Fitting data with very small alpha may cause precision problems.\n",
      "  ConvergenceWarning)\n",
      "/Users/gwungwun/anaconda/lib/python3.6/site-packages/sklearn/linear_model/coordinate_descent.py:484: ConvergenceWarning: Objective did not converge. You might want to increase the number of iterations. Fitting data with very small alpha may cause precision problems.\n",
      "  ConvergenceWarning)\n",
      "/Users/gwungwun/anaconda/lib/python3.6/site-packages/sklearn/linear_model/coordinate_descent.py:484: ConvergenceWarning: Objective did not converge. You might want to increase the number of iterations. Fitting data with very small alpha may cause precision problems.\n",
      "  ConvergenceWarning)\n",
      "/Users/gwungwun/anaconda/lib/python3.6/site-packages/sklearn/linear_model/coordinate_descent.py:484: ConvergenceWarning: Objective did not converge. You might want to increase the number of iterations. Fitting data with very small alpha may cause precision problems.\n",
      "  ConvergenceWarning)\n",
      "/Users/gwungwun/anaconda/lib/python3.6/site-packages/sklearn/linear_model/coordinate_descent.py:484: ConvergenceWarning: Objective did not converge. You might want to increase the number of iterations. Fitting data with very small alpha may cause precision problems.\n",
      "  ConvergenceWarning)\n",
      "/Users/gwungwun/anaconda/lib/python3.6/site-packages/sklearn/linear_model/coordinate_descent.py:484: ConvergenceWarning: Objective did not converge. You might want to increase the number of iterations. Fitting data with very small alpha may cause precision problems.\n",
      "  ConvergenceWarning)\n"
     ]
    }
   ],
   "source": [
    "# Repeat for 10 random trials/splits\n",
    "\n",
    "alphas = [10**i for i in range(-5, 6)]\n",
    "k_list = np.arange(100, 401, 50)\n",
    "repeat = 10\n",
    "\n",
    "ridge_train = np.zeros([7, repeat])\n",
    "ridge_test = np.zeros([7, repeat])\n",
    "lasso_train = np.zeros([7, repeat])\n",
    "lasso_test = np.zeros([7, repeat])\n",
    "ols_train = np.zeros([7, repeat])\n",
    "ols_test = np.zeros([7, repeat])\n",
    "\n",
    "for i in range(repeat):\n",
    "    for j in range(len(k_list)):\n",
    "        X_subset, y_subset = sample(X_train, y_train, k_list[j])\n",
    "\n",
    "        ridgeRegression = RidgeCV(alphas)\n",
    "        results = ridgeRegression.fit(X_subset, y_subset)\n",
    "        ridge_train[j, i] = results.score(X_subset, y_subset)\n",
    "        ridge_test[j, i] = results.score(X_test, y_test)\n",
    "\n",
    "        lassoRegression = LassoCV(alphas = alphas)\n",
    "        results = lassoRegression.fit(X_subset, y_subset)\n",
    "        lasso_train[j, i] = results.score(X_subset, y_subset)\n",
    "        lasso_test[j, i] = results.score(X_test, y_test)\n",
    "\n",
    "        X_train_ols = sm.add_constant(X_subset)\n",
    "        X_test_ols = sm.add_constant(X_test)\n",
    "\n",
    "        result = sm.OLS(y_subset, X_train_ols).fit()\n",
    "        y_train_pred = result.predict(X_train_ols)\n",
    "        y_test_pred = result.predict(X_test_ols)\n",
    "        ols_train[j, i] = r2_score(y_subset, y_train_pred)\n",
    "        ols_test[j, i] = r2_score(y_test, y_test_pred)\n",
    "        "
   ]
  },
  {
   "cell_type": "code",
   "execution_count": 7,
   "metadata": {},
   "outputs": [
    {
     "data": {
      "text/plain": [
       "<matplotlib.legend.Legend at 0x118042be0>"
      ]
     },
     "execution_count": 7,
     "metadata": {},
     "output_type": "execute_result"
    },
    {
     "data": {
      "image/png": "[encoded data removed]",
      "text/plain": [
       "<matplotlib.figure.Figure at 0x11643ae48>"
      ]
     },
     "metadata": {},
     "output_type": "display_data"
    }
   ],
   "source": [
    "plt.plot(k_list, np.mean(ridge_train, axis = 1), 'r', label = \"ridge_train\")\n",
    "plt.plot(k_list, np.mean(ridge_train, axis = 1) + np.std(ridge_train, axis = 1), 'r--')\n",
    "plt.plot(k_list, np.mean(ridge_train, axis = 1) - np.std(ridge_train, axis = 1), 'r--')\n",
    "plt.plot(k_list, np.mean(lasso_train, axis = 1), 'g', label = \"lasso_train\")\n",
    "plt.plot(k_list, np.mean(lasso_train, axis = 1) + np.std(lasso_train, axis = 1), 'g--')\n",
    "plt.plot(k_list, np.mean(lasso_train, axis = 1) - np.std(lasso_train, axis = 1), 'g--')\n",
    "\n",
    "plt.plot(k_list, np.mean(ols_train, axis = 1), 'b', label = \"ols_train\")\n",
    "plt.plot(k_list, np.mean(ols_train, axis = 1) + np.std(ols_train, axis = 1), 'b--')\n",
    "plt.plot(k_list, np.mean(ols_train, axis = 1) - np.std(ols_train, axis = 1), 'b--')\n",
    "\n",
    "\n",
    "plt.legend()"
   ]
  },
  {
   "cell_type": "code",
   "execution_count": 8,
   "metadata": {},
   "outputs": [
    {
     "data": {
      "text/plain": [
       "<matplotlib.legend.Legend at 0x11d4d04e0>"
      ]
     },
     "execution_count": 8,
     "metadata": {},
     "output_type": "execute_result"
    },
    {
     "data": {
      "image/png": "[encoded data removed]",
      "text/plain": [
       "<matplotlib.figure.Figure at 0x11d3fc9b0>"
      ]
     },
     "metadata": {},
     "output_type": "display_data"
    }
   ],
   "source": [
    "plt.plot(k_list, np.mean(ridge_test, axis = 1), 'r', label = \"ridge_test\")\n",
    "plt.plot(k_list, np.mean(ridge_test, axis = 1) + np.std(ridge_test, axis = 1), 'r--')\n",
    "plt.plot(k_list, np.mean(ridge_test, axis = 1) - np.std(ridge_test, axis = 1), 'r--')\n",
    "plt.plot(k_list, np.mean(lasso_test, axis = 1), 'g', label = \"lasso_test\")\n",
    "plt.plot(k_list, np.mean(lasso_test, axis = 1) + np.std(lasso_test, axis = 1), 'g--')\n",
    "plt.plot(k_list, np.mean(lasso_test, axis = 1) - np.std(lasso_test, axis = 1), 'g--')\n",
    "\n",
    "plt.plot(k_list, np.mean(ols_test, axis = 1), 'b', label = \"ols_test\")\n",
    "plt.plot(k_list, np.mean(ols_test, axis = 1) + np.std(ols_test, axis = 1), 'b--')\n",
    "plt.plot(k_list, np.mean(ols_test, axis = 1) - np.std(ols_test, axis = 1), 'b--')\n",
    "\n",
    "\n",
    "plt.legend()"
   ]
  },
  {
   "cell_type": "markdown",
   "metadata": {},
   "source": [
    "1. OLS regression has higher training $R^2$ but lower test score. This might be due to over-fitting, while Ridge regression and Lasso regression has its punished term to control this problem.\n",
    "    \n",
    "    When sample size increases, the performance of these three models almost converge.\n",
    "\n",
    "2. The confidence interval narrows when sample size increases.\n",
    "\n",
    "3. Choose Ridge regression or lasso regression for small sample size since they have larger test $R^2$."
   ]
  },
  {
   "cell_type": "markdown",
   "metadata": {},
   "source": [
    "## Part (g): Polynomial & Interaction Terms\n",
    "\n",
    "Moving beyond linear models, we will now try to improve the performance of the regression model in Part (b) from HW 3 by including higher-order polynomial and interaction terms. \n",
    "\n",
    "- For each continuous predictor $X_j$, include additional polynomial terms $X^2_j$, $X^3_j$, and $X^4_j$, and fit a multiple regression model to the expanded training set. How does the $R^2$ of this model on the test set compare with that of the linear model fitted in Part (b) from HW 3? Using a t-test, find out which of estimated coefficients for the polynomial terms are statistically significant at a significance level of 5%. \n",
    "\n",
    "- Fit a multiple linear regression model with additional interaction terms $\\mathbb{I}_{month = 12} \\times temp$ and $\\mathbb{I}_{workingday = 1} \\times \\mathbb{I}_{weathersit = 1}$ and report the test $R^2$ for the fitted model. How does this compare with the $R^2$ obtained using linear model in Part (b) from HW 3? Are the estimated coefficients for the interaction terms statistically significant at a significance level of 5%?"
   ]
  },
  {
   "cell_type": "code",
   "execution_count": 9,
   "metadata": {},
   "outputs": [],
   "source": [
    "def add_polynomial(X, order):\n",
    "    X_new = X\n",
    "    for i in range(2, order + 1):\n",
    "        X_new = np.concatenate((X_new, X[:, -4:]**i), axis = 1)\n",
    "        \n",
    "    return X_new"
   ]
  },
  {
   "cell_type": "code",
   "execution_count": 10,
   "metadata": {},
   "outputs": [
    {
     "data": {
      "text/plain": [
       "(331, 4)"
      ]
     },
     "execution_count": 10,
     "metadata": {},
     "output_type": "execute_result"
    }
   ],
   "source": [
    "X_train[:, -4:].shape"
   ]
  },
  {
   "cell_type": "code",
   "execution_count": 11,
   "metadata": {},
   "outputs": [
    {
     "name": "stdout",
     "output_type": "stream",
     "text": [
      "training R^2 for order 4 is 0.6696562402214015\n",
      "testing R^2 for order 4 is 0.2772384350861521\n"
     ]
    }
   ],
   "source": [
    "# your code here\n",
    "order = 4\n",
    "\n",
    "x_order = add_polynomial(X_train, order)\n",
    "x_order_test = add_polynomial(X_test, order)\n",
    "    \n",
    "x_order = sm.add_constant(x_order)\n",
    "x_order_test = sm.add_constant(x_order_test)\n",
    "regr_order = sm.OLS(y_train, x_order)\n",
    "results = regr_order.fit()\n",
    "print(\"training R^2 for order {} is {}\".format(order, r2_score(y_train, results.predict(x_order))))\n",
    "print(\"testing R^2 for order {} is {}\".format(order, r2_score(y_test, results.predict(x_order_test))))"
   ]
  },
  {
   "cell_type": "markdown",
   "metadata": {},
   "source": [
    "The test $R^2$ is higher"
   ]
  },
  {
   "cell_type": "code",
   "execution_count": 12,
   "metadata": {},
   "outputs": [
    {
     "data": {
      "text/html": [
       "<table class=\"simpletable\">\n",
       "<caption>OLS Regression Results</caption>\n",
       "<tr>\n",
       "  <th>Dep. Variable:</th>            <td>y</td>        <th>  R-squared:         </th> <td>   0.670</td>\n",
       "</tr>\n",
       "<tr>\n",
       "  <th>Model:</th>                   <td>OLS</td>       <th>  Adj. R-squared:    </th> <td>   0.625</td>\n",
       "</tr>\n",
       "<tr>\n",
       "  <th>Method:</th>             <td>Least Squares</td>  <th>  F-statistic:       </th> <td>   15.13</td>\n",
       "</tr>\n",
       "<tr>\n",
       "  <th>Date:</th>             <td>Sat, 07 Oct 2017</td> <th>  Prob (F-statistic):</th> <td>7.98e-50</td>\n",
       "</tr>\n",
       "<tr>\n",
       "  <th>Time:</th>                 <td>15:38:10</td>     <th>  Log-Likelihood:    </th> <td> -2790.9</td>\n",
       "</tr>\n",
       "<tr>\n",
       "  <th>No. Observations:</th>      <td>   331</td>      <th>  AIC:               </th> <td>   5662.</td>\n",
       "</tr>\n",
       "<tr>\n",
       "  <th>Df Residuals:</th>          <td>   291</td>      <th>  BIC:               </th> <td>   5814.</td>\n",
       "</tr>\n",
       "<tr>\n",
       "  <th>Df Model:</th>              <td>    39</td>      <th>                     </th>     <td> </td>   \n",
       "</tr>\n",
       "<tr>\n",
       "  <th>Covariance Type:</th>      <td>nonrobust</td>    <th>                     </th>     <td> </td>   \n",
       "</tr>\n",
       "</table>\n",
       "<table class=\"simpletable\">\n",
       "<tr>\n",
       "    <td></td>       <th>coef</th>     <th>std err</th>      <th>t</th>      <th>P>|t|</th>  <th>[0.025</th>    <th>0.975]</th>  \n",
       "</tr>\n",
       "<tr>\n",
       "  <th>const</th> <td> 5429.9163</td> <td>  711.186</td> <td>    7.635</td> <td> 0.000</td> <td> 4030.197</td> <td> 6829.636</td>\n",
       "</tr>\n",
       "<tr>\n",
       "  <th>x1</th>    <td>-1523.2288</td> <td>  467.580</td> <td>   -3.258</td> <td> 0.001</td> <td>-2443.496</td> <td> -602.961</td>\n",
       "</tr>\n",
       "<tr>\n",
       "  <th>x2</th>    <td> -756.7981</td> <td>  536.808</td> <td>   -1.410</td> <td> 0.160</td> <td>-1813.316</td> <td>  299.720</td>\n",
       "</tr>\n",
       "<tr>\n",
       "  <th>x3</th>    <td>   55.5255</td> <td>  419.974</td> <td>    0.132</td> <td> 0.895</td> <td> -771.046</td> <td>  882.097</td>\n",
       "</tr>\n",
       "<tr>\n",
       "  <th>x4</th>    <td>  555.6676</td> <td>  479.543</td> <td>    1.159</td> <td> 0.248</td> <td> -388.146</td> <td> 1499.481</td>\n",
       "</tr>\n",
       "<tr>\n",
       "  <th>x5</th>    <td>  230.5990</td> <td>  478.558</td> <td>    0.482</td> <td> 0.630</td> <td> -711.275</td> <td> 1172.473</td>\n",
       "</tr>\n",
       "<tr>\n",
       "  <th>x6</th>    <td>  250.8185</td> <td>  472.431</td> <td>    0.531</td> <td> 0.596</td> <td> -678.997</td> <td> 1180.634</td>\n",
       "</tr>\n",
       "<tr>\n",
       "  <th>x7</th>    <td>  137.6431</td> <td>  605.236</td> <td>    0.227</td> <td> 0.820</td> <td>-1053.552</td> <td> 1328.838</td>\n",
       "</tr>\n",
       "<tr>\n",
       "  <th>x8</th>    <td> -481.5367</td> <td>  647.272</td> <td>   -0.744</td> <td> 0.458</td> <td>-1755.466</td> <td>  792.392</td>\n",
       "</tr>\n",
       "<tr>\n",
       "  <th>x9</th>    <td> -900.5181</td> <td>  648.671</td> <td>   -1.388</td> <td> 0.166</td> <td>-2177.201</td> <td>  376.164</td>\n",
       "</tr>\n",
       "<tr>\n",
       "  <th>x10</th>   <td> -861.3206</td> <td>  653.672</td> <td>   -1.318</td> <td> 0.189</td> <td>-2147.844</td> <td>  425.203</td>\n",
       "</tr>\n",
       "<tr>\n",
       "  <th>x11</th>   <td>-1160.2713</td> <td>  644.832</td> <td>   -1.799</td> <td> 0.073</td> <td>-2429.397</td> <td>  108.854</td>\n",
       "</tr>\n",
       "<tr>\n",
       "  <th>x12</th>   <td> -517.7332</td> <td>  527.018</td> <td>   -0.982</td> <td> 0.327</td> <td>-1554.984</td> <td>  519.518</td>\n",
       "</tr>\n",
       "<tr>\n",
       "  <th>x13</th>   <td> -370.2035</td> <td>  420.771</td> <td>   -0.880</td> <td> 0.380</td> <td>-1198.343</td> <td>  457.936</td>\n",
       "</tr>\n",
       "<tr>\n",
       "  <th>x14</th>   <td> -269.8653</td> <td>  380.406</td> <td>   -0.709</td> <td> 0.479</td> <td>-1018.560</td> <td>  478.830</td>\n",
       "</tr>\n",
       "<tr>\n",
       "  <th>x15</th>   <td> -471.0834</td> <td>  246.557</td> <td>   -1.911</td> <td> 0.057</td> <td> -956.345</td> <td>   14.178</td>\n",
       "</tr>\n",
       "<tr>\n",
       "  <th>x16</th>   <td> -227.9217</td> <td>  157.372</td> <td>   -1.448</td> <td> 0.149</td> <td> -537.653</td> <td>   81.809</td>\n",
       "</tr>\n",
       "<tr>\n",
       "  <th>x17</th>   <td> -268.0232</td> <td>  186.488</td> <td>   -1.437</td> <td> 0.152</td> <td> -635.060</td> <td>   99.014</td>\n",
       "</tr>\n",
       "<tr>\n",
       "  <th>x18</th>   <td>   13.1360</td> <td>  196.966</td> <td>    0.067</td> <td> 0.947</td> <td> -374.522</td> <td>  400.794</td>\n",
       "</tr>\n",
       "<tr>\n",
       "  <th>x19</th>   <td> -104.0028</td> <td>  189.352</td> <td>   -0.549</td> <td> 0.583</td> <td> -476.675</td> <td>  268.669</td>\n",
       "</tr>\n",
       "<tr>\n",
       "  <th>x20</th>   <td>   75.3419</td> <td>  184.193</td> <td>    0.409</td> <td> 0.683</td> <td> -287.178</td> <td>  437.861</td>\n",
       "</tr>\n",
       "<tr>\n",
       "  <th>x21</th>   <td> 1043.9997</td> <td>  546.051</td> <td>    1.912</td> <td> 0.057</td> <td>  -30.710</td> <td> 2118.709</td>\n",
       "</tr>\n",
       "<tr>\n",
       "  <th>x22</th>   <td> 1103.0116</td> <td>  499.023</td> <td>    2.210</td> <td> 0.028</td> <td>  120.859</td> <td> 2085.164</td>\n",
       "</tr>\n",
       "<tr>\n",
       "  <th>x23</th>   <td> -526.2557</td> <td>  372.773</td> <td>   -1.412</td> <td> 0.159</td> <td>-1259.929</td> <td>  207.418</td>\n",
       "</tr>\n",
       "<tr>\n",
       "  <th>x24</th>   <td>   14.7858</td> <td>  159.059</td> <td>    0.093</td> <td> 0.926</td> <td> -298.265</td> <td>  327.837</td>\n",
       "</tr>\n",
       "<tr>\n",
       "  <th>x25</th>   <td>  771.4866</td> <td>  760.117</td> <td>    1.015</td> <td> 0.311</td> <td> -724.536</td> <td> 2267.510</td>\n",
       "</tr>\n",
       "<tr>\n",
       "  <th>x26</th>   <td>  897.2756</td> <td>  713.172</td> <td>    1.258</td> <td> 0.209</td> <td> -506.353</td> <td> 2300.904</td>\n",
       "</tr>\n",
       "<tr>\n",
       "  <th>x27</th>   <td> -668.9145</td> <td>  157.356</td> <td>   -4.251</td> <td> 0.000</td> <td> -978.615</td> <td> -359.214</td>\n",
       "</tr>\n",
       "<tr>\n",
       "  <th>x28</th>   <td> -446.5085</td> <td>  148.929</td> <td>   -2.998</td> <td> 0.003</td> <td> -739.623</td> <td> -153.394</td>\n",
       "</tr>\n",
       "<tr>\n",
       "  <th>x29</th>   <td>-1811.0180</td> <td>  816.910</td> <td>   -2.217</td> <td> 0.027</td> <td>-3418.820</td> <td> -203.216</td>\n",
       "</tr>\n",
       "<tr>\n",
       "  <th>x30</th>   <td> 1175.5005</td> <td>  788.864</td> <td>    1.490</td> <td> 0.137</td> <td> -377.102</td> <td> 2728.103</td>\n",
       "</tr>\n",
       "<tr>\n",
       "  <th>x31</th>   <td>  -53.6709</td> <td>  155.383</td> <td>   -0.345</td> <td> 0.730</td> <td> -359.488</td> <td>  252.146</td>\n",
       "</tr>\n",
       "<tr>\n",
       "  <th>x32</th>   <td>  -34.1653</td> <td>  126.952</td> <td>   -0.269</td> <td> 0.788</td> <td> -284.026</td> <td>  215.695</td>\n",
       "</tr>\n",
       "<tr>\n",
       "  <th>x33</th>   <td>    8.6078</td> <td>  275.731</td> <td>    0.031</td> <td> 0.975</td> <td> -534.071</td> <td>  551.287</td>\n",
       "</tr>\n",
       "<tr>\n",
       "  <th>x34</th>   <td> -303.9358</td> <td>  246.097</td> <td>   -1.235</td> <td> 0.218</td> <td> -788.292</td> <td>  180.420</td>\n",
       "</tr>\n",
       "<tr>\n",
       "  <th>x35</th>   <td>  -16.0576</td> <td>   44.892</td> <td>   -0.358</td> <td> 0.721</td> <td> -104.412</td> <td>   72.297</td>\n",
       "</tr>\n",
       "<tr>\n",
       "  <th>x36</th>   <td>   44.8339</td> <td>   65.459</td> <td>    0.685</td> <td> 0.494</td> <td>  -83.999</td> <td>  173.667</td>\n",
       "</tr>\n",
       "<tr>\n",
       "  <th>x37</th>   <td>  -45.1910</td> <td>  171.419</td> <td>   -0.264</td> <td> 0.792</td> <td> -382.570</td> <td>  292.188</td>\n",
       "</tr>\n",
       "<tr>\n",
       "  <th>x38</th>   <td>  -20.7686</td> <td>  147.605</td> <td>   -0.141</td> <td> 0.888</td> <td> -311.276</td> <td>  269.739</td>\n",
       "</tr>\n",
       "<tr>\n",
       "  <th>x39</th>   <td>  -24.8367</td> <td>   31.481</td> <td>   -0.789</td> <td> 0.431</td> <td>  -86.796</td> <td>   37.122</td>\n",
       "</tr>\n",
       "<tr>\n",
       "  <th>x40</th>   <td>  -20.1769</td> <td>   30.327</td> <td>   -0.665</td> <td> 0.506</td> <td>  -79.864</td> <td>   39.510</td>\n",
       "</tr>\n",
       "</table>\n",
       "<table class=\"simpletable\">\n",
       "<tr>\n",
       "  <th>Omnibus:</th>       <td>29.995</td> <th>  Durbin-Watson:     </th> <td>   1.959</td>\n",
       "</tr>\n",
       "<tr>\n",
       "  <th>Prob(Omnibus):</th> <td> 0.000</td> <th>  Jarque-Bera (JB):  </th> <td>  10.202</td>\n",
       "</tr>\n",
       "<tr>\n",
       "  <th>Skew:</th>          <td>-0.094</td> <th>  Prob(JB):          </th> <td> 0.00609</td>\n",
       "</tr>\n",
       "<tr>\n",
       "  <th>Kurtosis:</th>      <td> 2.161</td> <th>  Cond. No.          </th> <td>1.36e+16</td>\n",
       "</tr>\n",
       "</table>"
      ],
      "text/plain": [
       "<class 'statsmodels.iolib.summary.Summary'>\n",
       "\"\"\"\n",
       "                            OLS Regression Results                            \n",
       "==============================================================================\n",
       "Dep. Variable:                      y   R-squared:                       0.670\n",
       "Model:                            OLS   Adj. R-squared:                  0.625\n",
       "Method:                 Least Squares   F-statistic:                     15.13\n",
       "Date:                Sat, 07 Oct 2017   Prob (F-statistic):           7.98e-50\n",
       "Time:                        15:38:10   Log-Likelihood:                -2790.9\n",
       "No. Observations:                 331   AIC:                             5662.\n",
       "Df Residuals:                     291   BIC:                             5814.\n",
       "Df Model:                          39                                         \n",
       "Covariance Type:            nonrobust                                         \n",
       "==============================================================================\n",
       "                 coef    std err          t      P>|t|      [0.025      0.975]\n",
       "------------------------------------------------------------------------------\n",
       "const       5429.9163    711.186      7.635      0.000    4030.197    6829.636\n",
       "x1         -1523.2288    467.580     -3.258      0.001   -2443.496    -602.961\n",
       "x2          -756.7981    536.808     -1.410      0.160   -1813.316     299.720\n",
       "x3            55.5255    419.974      0.132      0.895    -771.046     882.097\n",
       "x4           555.6676    479.543      1.159      0.248    -388.146    1499.481\n",
       "x5           230.5990    478.558      0.482      0.630    -711.275    1172.473\n",
       "x6           250.8185    472.431      0.531      0.596    -678.997    1180.634\n",
       "x7           137.6431    605.236      0.227      0.820   -1053.552    1328.838\n",
       "x8          -481.5367    647.272     -0.744      0.458   -1755.466     792.392\n",
       "x9          -900.5181    648.671     -1.388      0.166   -2177.201     376.164\n",
       "x10         -861.3206    653.672     -1.318      0.189   -2147.844     425.203\n",
       "x11        -1160.2713    644.832     -1.799      0.073   -2429.397     108.854\n",
       "x12         -517.7332    527.018     -0.982      0.327   -1554.984     519.518\n",
       "x13         -370.2035    420.771     -0.880      0.380   -1198.343     457.936\n",
       "x14         -269.8653    380.406     -0.709      0.479   -1018.560     478.830\n",
       "x15         -471.0834    246.557     -1.911      0.057    -956.345      14.178\n",
       "x16         -227.9217    157.372     -1.448      0.149    -537.653      81.809\n",
       "x17         -268.0232    186.488     -1.437      0.152    -635.060      99.014\n",
       "x18           13.1360    196.966      0.067      0.947    -374.522     400.794\n",
       "x19         -104.0028    189.352     -0.549      0.583    -476.675     268.669\n",
       "x20           75.3419    184.193      0.409      0.683    -287.178     437.861\n",
       "x21         1043.9997    546.051      1.912      0.057     -30.710    2118.709\n",
       "x22         1103.0116    499.023      2.210      0.028     120.859    2085.164\n",
       "x23         -526.2557    372.773     -1.412      0.159   -1259.929     207.418\n",
       "x24           14.7858    159.059      0.093      0.926    -298.265     327.837\n",
       "x25          771.4866    760.117      1.015      0.311    -724.536    2267.510\n",
       "x26          897.2756    713.172      1.258      0.209    -506.353    2300.904\n",
       "x27         -668.9145    157.356     -4.251      0.000    -978.615    -359.214\n",
       "x28         -446.5085    148.929     -2.998      0.003    -739.623    -153.394\n",
       "x29        -1811.0180    816.910     -2.217      0.027   -3418.820    -203.216\n",
       "x30         1175.5005    788.864      1.490      0.137    -377.102    2728.103\n",
       "x31          -53.6709    155.383     -0.345      0.730    -359.488     252.146\n",
       "x32          -34.1653    126.952     -0.269      0.788    -284.026     215.695\n",
       "x33            8.6078    275.731      0.031      0.975    -534.071     551.287\n",
       "x34         -303.9358    246.097     -1.235      0.218    -788.292     180.420\n",
       "x35          -16.0576     44.892     -0.358      0.721    -104.412      72.297\n",
       "x36           44.8339     65.459      0.685      0.494     -83.999     173.667\n",
       "x37          -45.1910    171.419     -0.264      0.792    -382.570     292.188\n",
       "x38          -20.7686    147.605     -0.141      0.888    -311.276     269.739\n",
       "x39          -24.8367     31.481     -0.789      0.431     -86.796      37.122\n",
       "x40          -20.1769     30.327     -0.665      0.506     -79.864      39.510\n",
       "==============================================================================\n",
       "Omnibus:                       29.995   Durbin-Watson:                   1.959\n",
       "Prob(Omnibus):                  0.000   Jarque-Bera (JB):               10.202\n",
       "Skew:                          -0.094   Prob(JB):                      0.00609\n",
       "Kurtosis:                       2.161   Cond. No.                     1.36e+16\n",
       "==============================================================================\n",
       "\n",
       "Warnings:\n",
       "[1] Standard Errors assume that the covariance matrix of the errors is correctly specified.\n",
       "[2] The smallest eigenvalue is 2.08e-28. This might indicate that there are\n",
       "strong multicollinearity problems or that the design matrix is singular.\n",
       "\"\"\""
      ]
     },
     "execution_count": 12,
     "metadata": {},
     "output_type": "execute_result"
    }
   ],
   "source": [
    "results.summary()"
   ]
  },
  {
   "cell_type": "markdown",
   "metadata": {},
   "source": [
    "There are 6 significant predictors: const, season_1.0, weather 2.0, humidity, windspeed, temp^2"
   ]
  },
  {
   "cell_type": "code",
   "execution_count": 13,
   "metadata": {},
   "outputs": [],
   "source": [
    "tmp = data_train['weather_1.0'] * data_train['workingday']\n",
    "x_inter = np.concatenate((X_train, tmp.values.reshape(-1, 1)), axis = 1)\n",
    "tmp_test = data_test['weather_1.0'] * data_test['workingday']\n",
    "x_inter_test = np.concatenate((X_test, tmp_test.values.reshape(-1, 1)), axis = 1)"
   ]
  },
  {
   "cell_type": "code",
   "execution_count": 14,
   "metadata": {},
   "outputs": [],
   "source": [
    "data_train_tmp = pd.read_csv('data/Bikeshare_train.csv')\n",
    "data_test_tmp = pd.read_csv('data/Bikeshare_test.csv')\n",
    "data_train_tmp = pd.get_dummies(data_train_tmp, columns=['month'])\n",
    "data_test_tmp = pd.get_dummies(data_test_tmp, columns=['month'])"
   ]
  },
  {
   "cell_type": "code",
   "execution_count": 15,
   "metadata": {},
   "outputs": [],
   "source": [
    "tmp = data_train_tmp['month_12.0'] * data_train['temp']\n",
    "x_inter = np.concatenate((x_inter, tmp.values.reshape(-1, 1)), axis = 1)\n",
    "tmp_test = data_test_tmp['month_12.0'] * data_test['temp']\n",
    "x_inter_test = np.concatenate((x_inter_test, tmp_test.values.reshape(-1, 1)), axis = 1)"
   ]
  },
  {
   "cell_type": "code",
   "execution_count": null,
   "metadata": {},
   "outputs": [],
   "source": []
  },
  {
   "cell_type": "code",
   "execution_count": 16,
   "metadata": {},
   "outputs": [
    {
     "name": "stdout",
     "output_type": "stream",
     "text": [
      "training R^2 for order 4 is 0.580381348480301\n",
      "testing R^2 for order 4 is 0.2685181896268102\n"
     ]
    }
   ],
   "source": [
    "x_inter = sm.add_constant(x_inter)\n",
    "x_inter_test = sm.add_constant(x_inter_test)\n",
    "regr_order = sm.OLS(y_train, x_inter)\n",
    "results = regr_order.fit()\n",
    "print(\"training R^2 for order {} is {}\".format(order, r2_score(y_train, results.predict(x_inter))))\n",
    "print(\"testing R^2 for order {} is {}\".format(order, r2_score(y_test, results.predict(x_inter_test))))"
   ]
  },
  {
   "cell_type": "markdown",
   "metadata": {},
   "source": [
    "The test $R^2$ is higher"
   ]
  },
  {
   "cell_type": "code",
   "execution_count": 17,
   "metadata": {},
   "outputs": [
    {
     "data": {
      "text/html": [
       "<table class=\"simpletable\">\n",
       "<caption>OLS Regression Results</caption>\n",
       "<tr>\n",
       "  <th>Dep. Variable:</th>            <td>y</td>        <th>  R-squared:         </th> <td>   0.580</td>\n",
       "</tr>\n",
       "<tr>\n",
       "  <th>Model:</th>                   <td>OLS</td>       <th>  Adj. R-squared:    </th> <td>   0.540</td>\n",
       "</tr>\n",
       "<tr>\n",
       "  <th>Method:</th>             <td>Least Squares</td>  <th>  F-statistic:       </th> <td>   14.36</td>\n",
       "</tr>\n",
       "<tr>\n",
       "  <th>Date:</th>             <td>Sat, 07 Oct 2017</td> <th>  Prob (F-statistic):</th> <td>2.43e-41</td>\n",
       "</tr>\n",
       "<tr>\n",
       "  <th>Time:</th>                 <td>15:38:10</td>     <th>  Log-Likelihood:    </th> <td> -2830.5</td>\n",
       "</tr>\n",
       "<tr>\n",
       "  <th>No. Observations:</th>      <td>   331</td>      <th>  AIC:               </th> <td>   5721.</td>\n",
       "</tr>\n",
       "<tr>\n",
       "  <th>Df Residuals:</th>          <td>   301</td>      <th>  BIC:               </th> <td>   5835.</td>\n",
       "</tr>\n",
       "<tr>\n",
       "  <th>Df Model:</th>              <td>    29</td>      <th>                     </th>     <td> </td>   \n",
       "</tr>\n",
       "<tr>\n",
       "  <th>Covariance Type:</th>      <td>nonrobust</td>    <th>                     </th>     <td> </td>   \n",
       "</tr>\n",
       "</table>\n",
       "<table class=\"simpletable\">\n",
       "<tr>\n",
       "    <td></td>       <th>coef</th>     <th>std err</th>      <th>t</th>      <th>P>|t|</th>  <th>[0.025</th>    <th>0.975]</th>  \n",
       "</tr>\n",
       "<tr>\n",
       "  <th>const</th> <td> 4734.0152</td> <td>  918.011</td> <td>    5.157</td> <td> 0.000</td> <td> 2927.483</td> <td> 6540.547</td>\n",
       "</tr>\n",
       "<tr>\n",
       "  <th>x1</th>    <td> -884.3187</td> <td>  550.763</td> <td>   -1.606</td> <td> 0.109</td> <td>-1968.152</td> <td>  199.515</td>\n",
       "</tr>\n",
       "<tr>\n",
       "  <th>x2</th>    <td> -110.9431</td> <td>  587.150</td> <td>   -0.189</td> <td> 0.850</td> <td>-1266.381</td> <td> 1044.495</td>\n",
       "</tr>\n",
       "<tr>\n",
       "  <th>x3</th>    <td>  -75.5976</td> <td>  453.682</td> <td>   -0.167</td> <td> 0.868</td> <td> -968.388</td> <td>  817.193</td>\n",
       "</tr>\n",
       "<tr>\n",
       "  <th>x4</th>    <td>-1211.6733</td> <td> 1040.400</td> <td>   -1.165</td> <td> 0.245</td> <td>-3259.052</td> <td>  835.706</td>\n",
       "</tr>\n",
       "<tr>\n",
       "  <th>x5</th>    <td>-1095.9921</td> <td> 1020.067</td> <td>   -1.074</td> <td> 0.283</td> <td>-3103.357</td> <td>  911.373</td>\n",
       "</tr>\n",
       "<tr>\n",
       "  <th>x6</th>    <td> -896.4352</td> <td>  975.450</td> <td>   -0.919</td> <td> 0.359</td> <td>-2816.000</td> <td> 1023.129</td>\n",
       "</tr>\n",
       "<tr>\n",
       "  <th>x7</th>    <td> -705.5649</td> <td>  997.870</td> <td>   -0.707</td> <td> 0.480</td> <td>-2669.249</td> <td> 1258.119</td>\n",
       "</tr>\n",
       "<tr>\n",
       "  <th>x8</th>    <td>-1011.9024</td> <td> 1004.051</td> <td>   -1.008</td> <td> 0.314</td> <td>-2987.750</td> <td>  963.945</td>\n",
       "</tr>\n",
       "<tr>\n",
       "  <th>x9</th>    <td>-1737.2977</td> <td>  980.173</td> <td>   -1.772</td> <td> 0.077</td> <td>-3666.157</td> <td>  191.562</td>\n",
       "</tr>\n",
       "<tr>\n",
       "  <th>x10</th>   <td>-2140.0440</td> <td>  941.775</td> <td>   -2.272</td> <td> 0.024</td> <td>-3993.341</td> <td> -286.747</td>\n",
       "</tr>\n",
       "<tr>\n",
       "  <th>x11</th>   <td>-1640.2677</td> <td>  934.999</td> <td>   -1.754</td> <td> 0.080</td> <td>-3480.230</td> <td>  199.695</td>\n",
       "</tr>\n",
       "<tr>\n",
       "  <th>x12</th>   <td> -421.5095</td> <td>  838.850</td> <td>   -0.502</td> <td> 0.616</td> <td>-2072.263</td> <td> 1229.244</td>\n",
       "</tr>\n",
       "<tr>\n",
       "  <th>x13</th>   <td> -290.2825</td> <td>  766.708</td> <td>   -0.379</td> <td> 0.705</td> <td>-1799.069</td> <td> 1218.504</td>\n",
       "</tr>\n",
       "<tr>\n",
       "  <th>x14</th>   <td> -681.9367</td> <td>  777.020</td> <td>   -0.878</td> <td> 0.381</td> <td>-2211.016</td> <td>  847.142</td>\n",
       "</tr>\n",
       "<tr>\n",
       "  <th>x15</th>   <td> -423.1840</td> <td>  269.763</td> <td>   -1.569</td> <td> 0.118</td> <td> -954.044</td> <td>  107.676</td>\n",
       "</tr>\n",
       "<tr>\n",
       "  <th>x16</th>   <td> -272.5310</td> <td>  174.283</td> <td>   -1.564</td> <td> 0.119</td> <td> -615.499</td> <td>   70.437</td>\n",
       "</tr>\n",
       "<tr>\n",
       "  <th>x17</th>   <td> -357.2100</td> <td>  206.132</td> <td>   -1.733</td> <td> 0.084</td> <td> -762.851</td> <td>   48.431</td>\n",
       "</tr>\n",
       "<tr>\n",
       "  <th>x18</th>   <td>   -7.7484</td> <td>  217.339</td> <td>   -0.036</td> <td> 0.972</td> <td> -435.446</td> <td>  419.949</td>\n",
       "</tr>\n",
       "<tr>\n",
       "  <th>x19</th>   <td>  -89.8205</td> <td>  211.342</td> <td>   -0.425</td> <td> 0.671</td> <td> -505.716</td> <td>  326.075</td>\n",
       "</tr>\n",
       "<tr>\n",
       "  <th>x20</th>   <td>  -43.0576</td> <td>  203.513</td> <td>   -0.212</td> <td> 0.833</td> <td> -443.546</td> <td>  357.431</td>\n",
       "</tr>\n",
       "<tr>\n",
       "  <th>x21</th>   <td> 1339.9147</td> <td>  590.803</td> <td>    2.268</td> <td> 0.024</td> <td>  177.287</td> <td> 2502.542</td>\n",
       "</tr>\n",
       "<tr>\n",
       "  <th>x22</th>   <td> 1563.2213</td> <td>  477.700</td> <td>    3.272</td> <td> 0.001</td> <td>  623.167</td> <td> 2503.275</td>\n",
       "</tr>\n",
       "<tr>\n",
       "  <th>x23</th>   <td> -571.0206</td> <td>  406.951</td> <td>   -1.403</td> <td> 0.162</td> <td>-1371.851</td> <td>  229.809</td>\n",
       "</tr>\n",
       "<tr>\n",
       "  <th>x24</th>   <td> -199.3469</td> <td>  265.959</td> <td>   -0.750</td> <td> 0.454</td> <td> -722.720</td> <td>  324.027</td>\n",
       "</tr>\n",
       "<tr>\n",
       "  <th>x25</th>   <td>  906.9589</td> <td>  475.169</td> <td>    1.909</td> <td> 0.057</td> <td>  -28.114</td> <td> 1842.032</td>\n",
       "</tr>\n",
       "<tr>\n",
       "  <th>x26</th>   <td>  274.7706</td> <td>  429.787</td> <td>    0.639</td> <td> 0.523</td> <td> -570.997</td> <td> 1120.538</td>\n",
       "</tr>\n",
       "<tr>\n",
       "  <th>x27</th>   <td> -574.1179</td> <td>  113.992</td> <td>   -5.036</td> <td> 0.000</td> <td> -798.441</td> <td> -349.795</td>\n",
       "</tr>\n",
       "<tr>\n",
       "  <th>x28</th>   <td> -275.7457</td> <td>   81.737</td> <td>   -3.374</td> <td> 0.001</td> <td> -436.593</td> <td> -114.898</td>\n",
       "</tr>\n",
       "<tr>\n",
       "  <th>x29</th>   <td>  313.2194</td> <td>  352.789</td> <td>    0.888</td> <td> 0.375</td> <td> -381.025</td> <td> 1007.464</td>\n",
       "</tr>\n",
       "<tr>\n",
       "  <th>x30</th>   <td> 1045.1338</td> <td>  729.703</td> <td>    1.432</td> <td> 0.153</td> <td> -390.832</td> <td> 2481.099</td>\n",
       "</tr>\n",
       "</table>\n",
       "<table class=\"simpletable\">\n",
       "<tr>\n",
       "  <th>Omnibus:</th>       <td>33.048</td> <th>  Durbin-Watson:     </th> <td>   1.921</td>\n",
       "</tr>\n",
       "<tr>\n",
       "  <th>Prob(Omnibus):</th> <td> 0.000</td> <th>  Jarque-Bera (JB):  </th> <td>  10.362</td>\n",
       "</tr>\n",
       "<tr>\n",
       "  <th>Skew:</th>          <td> 0.037</td> <th>  Prob(JB):          </th> <td> 0.00562</td>\n",
       "</tr>\n",
       "<tr>\n",
       "  <th>Kurtosis:</th>      <td> 2.136</td> <th>  Cond. No.          </th> <td>2.98e+15</td>\n",
       "</tr>\n",
       "</table>"
      ],
      "text/plain": [
       "<class 'statsmodels.iolib.summary.Summary'>\n",
       "\"\"\"\n",
       "                            OLS Regression Results                            \n",
       "==============================================================================\n",
       "Dep. Variable:                      y   R-squared:                       0.580\n",
       "Model:                            OLS   Adj. R-squared:                  0.540\n",
       "Method:                 Least Squares   F-statistic:                     14.36\n",
       "Date:                Sat, 07 Oct 2017   Prob (F-statistic):           2.43e-41\n",
       "Time:                        15:38:10   Log-Likelihood:                -2830.5\n",
       "No. Observations:                 331   AIC:                             5721.\n",
       "Df Residuals:                     301   BIC:                             5835.\n",
       "Df Model:                          29                                         \n",
       "Covariance Type:            nonrobust                                         \n",
       "==============================================================================\n",
       "                 coef    std err          t      P>|t|      [0.025      0.975]\n",
       "------------------------------------------------------------------------------\n",
       "const       4734.0152    918.011      5.157      0.000    2927.483    6540.547\n",
       "x1          -884.3187    550.763     -1.606      0.109   -1968.152     199.515\n",
       "x2          -110.9431    587.150     -0.189      0.850   -1266.381    1044.495\n",
       "x3           -75.5976    453.682     -0.167      0.868    -968.388     817.193\n",
       "x4         -1211.6733   1040.400     -1.165      0.245   -3259.052     835.706\n",
       "x5         -1095.9921   1020.067     -1.074      0.283   -3103.357     911.373\n",
       "x6          -896.4352    975.450     -0.919      0.359   -2816.000    1023.129\n",
       "x7          -705.5649    997.870     -0.707      0.480   -2669.249    1258.119\n",
       "x8         -1011.9024   1004.051     -1.008      0.314   -2987.750     963.945\n",
       "x9         -1737.2977    980.173     -1.772      0.077   -3666.157     191.562\n",
       "x10        -2140.0440    941.775     -2.272      0.024   -3993.341    -286.747\n",
       "x11        -1640.2677    934.999     -1.754      0.080   -3480.230     199.695\n",
       "x12         -421.5095    838.850     -0.502      0.616   -2072.263    1229.244\n",
       "x13         -290.2825    766.708     -0.379      0.705   -1799.069    1218.504\n",
       "x14         -681.9367    777.020     -0.878      0.381   -2211.016     847.142\n",
       "x15         -423.1840    269.763     -1.569      0.118    -954.044     107.676\n",
       "x16         -272.5310    174.283     -1.564      0.119    -615.499      70.437\n",
       "x17         -357.2100    206.132     -1.733      0.084    -762.851      48.431\n",
       "x18           -7.7484    217.339     -0.036      0.972    -435.446     419.949\n",
       "x19          -89.8205    211.342     -0.425      0.671    -505.716     326.075\n",
       "x20          -43.0576    203.513     -0.212      0.833    -443.546     357.431\n",
       "x21         1339.9147    590.803      2.268      0.024     177.287    2502.542\n",
       "x22         1563.2213    477.700      3.272      0.001     623.167    2503.275\n",
       "x23         -571.0206    406.951     -1.403      0.162   -1371.851     229.809\n",
       "x24         -199.3469    265.959     -0.750      0.454    -722.720     324.027\n",
       "x25          906.9589    475.169      1.909      0.057     -28.114    1842.032\n",
       "x26          274.7706    429.787      0.639      0.523    -570.997    1120.538\n",
       "x27         -574.1179    113.992     -5.036      0.000    -798.441    -349.795\n",
       "x28         -275.7457     81.737     -3.374      0.001    -436.593    -114.898\n",
       "x29          313.2194    352.789      0.888      0.375    -381.025    1007.464\n",
       "x30         1045.1338    729.703      1.432      0.153    -390.832    2481.099\n",
       "==============================================================================\n",
       "Omnibus:                       33.048   Durbin-Watson:                   1.921\n",
       "Prob(Omnibus):                  0.000   Jarque-Bera (JB):               10.362\n",
       "Skew:                           0.037   Prob(JB):                      0.00562\n",
       "Kurtosis:                       2.136   Cond. No.                     2.98e+15\n",
       "==============================================================================\n",
       "\n",
       "Warnings:\n",
       "[1] Standard Errors assume that the covariance matrix of the errors is correctly specified.\n",
       "[2] The smallest eigenvalue is 1.01e-28. This might indicate that there are\n",
       "strong multicollinearity problems or that the design matrix is singular.\n",
       "\"\"\""
      ]
     },
     "execution_count": 17,
     "metadata": {},
     "output_type": "execute_result"
    }
   ],
   "source": [
    "results.summary()"
   ]
  },
  {
   "cell_type": "markdown",
   "metadata": {},
   "source": [
    "There are 6 significant predictors: const, month_7.0, weather 1.0, weather 2.0, humidity, windspeed.\n",
    "\n",
    "None of the interactive terms and their relative predictors are significant. The reason might be multi-colinearity."
   ]
  },
  {
   "cell_type": "markdown",
   "metadata": {},
   "source": [
    "## Part (h): PCA to deal with high dimensionality\n",
    "\n",
    "We would like to fit a model to include all main effects, polynomial terms up to the $4^{th}$ order, and all interactions between all possible predictors and polynomial terms (not including the interactions between $X^1_j$, $X^2_j$, $X^3_j$, and $X^4_j$ as they would just create higher order polynomial terms).  \n",
    "\n",
    "- Create an expanded training set including all the desired terms mentioned above.  What are the dimensions of this 'design matrix' of all the predictor variables?   What are the issues with attempting to fit a regression model using all of these predictors?\n",
    "\n",
    "- Instead of using the usual approaches for model selection, let's instead use principal components analysis (PCA) to fit the model.  First, create the principal component vectors in python (consider: should you normalize first?).  Then fit 5 different regression models: (1) using just the first PCA vector, (2) using the first two PCA vectors, (3) using the first three PCA vectors, etc...  Briefly summarize how these models compare in the training set.\n",
    "\n",
    "- Use the test set to decide which of the 5 models above is best to predict out of sample.  How does this model compare to the previous models you've fit?  What are the interpretations of this model's coefficients?"
   ]
  },
  {
   "cell_type": "code",
   "execution_count": 18,
   "metadata": {
    "collapsed": true
   },
   "outputs": [],
   "source": [
    "def add_polynomial(X, order):\n",
    "    X_new = X[:, -4:] ** 2\n",
    "    for i in range(3, order + 1):\n",
    "        X_new = np.concatenate((X_new, X[:, -4:]**i), axis = 1)\n",
    "    return X_new"
   ]
  },
  {
   "cell_type": "code",
   "execution_count": 19,
   "metadata": {},
   "outputs": [],
   "source": [
    "#your code here\n",
    "interactive = PolynomialFeatures(degree=2, interaction_only=True).fit_transform(X_train)\n",
    "interactive = np.concatenate((interactive, add_polynomial(X_train, 4)), axis = 1)\n",
    "interactive_test = PolynomialFeatures(degree=2, interaction_only=True).fit_transform(X_test)\n",
    "interactive_test = np.concatenate((interactive_test, add_polynomial(X_test, 4)), axis = 1)"
   ]
  },
  {
   "cell_type": "code",
   "execution_count": 20,
   "metadata": {},
   "outputs": [
    {
     "data": {
      "text/plain": [
       "(331, 419)"
      ]
     },
     "execution_count": 20,
     "metadata": {},
     "output_type": "execute_result"
    }
   ],
   "source": [
    "interactive.shape"
   ]
  },
  {
   "cell_type": "markdown",
   "metadata": {},
   "source": [
    "Multi-linearity. Also the computation cost is too high."
   ]
  },
  {
   "cell_type": "code",
   "execution_count": 21,
   "metadata": {},
   "outputs": [],
   "source": [
    "from sklearn.preprocessing import normalize\n",
    "interactive = normalize(interactive, axis= 0)\n",
    "interactive_test = normalize(interactive_test, axis= 0)"
   ]
  },
  {
   "cell_type": "code",
   "execution_count": 22,
   "metadata": {},
   "outputs": [
    {
     "name": "stdout",
     "output_type": "stream",
     "text": [
      "1\n",
      "0.346449011502\n",
      "0.208711780599\n",
      "2\n",
      "0.348582194888\n",
      "0.209250926546\n",
      "3\n",
      "0.368181260459\n",
      "0.215809391337\n",
      "4\n",
      "0.380668864263\n",
      "0.213844871712\n",
      "5\n",
      "0.381133501963\n",
      "0.21220982517\n"
     ]
    }
   ],
   "source": [
    "from sklearn.decomposition import PCA\n",
    "for i in range(1, 6):\n",
    "    pca = PCA(n_components= i)\n",
    "    pca.fit(interactive)\n",
    "    x_train_pca = pca.transform(interactive)\n",
    "    x_test_pca = pca.transform(interactive_test)\n",
    "    x_train_pca = sm.add_constant(x_train_pca)\n",
    "    x_test_pca = sm.add_constant(x_test_pca)\n",
    "    result = sm.OLS(y_train, x_train_pca).fit()\n",
    "    print(i)\n",
    "    print(r2_score(y_train, result.predict(x_train_pca)))\n",
    "    print(r2_score(y_test, result.predict(x_test_pca)))"
   ]
  },
  {
   "cell_type": "markdown",
   "metadata": {},
   "source": [
    "We should normalize since we are comparing their ability to explain variety in the dataset. So we have to normalize, otherwise PCA can't select correct variables through unnormalized data."
   ]
  },
  {
   "cell_type": "markdown",
   "metadata": {},
   "source": [
    "As the increment of components, the training score increases.\n",
    "\n",
    "The test score are worse than the previous models.\n",
    "The coefficients refer to the increment of response as the combined predictors, which explain most of the variance ratio, increases 1 unit."
   ]
  },
  {
   "cell_type": "markdown",
   "metadata": {},
   "source": [
    "## Part (i): Beyond Squared Error\n",
    "\n",
    "We have seen in class that the multiple linear regression method optimizes the Mean Squared Error (MSE) on the training set. Consider the following alternate evaluation metric, referred to as the Root Mean Squared Logarthmic Error (RMSLE):\n",
    "\n",
    "$$\n",
    "\\sqrt{\\frac{1}{n}\\sum_{i=1}^n (log(y_i+1) - log(\\hat{y}_i+1))^2}.\n",
    "$$\n",
    "\n",
    "The *lower* the RMSLE the *better* is the performance of a model. The RMSLE penalizes errors on smaller responses more heavily than errors on larger responses. For example, the RMSLE penalizes a prediction of $\\hat{y} = 15$ for a true response of $y=10$ more heavily than a prediction of $\\hat{y} = 105$ for a true response of $100$, though the difference in predicted and true responses are the same in both cases. \n",
    "\n",
    "This is a natural evaluation metric for bike share demand prediction, as in this application, it is more important that the prediction model is accurate on days where the demand is low (so that the few customers who arrive are served satisfactorily), compared to days on which the demand is high (when it is less damaging to lose out on some customers).\n",
    "\n",
    "The following code computes the RMSLE for you:"
   ]
  },
  {
   "cell_type": "code",
   "execution_count": 23,
   "metadata": {
    "collapsed": true
   },
   "outputs": [],
   "source": [
    "#--------  rmsle\n",
    "# A function for evaluating Root Mean Squared Logarithmic Error (RMSLE)\n",
    "# of the linear regression model on a data set\n",
    "# Input: \n",
    "#      y_test (n x 1 array of response variable vals in testing data)\n",
    "#      y_pred (n x 1 array of response variable vals in testing data)\n",
    "# Return: \n",
    "#      RMSLE (float) \n",
    "\n",
    "def rmsle(y, y_pred):     \n",
    "    # Evaluate sqaured error, against target labels\n",
    "    # rmsle = \\sqrt(1/n \\sum_i (log (y[i]+1) - log (y_pred[i]+1))^2)\n",
    "    rmsle_ = np.sqrt(np.mean(np.square(np.log(y+1) - np.log(y_pred+1))))\n",
    "    \n",
    "    return rmsle_"
   ]
  },
  {
   "cell_type": "markdown",
   "metadata": {},
   "source": [
    "Use the above code to compute the training and test RMSLE for the polynomial regression model you fit in Part (g). \n",
    "\n",
    "You are required to develop a strategy to fit a regression model by optimizing the RMSLE on the training set. Give a justification for your proposed approach. Does the model fitted using your approach yield lower train RMSLE than the model in Part (g)? How about the test RMSLE of the new model? \n",
    "\n",
    "**Note:** We do not require you to implement a new regression solver for RMSLE. Instead, we ask you to think about ways to use existing built-in functions to fit a model that performs well on RMSLE. Your regression model may use the same polynomial terms used in Part (g)."
   ]
  },
  {
   "cell_type": "code",
   "execution_count": 24,
   "metadata": {},
   "outputs": [
    {
     "name": "stdout",
     "output_type": "stream",
     "text": [
      "training RMSLE: 0.7214576597005684\n",
      "testing RMSLE: 0.8576183145361487\n"
     ]
    }
   ],
   "source": [
    "# your code here\n",
    "result = sm.OLS(y_train, x_order).fit()\n",
    "y_pred = result.predict(x_order)\n",
    "y_pred[y_pred < -1] = 0\n",
    "y_pred_test = result.predict(x_order_test)\n",
    "y_pred_test[y_pred_test < -1] = 0\n",
    "print(\"training RMSLE: {}\" .format(rmsle(y_train, y_pred)))\n",
    "print(\"testing RMSLE: {}\" .format(rmsle(y_test, y_pred_test)))"
   ]
  },
  {
   "cell_type": "code",
   "execution_count": 25,
   "metadata": {},
   "outputs": [],
   "source": [
    "coeff0 = result.params"
   ]
  },
  {
   "cell_type": "code",
   "execution_count": 26,
   "metadata": {
    "collapsed": true
   },
   "outputs": [],
   "source": [
    "def loss_rmsle(coeff, X=x_order, y=y_train):\n",
    "    y_pred = np.dot(X, coeff)\n",
    "    y_pred[y_pred < -1] = 0\n",
    "    return rmsle(y, y_pred)"
   ]
  },
  {
   "cell_type": "code",
   "execution_count": 27,
   "metadata": {},
   "outputs": [
    {
     "name": "stdout",
     "output_type": "stream",
     "text": [
      "Warning: Maximum number of iterations has been exceeded.\n"
     ]
    }
   ],
   "source": [
    "from scipy.optimize import fmin\n",
    "coeff1 = fmin(loss_rmsle, coeff0, maxiter=100000)"
   ]
  },
  {
   "cell_type": "markdown",
   "metadata": {},
   "source": [
    "Gradient descent method using optimize.fmin function in scipy package to choose beta that minize the cost function."
   ]
  },
  {
   "cell_type": "code",
   "execution_count": 28,
   "metadata": {},
   "outputs": [
    {
     "data": {
      "text/plain": [
       "0.85170554756544981"
      ]
     },
     "execution_count": 28,
     "metadata": {},
     "output_type": "execute_result"
    }
   ],
   "source": [
    "loss_rmsle(coeff1, x_order_test, y_test)"
   ]
  },
  {
   "cell_type": "code",
   "execution_count": 29,
   "metadata": {},
   "outputs": [
    {
     "data": {
      "text/plain": [
       "0.16140342401960106"
      ]
     },
     "execution_count": 29,
     "metadata": {},
     "output_type": "execute_result"
    }
   ],
   "source": [
    "r2_score(y_test, np.dot(x_order_test, coeff1))"
   ]
  },
  {
   "cell_type": "markdown",
   "metadata": {},
   "source": [
    "rmsle score for new model is slightly lower."
   ]
  },
  {
   "cell_type": "markdown",
   "metadata": {},
   "source": [
    "## Part (j): Dealing with Erroneous Labels\n",
    "\n",
    "Due to occasional system crashes, some of the bike counts reported in the data set have been recorded manually. These counts are not very unreliable and are prone to errors. It is known that roughly 5% of the labels in the training set are erroneous (i.e. can be arbitrarily different from the true counts), while all the labels in the test set were confirmed to be accurate. Unfortunately, the identities of the erroneous records in the training set are not available. Can this information about presence of 5% errors in the training set labels (without details about the specific identities of the erroneous rows) be used to improve the performance of the model in Part (g)? Note that we are interested in improving the $R^2$ performance of the model on the test set (not the training $R^2$ score). \n",
    "\n",
    "As a final task, we require you to come up with a strategy to fit a regression model, taking into account the errors in the training set labels. Explain the intuition behind your approach (we do not expect a detailed mathematical justification). Use your approach to fit a regression model on the training set, and compare its test $R^2$ with the model in Part (g).\n",
    "\n",
    "**Note:** Again, we do not require you to implement a new regression solver for handling erroneous labels. It is sufficient that you to come up with an approach that uses existing built-in functions. Your regression model may use the same polynomial terms used in Part (g)."
   ]
  },
  {
   "cell_type": "code",
   "execution_count": 30,
   "metadata": {
    "collapsed": true
   },
   "outputs": [],
   "source": [
    "# your code here\n",
    "def loss_rmsle_thres(coeff, X=x_order, y=y_train, thres = 0.05):\n",
    "    y_pred = np.dot(X, coeff)\n",
    "    r = abs(y_pred - y)\n",
    "    ind = np.argsort(r)[:(int)(len(r) * (1 - 0.05))]\n",
    "    y_pred = y_pred[ind]\n",
    "    y = y[ind]\n",
    "    return rmsle(y, y_pred)"
   ]
  },
  {
   "cell_type": "code",
   "execution_count": 31,
   "metadata": {},
   "outputs": [
    {
     "name": "stderr",
     "output_type": "stream",
     "text": [
      "/Users/gwungwun/anaconda/lib/python3.6/site-packages/ipykernel_launcher.py:13: RuntimeWarning: invalid value encountered in log\n",
      "  del sys.path[0]\n"
     ]
    },
    {
     "name": "stdout",
     "output_type": "stream",
     "text": [
      "Optimization terminated successfully.\n",
      "         Current function value: 0.271270\n",
      "         Iterations: 23178\n",
      "         Function evaluations: 29443\n"
     ]
    }
   ],
   "source": [
    "coeff2 = fmin(loss_rmsle_thres, coeff0, maxiter=100000)"
   ]
  },
  {
   "cell_type": "code",
   "execution_count": 32,
   "metadata": {},
   "outputs": [
    {
     "data": {
      "text/plain": [
       "0.29359598597238634"
      ]
     },
     "execution_count": 32,
     "metadata": {},
     "output_type": "execute_result"
    }
   ],
   "source": [
    "r2_score(y_test, np.dot(x_order_test, coeff2))"
   ]
  },
  {
   "cell_type": "markdown",
   "metadata": {
    "collapsed": true
   },
   "source": [
    "RMSLE in part (i) is worse than the previous model based on MSE, while RMSLE in this part is higher. That means MSE is relatively robust while RMSLE replies on the accuracy of data set. Another reason might be we replace the negative result to 0 so this process might loss some information. But when we deal with the error part, the optimization of RMSLE helps us to find better coefficients."
   ]
  },
  {
   "cell_type": "markdown",
   "metadata": {},
   "source": [
    "---\n",
    "--_"
   ]
  },
  {
   "cell_type": "markdown",
   "metadata": {},
   "source": [
    "# APCOMP209a - Homework Question"
   ]
  },
  {
   "cell_type": "markdown",
   "metadata": {},
   "source": [
    "\n",
    "\n",
    "##  Question 1: Student's t MLE\n",
    "\n",
    "Use Maximum Likelihood Estimation to generate a linear regression model on the data provided in ``beerdata.csv`` considering two statistical models for noise: a) iid Normal and b) iid Student's t-distribution with $\\nu=5$ and scale factor σ=0.5.  \n",
    "\n",
    "Compare the two models performances and comment why it is perhaps appropriate to use the Student's t-distribution instead of the Normal? \n",
    "\n",
    "\n",
    "\n",
    "\n",
    "\n",
    "HINTS:\n",
    "1. Use the probability density function for the Student's t distribution  with location μ and scale factor σ.\n",
    "2. If the MLE regressions coefficients can not be derived analytically consider numerical methods.\n",
    "3. You can use sklearn or statsmodel for the Normal case \n",
    "\n",
    "\n"
   ]
  },
  {
   "cell_type": "code",
   "execution_count": null,
   "metadata": {
    "collapsed": true
   },
   "outputs": [],
   "source": []
  },
  {
   "cell_type": "markdown",
   "metadata": {},
   "source": [
    "## Question 2 (continued from HW2) \n",
    "\n",
    "Read sections 1 and 2 of this [paper](https://www.researchgate.net/profile/Roberto_Togneri/publication/45094554_Linear_Regression_for_Face_Recognition/links/09e4150d243bd8b987000000/Linear-Regression-for-Face-Recognition.pdf). \n",
    "\n",
    "Briefly, the model leverages the concept that \"patterns from a single-object class lie on a linear subspace.\"   It also makes use of the idea of linear regression as a problem about projections.  In this case, given a vector $y$, the goal is to find the subspace induced by $\\mathrm{Col} \\, \\mathbf X$ that produced the 'closest' projection vector $\\widehat y$ to the original $y$.  \n",
    "\n",
    "### Question 2a\n",
    "\n",
    "As discussed in the paper, our face dataset contains cleaned images of faces belonging to different people. Assuming that patterns (faces) from one class (person) are elements of the same subspace, let's try to classify an unknown face using the method presented in the paper.  For each class $i$, we need to:\n",
    "\n",
    "1. construct the $\\mathbf H_i$ hat matrix from known faces, being careful to follow the column concatenation step described in the paper to convert an image into its vector representation;\n",
    "2. calculate the predicted $\\widehat y_i$, the closest vector in $\\mathrm{Col} \\, \\mathbf X_i$ to $y$; and\n",
    "3. calculate the magnitude of the difference vector between $y$ and $\\widehat y_i$.\n",
    "\n",
    "You should then be able to make a classification decision.\n",
    "\n",
    "**Notes:**\n",
    "- Use the provided code to download and re-sample the dataset.\n",
    "- Follow the normalisation step in the paper to ensure the \"maximum pixel value is 1\".\n",
    "- Your classifier should have approximately an 80% accuracy.\n",
    "- Use the image plotting library of matplotlib to display one (or two) correctly classified faces and the known faces.\n",
    "- Use the image plotting library of matplotlib to display one (or two) incorrectly classified faces and the known faces.\n",
    "    \n",
    "### Question 2b - Significant Faces\n",
    "Select an example of a correctly classified face. Use statsmodels to investigate the most predictive columns (faces) that the model used in this regression:\n",
    "\n",
    "(i) Which columns (i.e. faces) make the highest contribution to the projection?\n",
    "\n",
    "(ii) Which columns (i.e. faces) are the least useful in making this projection?\n",
    "\n",
    "Plot the correctly assigned face, and the two faces from the questions (i) and (ii). What do you notice about these faces?"
   ]
  },
  {
   "cell_type": "code",
   "execution_count": 33,
   "metadata": {},
   "outputs": [
    {
     "name": "stderr",
     "output_type": "stream",
     "text": [
      "/Users/gwungwun/anaconda/lib/python3.6/site-packages/sklearn/cross_validation.py:44: DeprecationWarning: This module was deprecated in version 0.18 in favor of the model_selection module into which all the refactored classes and functions are moved. Also note that the interface of the new CV iterators are different from that of this module. This module will be removed in 0.20.\n",
      "  \"This module will be removed in 0.20.\", DeprecationWarning)\n"
     ]
    }
   ],
   "source": [
    "from io import BytesIO\n",
    "from zipfile import ZipFile\n",
    "import urllib\n",
    "import os\n",
    "\n",
    "# Note that you may need to run the following command to install Python Image Library (PIL)\n",
    "#pip install Pillow\n",
    "from PIL import Image\n",
    "import numpy as np\n",
    "from sklearn.cross_validation import train_test_split\n",
    "\n",
    "import matplotlib\n",
    "import matplotlib.pyplot as plt\n",
    "\n",
    "%matplotlib inline"
   ]
  },
  {
   "cell_type": "code",
   "execution_count": 34,
   "metadata": {
    "collapsed": true
   },
   "outputs": [],
   "source": [
    "# starter functions provided to students\n",
    "def rgb2gray(rgb):\n",
    "    '''\n",
    "    function to convert RGB image to gray scale\n",
    "    accepts 3D numpy array and returns 2D array with same dimensions\n",
    "    as the first two dimensions of input\n",
    "    '''\n",
    "    \n",
    "    return np.dot(rgb[...,:3], [0.299, 0.587, 0.114])\n",
    "\n",
    "def fetch_and_read_data(shape=(50,30)):\n",
    "    \n",
    "    '''\n",
    "    Function to download image data, store in a local folder (note this is 18.4mb), only download the data when\n",
    "    the local folder is not present, read in the images, downsample them to the specified shape (default = (50x30) (rows x cols))\n",
    "    and finally split them into a four tuple return object.\n",
    "    \n",
    "    Returns:\n",
    "        - 1) training image data (i.e. images that should form the predictor matrix in your solution)\n",
    "        - 2) training image data labels (i.e. labels from 1 to 50 that identify which face (1) belongs to)\n",
    "        - 3) testing image data (i.e. data that you should use to try and classify - note this forms the predictor variable in your regression)\n",
    "        - 4) testing image data labels (i.e. the labels for (3) - this is to allow you to evaluate your model)\n",
    "    \n",
    "    ___________________\n",
    "    Aside:\n",
    "    If you want to change the sampling dimensions of your data, pass the shape = (x,y) argument to the method where\n",
    "    y is the number of columns and x is the number of rows in the image.\n",
    "    '''\n",
    "    \n",
    "    if not os.path.exists('./cropped_faces'):\n",
    "        url = urllib.request.urlopen(\"http://www.anefian.com/research/GTdb_crop.zip\")\n",
    "        \n",
    "        zipfile = ZipFile(BytesIO(url.read()))\n",
    "        zipfile.extractall()\n",
    "     \n",
    "    data = []\n",
    "    labels = []\n",
    "    \n",
    "    files = os.listdir('cropped_faces')\n",
    "    for f in files:\n",
    "        if '.jpg' in f:\n",
    "            image = Image.open('cropped_faces/' + f)\n",
    "            image = image.resize((shape[1], shape[0]))\n",
    "            data.append(rgb2gray(np.asarray(image)))\n",
    "            labels.append(int(f.split('_')[0][1:]) - 1)\n",
    "            \n",
    "    data = np.array(data)\n",
    "    \n",
    "    trainX, testX, trainY, testY = train_test_split(data, labels, test_size=0.2, stratify=labels)\n",
    "    return np.array(trainX), np.array(testX), np.array(trainY), np.array(testY)"
   ]
  },
  {
   "cell_type": "code",
   "execution_count": 35,
   "metadata": {},
   "outputs": [
    {
     "data": {
      "image/png": "[encoded data removed]",
      "text/plain": [
       "<matplotlib.figure.Figure at 0x11ea32710>"
      ]
     },
     "metadata": {},
     "output_type": "display_data"
    }
   ],
   "source": [
    "# starter code for the students\n",
    "train_dataset, test_dataset, train_labels, test_labels = fetch_and_read_data()\n",
    "\n",
    "# code to plot some of the images\n",
    "fig, axes = plt.subplots(2,4,figsize=(10,5))\n",
    "axes = axes.flatten()\n",
    "[axes[i].imshow(train_dataset[i], cmap='gray') for i in range(len(axes))]\n",
    "plt.show()"
   ]
  },
  {
   "cell_type": "code",
   "execution_count": null,
   "metadata": {
    "collapsed": true
   },
   "outputs": [],
   "source": []
  }
 ],
 "metadata": {
  "anaconda-cloud": {},
  "kernelspec": {
   "display_name": "Python 3",
   "language": "python",
   "name": "python3"
  },
  "language_info": {
   "codemirror_mode": {
    "name": "ipython",
    "version": 3
   },
   "file_extension": ".py",
   "mimetype": "text/x-python",
   "name": "python",
   "nbconvert_exporter": "python",
   "pygments_lexer": "ipython3",
   "version": "3.6.1"
  }
 },
 "nbformat": 4,
 "nbformat_minor": 1
}
