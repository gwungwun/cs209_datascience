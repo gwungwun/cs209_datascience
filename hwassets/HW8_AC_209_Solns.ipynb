{
 "cells": [
  {
   "cell_type": "code",
   "execution_count": 7,
   "metadata": {
    "collapsed": true
   },
   "outputs": [],
   "source": [
    "import numpy as np\n",
    "import pandas as pd\n",
    "import matplotlib\n",
    "import matplotlib.pyplot as plt\n",
    "from sklearn.linear_model import LogisticRegressionCV\n",
    "import sklearn.metrics as metrics\n",
    "from sklearn.preprocessing import PolynomialFeatures\n",
    "from sklearn.discriminant_analysis import LinearDiscriminantAnalysis\n",
    "from sklearn.discriminant_analysis import QuadraticDiscriminantAnalysis\n",
    "from sklearn.linear_model import LinearRegression\n",
    "from sklearn.neighbors import KNeighborsClassifier\n",
    "from sklearn.tree import DecisionTreeClassifier\n",
    "from sklearn.ensemble import RandomForestClassifier\n",
    "from sklearn.model_selection import cross_val_score\n",
    "from sklearn.metrics import accuracy_score\n",
    "from sklearn.metrics import confusion_matrix\n",
    "from sklearn.preprocessing import Imputer\n",
    "from sklearn.metrics import mean_squared_error\n",
    "\n",
    "from sklearn.tree import export_graphviz\n",
    "from IPython.display import Image\n",
    "from IPython.display import display\n",
    "%matplotlib inline"
   ]
  },
  {
   "cell_type": "code",
   "execution_count": 9,
   "metadata": {
    "collapsed": true
   },
   "outputs": [],
   "source": [
    "from pandas import read_csv\n",
    "data = read_csv(\"wine_quality_missing.csv\")"
   ]
  },
  {
   "cell_type": "code",
   "execution_count": 10,
   "metadata": {},
   "outputs": [
    {
     "data": {
      "text/html": [
       "<div>\n",
       "<style>\n",
       "    .dataframe thead tr:only-child th {\n",
       "        text-align: right;\n",
       "    }\n",
       "\n",
       "    .dataframe thead th {\n",
       "        text-align: left;\n",
       "    }\n",
       "\n",
       "    .dataframe tbody tr th {\n",
       "        vertical-align: top;\n",
       "    }\n",
       "</style>\n",
       "<table border=\"1\" class=\"dataframe\">\n",
       "  <thead>\n",
       "    <tr style=\"text-align: right;\">\n",
       "      <th></th>\n",
       "      <th>Alcohol</th>\n",
       "      <th>Malic acid</th>\n",
       "      <th>Ash</th>\n",
       "      <th>Alcalinity of ash</th>\n",
       "      <th>Magnesium</th>\n",
       "      <th>Total phenols</th>\n",
       "      <th>Flavanoids</th>\n",
       "      <th>Nonflavanoid phenols</th>\n",
       "      <th>Proanthocyanins</th>\n",
       "      <th>Color intensity</th>\n",
       "      <th>Hue</th>\n",
       "      <th>OD280/OD315 of diluted wines</th>\n",
       "      <th>Proline</th>\n",
       "      <th>Class</th>\n",
       "    </tr>\n",
       "  </thead>\n",
       "  <tbody>\n",
       "    <tr>\n",
       "      <th>0</th>\n",
       "      <td>14.23</td>\n",
       "      <td>1.71</td>\n",
       "      <td>2.43</td>\n",
       "      <td>15.6</td>\n",
       "      <td>127.0</td>\n",
       "      <td>2.80</td>\n",
       "      <td>3.06</td>\n",
       "      <td>0.28</td>\n",
       "      <td>2.29</td>\n",
       "      <td>5.64</td>\n",
       "      <td>1.04</td>\n",
       "      <td>3.92</td>\n",
       "      <td>1065.0</td>\n",
       "      <td>1</td>\n",
       "    </tr>\n",
       "    <tr>\n",
       "      <th>1</th>\n",
       "      <td>13.20</td>\n",
       "      <td>1.78</td>\n",
       "      <td>2.14</td>\n",
       "      <td>NaN</td>\n",
       "      <td>100.0</td>\n",
       "      <td>2.65</td>\n",
       "      <td>2.76</td>\n",
       "      <td>0.26</td>\n",
       "      <td>1.28</td>\n",
       "      <td>4.38</td>\n",
       "      <td>1.05</td>\n",
       "      <td>3.40</td>\n",
       "      <td>1050.0</td>\n",
       "      <td>1</td>\n",
       "    </tr>\n",
       "    <tr>\n",
       "      <th>2</th>\n",
       "      <td>13.16</td>\n",
       "      <td>2.36</td>\n",
       "      <td>2.67</td>\n",
       "      <td>18.6</td>\n",
       "      <td>101.0</td>\n",
       "      <td>2.80</td>\n",
       "      <td>3.24</td>\n",
       "      <td>0.30</td>\n",
       "      <td>2.81</td>\n",
       "      <td>5.68</td>\n",
       "      <td>1.03</td>\n",
       "      <td>3.17</td>\n",
       "      <td>1185.0</td>\n",
       "      <td>1</td>\n",
       "    </tr>\n",
       "    <tr>\n",
       "      <th>3</th>\n",
       "      <td>14.37</td>\n",
       "      <td>1.95</td>\n",
       "      <td>2.50</td>\n",
       "      <td>NaN</td>\n",
       "      <td>113.0</td>\n",
       "      <td>3.85</td>\n",
       "      <td>3.49</td>\n",
       "      <td>0.24</td>\n",
       "      <td>2.18</td>\n",
       "      <td>7.80</td>\n",
       "      <td>0.86</td>\n",
       "      <td>3.45</td>\n",
       "      <td>1480.0</td>\n",
       "      <td>1</td>\n",
       "    </tr>\n",
       "    <tr>\n",
       "      <th>4</th>\n",
       "      <td>13.24</td>\n",
       "      <td>2.59</td>\n",
       "      <td>2.87</td>\n",
       "      <td>21.0</td>\n",
       "      <td>118.0</td>\n",
       "      <td>2.80</td>\n",
       "      <td>2.69</td>\n",
       "      <td>0.39</td>\n",
       "      <td>NaN</td>\n",
       "      <td>4.32</td>\n",
       "      <td>1.04</td>\n",
       "      <td>2.93</td>\n",
       "      <td>735.0</td>\n",
       "      <td>1</td>\n",
       "    </tr>\n",
       "  </tbody>\n",
       "</table>\n",
       "</div>"
      ],
      "text/plain": [
       "   Alcohol  Malic acid   Ash  Alcalinity of ash  Magnesium  Total phenols  \\\n",
       "0    14.23        1.71  2.43               15.6      127.0           2.80   \n",
       "1    13.20        1.78  2.14                NaN      100.0           2.65   \n",
       "2    13.16        2.36  2.67               18.6      101.0           2.80   \n",
       "3    14.37        1.95  2.50                NaN      113.0           3.85   \n",
       "4    13.24        2.59  2.87               21.0      118.0           2.80   \n",
       "\n",
       "   Flavanoids  Nonflavanoid phenols  Proanthocyanins  Color intensity   Hue  \\\n",
       "0        3.06                  0.28             2.29             5.64  1.04   \n",
       "1        2.76                  0.26             1.28             4.38  1.05   \n",
       "2        3.24                  0.30             2.81             5.68  1.03   \n",
       "3        3.49                  0.24             2.18             7.80  0.86   \n",
       "4        2.69                  0.39              NaN             4.32  1.04   \n",
       "\n",
       "   OD280/OD315 of diluted wines  Proline  Class  \n",
       "0                          3.92   1065.0      1  \n",
       "1                          3.40   1050.0      1  \n",
       "2                          3.17   1185.0      1  \n",
       "3                          3.45   1480.0      1  \n",
       "4                          2.93    735.0      1  "
      ]
     },
     "execution_count": 10,
     "metadata": {},
     "output_type": "execute_result"
    }
   ],
   "source": [
    "data.head()"
   ]
  },
  {
   "cell_type": "code",
   "execution_count": 11,
   "metadata": {
    "collapsed": true
   },
   "outputs": [],
   "source": [
    "data_missing_drop = data.copy()\n",
    "data_missing_mean = data.copy()\n",
    "data_missing_dt = data.copy()"
   ]
  },
  {
   "cell_type": "markdown",
   "metadata": {},
   "source": [
    "**1. Remove all observations that contain and missing values, split the dataset into a 75-25 train-test split, and fit the sklearn DecisionTreeClassifier and RandomForestClassifier.   Use cross-validation to find the optimal tree depth for each method.  Report the optimal tree-depth, overall classification rate and confusion matrix on the test set for each method.**"
   ]
  },
  {
   "cell_type": "code",
   "execution_count": 327,
   "metadata": {
    "collapsed": true
   },
   "outputs": [],
   "source": [
    "## Drop missing values\n",
    "data_missing_drop.dropna(inplace=True)\n",
    "\n",
    "np.random.seed(9001)\n",
    "msk = np.random.rand(len(data_missing_drop)) < 0.75\n",
    "data_missing_drop_train = data_missing_drop[msk]\n",
    "data_missing_drop_test = data_missing_drop[~msk]\n",
    "\n",
    "X_drop_train = data_missing_drop_train.iloc[:, :-1]\n",
    "y_drop_train =data_missing_drop_train.iloc[:, -1]\n",
    "X_drop_test = data_missing_drop_test.iloc[:, :-1]\n",
    "y_drop_test =data_missing_drop_test.iloc[:, -1]"
   ]
  },
  {
   "cell_type": "code",
   "execution_count": 328,
   "metadata": {},
   "outputs": [
    {
     "name": "stdout",
     "output_type": "stream",
     "text": [
      "43\n"
     ]
    }
   ],
   "source": [
    "print(len(data_missing_drop))"
   ]
  },
  {
   "cell_type": "markdown",
   "metadata": {},
   "source": [
    "#### Decision Tree"
   ]
  },
  {
   "cell_type": "code",
   "execution_count": 127,
   "metadata": {
    "collapsed": true
   },
   "outputs": [],
   "source": [
    "# 5-fold cross validation on decision tree\n",
    "dt_train_scores = []\n",
    "depths = list(range(2,11))\n",
    "for depth in depths:\n",
    "    clf = DecisionTreeClassifier(max_depth = depth)  \n",
    "    score = cross_val_score(estimator=clf, X=X_drop_train, y=y_drop_train, cv=5)\n",
    "    dt_train_scores.append(np.mean(score))"
   ]
  },
  {
   "cell_type": "code",
   "execution_count": 130,
   "metadata": {},
   "outputs": [
    {
     "data": {
      "text/plain": [
       "<matplotlib.text.Text at 0x112336588>"
      ]
     },
     "execution_count": 130,
     "metadata": {},
     "output_type": "execute_result"
    },
    {
     "data": {
      "image/png": "[encoded data removed]",
      "text/plain": [
       "<matplotlib.figure.Figure at 0x11233de48>"
      ]
     },
     "metadata": {},
     "output_type": "display_data"
    }
   ],
   "source": [
    "plt.figure(figsize=(10, 9))\n",
    "plt.plot(depths, dt_train_scores)\n",
    "\n",
    "plt.ylim(0.6,.9)\n",
    "\n",
    "plt.title('CV Drop Imputation Decision Tree Depth')\n",
    "plt.xlabel('Depth')\n",
    "plt.ylabel('Accuracy')\n"
   ]
  },
  {
   "cell_type": "markdown",
   "metadata": {},
   "source": [
    "**From CV, it looks like best choice for Decision Tree depth is 4 **"
   ]
  },
  {
   "cell_type": "code",
   "execution_count": 156,
   "metadata": {},
   "outputs": [
    {
     "name": "stdout",
     "output_type": "stream",
     "text": [
      "Optimal Decision Tree Depth: 4\n",
      "Train score: 1.0\n",
      "Test score: 0.823529411765\n"
     ]
    }
   ],
   "source": [
    "clf = DecisionTreeClassifier(max_depth=4)\n",
    "clf.fit(data_missing_drop_train.iloc[:,:-1], data_missing_drop_train.iloc[:,-1])\n",
    "print('Optimal Decision Tree Depth: 4')\n",
    "print ('Train score:', clf.score(X_drop_train, y_drop_train))\n",
    "print ('Test score:', clf.score(X_drop_test, y_drop_test))"
   ]
  },
  {
   "cell_type": "code",
   "execution_count": 157,
   "metadata": {},
   "outputs": [
    {
     "name": "stdout",
     "output_type": "stream",
     "text": [
      "Confusion Matrix Train:\n",
      "[[11  0  0]\n",
      " [ 0  9  0]\n",
      " [ 0  0  6]]\n",
      "Confusion Matrix Test:\n",
      "[[4 1 0]\n",
      " [2 7 0]\n",
      " [0 0 3]]\n"
     ]
    }
   ],
   "source": [
    "yhat_drop_train = clf.predict(X_drop_train)\n",
    "print(\"Confusion Matrix Train:\")\n",
    "print(confusion_matrix(yhat_drop_train, y_drop_train))\n",
    "print(\"Confusion Matrix Test:\")\n",
    "yhat_drop_test = clf.predict(X_drop_test)\n",
    "print(confusion_matrix(yhat_drop_test, y_drop_test))"
   ]
  },
  {
   "cell_type": "markdown",
   "metadata": {},
   "source": [
    "#### Random Forest"
   ]
  },
  {
   "cell_type": "code",
   "execution_count": 164,
   "metadata": {
    "collapsed": true
   },
   "outputs": [],
   "source": [
    "# 5-fold cross validation on Random Forest\n",
    "rf_train_scores = []\n",
    "depths = list(range(2,11))\n",
    "for depth in depths:\n",
    "    clf = RandomForestClassifier(max_depth = depth)  \n",
    "    score = cross_val_score(estimator=clf, X=X_drop_train, y=y_drop_train, cv=5)\n",
    "    rf_train_scores.append(np.mean(score))"
   ]
  },
  {
   "cell_type": "code",
   "execution_count": 192,
   "metadata": {},
   "outputs": [
    {
     "data": {
      "text/plain": [
       "<matplotlib.text.Text at 0x112fee940>"
      ]
     },
     "execution_count": 192,
     "metadata": {},
     "output_type": "execute_result"
    },
    {
     "data": {
      "image/png": "[encoded data removed]",
      "text/plain": [
       "<matplotlib.figure.Figure at 0x1132a0a58>"
      ]
     },
     "metadata": {},
     "output_type": "display_data"
    }
   ],
   "source": [
    "plt.figure(figsize=(10, 9))\n",
    "plt.plot(depths, rf_train_scores)\n",
    "\n",
    "plt.ylim(0.6,1.0)\n",
    "\n",
    "plt.title('CV Drop Imputation Random Forest Tree Depth')\n",
    "plt.xlabel('Depth')\n",
    "plt.ylabel('Accuracy')"
   ]
  },
  {
   "cell_type": "markdown",
   "metadata": {},
   "source": [
    "**From CV, it looks like best choice for Random Forest Tree depth is 4 **"
   ]
  },
  {
   "cell_type": "code",
   "execution_count": 182,
   "metadata": {},
   "outputs": [
    {
     "name": "stdout",
     "output_type": "stream",
     "text": [
      "Optimal Random Forest Tree Depth: 4\n",
      "Train score: 1.0\n",
      "Test score: 0.823529411765\n"
     ]
    }
   ],
   "source": [
    "clf = RandomForestClassifier(max_depth=4)\n",
    "clf.fit(X_drop_train, y_drop_train)\n",
    "print('Optimal Random Forest Tree Depth: 4')\n",
    "print ('Train score:', clf.score(X_drop_train, y_drop_train))\n",
    "print ('Test score:', clf.score(X_drop_test, y_drop_test))"
   ]
  },
  {
   "cell_type": "code",
   "execution_count": 183,
   "metadata": {},
   "outputs": [
    {
     "name": "stdout",
     "output_type": "stream",
     "text": [
      "Confusion Matrix Train:\n",
      "[[11  0  0]\n",
      " [ 0  9  0]\n",
      " [ 0  0  6]]\n",
      "Confusion Matrix Test:\n",
      "[[6 3 0]\n",
      " [0 5 0]\n",
      " [0 0 3]]\n"
     ]
    }
   ],
   "source": [
    "yhat_drop_train = clf.predict(X_drop_train)\n",
    "print(\"Confusion Matrix Train:\")\n",
    "print(confusion_matrix(yhat_drop_train, y_drop_train))\n",
    "print(\"Confusion Matrix Test:\")\n",
    "yhat_drop_test = clf.predict(X_drop_test)\n",
    "print(confusion_matrix(yhat_drop_test, y_drop_test))"
   ]
  },
  {
   "cell_type": "markdown",
   "metadata": {},
   "source": [
    "**2. Restart with a fresh copy of the data and impute the missing data via mean imputation.  Split the data 75-25 and again fit DecisionTreeClassifier and RandomForestClassifier using cross-validation to find the optimal tree depth.  Report the optimal tree depth, overall classification rate and confusion matrix on the test set for each method.**"
   ]
  },
  {
   "cell_type": "code",
   "execution_count": 186,
   "metadata": {
    "collapsed": true
   },
   "outputs": [],
   "source": [
    "imputer = Imputer( strategy='mean')\n",
    "data_missing_mean = imputer.fit_transform(data_missing_mean.values)\n",
    "msk = np.random.rand(len(data_missing_mean)) < 0.75\n",
    "data_missing_mean_train = data_missing_mean[msk]\n",
    "data_missing_mean_test = data_missing_mean[~msk]\n",
    "\n",
    "X_mean_train = data_missing_mean_train[:, :-1]\n",
    "y_mean_train =data_missing_mean_train[:, -1]\n",
    "X_mean_test = data_missing_mean_test[:, :-1]\n",
    "y_mean_test =data_missing_mean_test[:, -1]"
   ]
  },
  {
   "cell_type": "code",
   "execution_count": 193,
   "metadata": {
    "collapsed": true
   },
   "outputs": [],
   "source": [
    "# 5-fold cross validation on decision tree\n",
    "dt_mean_train_scores = []\n",
    "depths = list(range(2,11))\n",
    "for depth in depths:\n",
    "    clf = DecisionTreeClassifier(max_depth = depth)  \n",
    "    score = cross_val_score(estimator=clf, X=X_mean_train, y=y_mean_train, cv=5)\n",
    "    dt_mean_train_scores.append(np.mean(score))"
   ]
  },
  {
   "cell_type": "code",
   "execution_count": 195,
   "metadata": {},
   "outputs": [
    {
     "data": {
      "text/plain": [
       "<matplotlib.text.Text at 0x11359a9b0>"
      ]
     },
     "execution_count": 195,
     "metadata": {},
     "output_type": "execute_result"
    },
    {
     "data": {
      "image/png": "[encoded data removed]",
      "text/plain": [
       "<matplotlib.figure.Figure at 0x112ef49b0>"
      ]
     },
     "metadata": {},
     "output_type": "display_data"
    }
   ],
   "source": [
    "plt.figure(figsize=(10, 9))\n",
    "plt.plot(depths, dt_mean_train_scores)\n",
    "\n",
    "plt.ylim(0.6,.9)\n",
    "\n",
    "plt.title('CV Mean Imputation Decision Tree Depth')\n",
    "plt.xlabel('Depth')\n",
    "plt.ylabel('Accuracy')\n"
   ]
  },
  {
   "cell_type": "markdown",
   "metadata": {},
   "source": [
    "**From CV on Mean Imputation it seems like the best choice for Decision Tree depth is 4**"
   ]
  },
  {
   "cell_type": "code",
   "execution_count": 200,
   "metadata": {},
   "outputs": [
    {
     "name": "stdout",
     "output_type": "stream",
     "text": [
      "Optimal Tree Depth: 4\n",
      "Train score: 0.948905109489\n",
      "Test score: 0.80487804878\n"
     ]
    }
   ],
   "source": [
    "clf = DecisionTreeClassifier(max_depth=4)\n",
    "clf.fit(X_mean_train, y_mean_train)\n",
    "print('Optimal Tree Depth: 4')\n",
    "print ('Train score:', clf.score(X_mean_train,y_mean_train))\n",
    "print ('Test score:', clf.score(X_mean_test, y_mean_test))"
   ]
  },
  {
   "cell_type": "code",
   "execution_count": 201,
   "metadata": {},
   "outputs": [
    {
     "name": "stdout",
     "output_type": "stream",
     "text": [
      "Confusion Matrix Train:\n",
      "[[46  5  1]\n",
      " [ 0 48  1]\n",
      " [ 0  0 36]]\n",
      "Confusion Matrix Test:\n",
      "[[13  2  4]\n",
      " [ 0 15  1]\n",
      " [ 0  1  5]]\n"
     ]
    }
   ],
   "source": [
    "yhat_mean_train = clf.predict(X_mean_train)\n",
    "print(\"Confusion Matrix Train:\")\n",
    "print(confusion_matrix(yhat_mean_train, y_mean_train))\n",
    "print(\"Confusion Matrix Test:\")\n",
    "yhat_mean_test = clf.predict(X_mean_test)\n",
    "print(confusion_matrix(yhat_mean_test, y_mean_test))"
   ]
  },
  {
   "cell_type": "markdown",
   "metadata": {},
   "source": [
    "#### Random Forest"
   ]
  },
  {
   "cell_type": "code",
   "execution_count": 203,
   "metadata": {
    "collapsed": true
   },
   "outputs": [],
   "source": [
    "# 5-fold cross validation on decision tree\n",
    "rf_mean_train_scores = []\n",
    "depths = list(range(2,11))\n",
    "for depth in depths:\n",
    "    clf = RandomForestClassifier(max_depth = depth)  \n",
    "    score = cross_val_score(estimator=clf, X=X_mean_train, y=y_mean_train, cv=5)\n",
    "    rf_mean_train_scores.append(np.mean(score))"
   ]
  },
  {
   "cell_type": "code",
   "execution_count": 206,
   "metadata": {},
   "outputs": [
    {
     "data": {
      "text/plain": [
       "<matplotlib.text.Text at 0x113b0a470>"
      ]
     },
     "execution_count": 206,
     "metadata": {},
     "output_type": "execute_result"
    },
    {
     "data": {
      "image/png": "[encoded data removed]",
      "text/plain": [
       "<matplotlib.figure.Figure at 0x11399d668>"
      ]
     },
     "metadata": {},
     "output_type": "display_data"
    }
   ],
   "source": [
    "plt.figure(figsize=(10, 9))\n",
    "plt.plot(depths, rf_mean_train_scores)\n",
    "\n",
    "plt.ylim(0.6,1.0)\n",
    "\n",
    "plt.title('CV Mean Imputation Random Forest Tree Depth')\n",
    "plt.xlabel('Depth')\n",
    "plt.ylabel('Accuracy')"
   ]
  },
  {
   "cell_type": "markdown",
   "metadata": {},
   "source": [
    "**From CV it looks like the optimal max_tree_depth for Random Forest in mean Imputation is 7**"
   ]
  },
  {
   "cell_type": "code",
   "execution_count": 207,
   "metadata": {},
   "outputs": [
    {
     "name": "stdout",
     "output_type": "stream",
     "text": [
      "Optimal Random Forest Tree Depth: 7\n",
      "Train score: 1.0\n",
      "Test score: 0.90243902439\n"
     ]
    }
   ],
   "source": [
    "clf = RandomForestClassifier(max_depth=7)\n",
    "clf.fit(X_mean_train, y_mean_train)\n",
    "print('Optimal Random Forest Tree Depth: 7')\n",
    "print ('Train score:', clf.score(X_mean_train, y_mean_train))\n",
    "print ('Test score:', clf.score(X_mean_test, y_mean_test))"
   ]
  },
  {
   "cell_type": "code",
   "execution_count": 208,
   "metadata": {},
   "outputs": [
    {
     "name": "stdout",
     "output_type": "stream",
     "text": [
      "Confusion Matrix Train:\n",
      "[[46  0  0]\n",
      " [ 0 53  0]\n",
      " [ 0  0 38]]\n",
      "Confusion Matrix Test:\n",
      "[[13  1  0]\n",
      " [ 0 16  2]\n",
      " [ 0  1  8]]\n"
     ]
    }
   ],
   "source": [
    "yhat_mean_train = clf.predict(X_mean_train)\n",
    "print(\"Confusion Matrix Train:\")\n",
    "print(confusion_matrix(yhat_mean_train, y_mean_train))\n",
    "print(\"Confusion Matrix Test:\")\n",
    "yhat_mean_test = clf.predict(X_mean_test)\n",
    "print(confusion_matrix(yhat_mean_test, y_mean_test))"
   ]
  },
  {
   "cell_type": "markdown",
   "metadata": {},
   "source": [
    "**Again restart with a fresh copy of the data but this time let's try something different.  As discussed in section, CART Decision Trees can take advantage of surrogate splits to handle missing data.  Split the data 75-25 and construct a **custom** decision tree model and train it on the training set with missing data. Report the optimal tree depth, overall classification rate and confusion matrix on the test set and compare your results to the Imputation and DecisionTree model results in part 1 & 2.**"
   ]
  },
  {
   "cell_type": "code",
   "execution_count": 3,
   "metadata": {
    "collapsed": true
   },
   "outputs": [],
   "source": [
    "# import our Custom Decision Tree\n",
    "import AC209Tree"
   ]
  },
  {
   "cell_type": "code",
   "execution_count": 67,
   "metadata": {},
   "outputs": [
    {
     "data": {
      "text/plain": [
       "<module 'AC209Tree' from '/Users/mansa/Code/CS109/cs109a/Homework/HW8/AC209Tree.py'>"
      ]
     },
     "execution_count": 67,
     "metadata": {},
     "output_type": "execute_result"
    }
   ],
   "source": [
    "import importlib\n",
    "importlib.reload(AC209Tree)"
   ]
  },
  {
   "cell_type": "code",
   "execution_count": 13,
   "metadata": {
    "collapsed": true
   },
   "outputs": [],
   "source": [
    "np.random.seed(9001)\n",
    "msk = np.random.rand(len(data_missing_dt)) < 0.75\n",
    "data_missing_dt_train = data_missing_dt[msk]\n",
    "data_missing_dt_test = data_missing_dt[~msk]\n",
    "\n",
    "X_dt_train = data_missing_dt_train.iloc[:, :-1]\n",
    "y_dt_train =data_missing_dt_train.iloc[:, -1]\n",
    "X_dt_test = data_missing_dt_test.iloc[:, :-1]\n",
    "y_dt_test =data_missing_dt_test.iloc[:, -1]"
   ]
  },
  {
   "cell_type": "code",
   "execution_count": 14,
   "metadata": {
    "collapsed": true
   },
   "outputs": [],
   "source": [
    "root_node=AC209Tree.build_tree(data_missing_dt_train.as_matrix(), max_depth=3)"
   ]
  },
  {
   "cell_type": "code",
   "execution_count": 321,
   "metadata": {
    "collapsed": true
   },
   "outputs": [],
   "source": [
    "predictions = AC209Tree.predict(root_node, data_missing_dt_test.as_matrix())"
   ]
  },
  {
   "cell_type": "code",
   "execution_count": 322,
   "metadata": {},
   "outputs": [
    {
     "name": "stdout",
     "output_type": "stream",
     "text": [
      "[1.0, 1.0, 2.0, 1.0, 1.0, 1.0, 1.0, 1.0, 1.0, 1.0, 1.0, 3.0, 1.0, 1.0, 1.0, 1.0, 1.0, 2.0, 1.0, 1.0, 2.0, 3.0, 2.0, 3.0, 2.0, 2.0, 2.0, 2.0, 2.0, 2.0, 3.0, 2.0, 2.0, 2.0, 2.0, 2.0, 2.0, 2.0, 3.0, 3.0, 3.0, 3.0, 2.0, 1.0, 2.0, 3.0, 3.0, 2.0, 3.0, 3.0, 3.0, 3.0, 3.0, 3.0, 3.0]\n"
     ]
    }
   ],
   "source": [
    "print(predictions)"
   ]
  },
  {
   "cell_type": "code",
   "execution_count": 323,
   "metadata": {},
   "outputs": [
    {
     "name": "stdout",
     "output_type": "stream",
     "text": [
      "[ 1.  1.  1.  1.  1.  1.  1.  1.  1.  1.  1.  1.  1.  1.  1.  1.  1.  1.\n",
      "  1.  1.  2.  2.  2.  2.  2.  2.  2.  2.  2.  2.  2.  2.  2.  2.  2.  2.\n",
      "  2.  2.  3.  3.  3.  3.  3.  3.  3.  3.  3.  3.  3.  3.  3.  3.  3.  3.\n",
      "  3.]\n"
     ]
    }
   ],
   "source": [
    "print(data_missing_dt_test.as_matrix()[:,-1])"
   ]
  },
  {
   "cell_type": "code",
   "execution_count": 324,
   "metadata": {},
   "outputs": [
    {
     "data": {
      "text/plain": [
       "81.81818181818183"
      ]
     },
     "execution_count": 324,
     "metadata": {},
     "output_type": "execute_result"
    }
   ],
   "source": [
    "AC209Tree.accuracy_metric(predictions,data_missing_dt_test.as_matrix()[:,-1])\n"
   ]
  },
  {
   "cell_type": "code",
   "execution_count": 4,
   "metadata": {
    "collapsed": true
   },
   "outputs": [],
   "source": [
    "from sklearn.model_selection import KFold"
   ]
  },
  {
   "cell_type": "code",
   "execution_count": 74,
   "metadata": {
    "collapsed": true
   },
   "outputs": [],
   "source": [
    "dt_custom_train_scores = []\n",
    "\n",
    "for cv_train, cv_test in KFold(n_splits=5, shuffle=True).split(data_missing_dt_train.index):\n",
    "    # in general though its good for creating consistent psets, don't put seeds into kfold\n",
    "    # split\n",
    "    data_dt_train_cv = data_missing_dt_train.iloc[cv_train,:]\n",
    "    data_dt_test_cv = data_missing_dt_train.iloc[cv_test,:]\n",
    "    \n",
    "    depths = list(range(2,11))\n",
    "    fold_scores = []\n",
    "    for depth in depths:\n",
    "        tree_cv = AC209Tree.build_tree(data_dt_train_cv.as_matrix(), max_depth =depth)\n",
    "        predictions = AC209Tree.predict(tree_cv, data_dt_test_cv.as_matrix())\n",
    "        fold_scores.append(AC209Tree.accuracy_metric(predictions,data_dt_test_cv.as_matrix()[:,-1]))\n",
    "        \n",
    "    dt_custom_train_scores.append(fold_scores)\n",
    "        \n",
    "        \n",
    "    "
   ]
  },
  {
   "cell_type": "code",
   "execution_count": 75,
   "metadata": {
    "collapsed": true
   },
   "outputs": [],
   "source": [
    "dt_custom_train_scores = np.array(dt_custom_train_scores)"
   ]
  },
  {
   "cell_type": "code",
   "execution_count": 76,
   "metadata": {
    "collapsed": true
   },
   "outputs": [],
   "source": [
    "dt_custom_train_means = dt_custom_train_scores.mean(axis=0)"
   ]
  },
  {
   "cell_type": "code",
   "execution_count": 77,
   "metadata": {},
   "outputs": [
    {
     "data": {
      "text/plain": [
       "<matplotlib.text.Text at 0x1115d1c50>"
      ]
     },
     "execution_count": 77,
     "metadata": {},
     "output_type": "execute_result"
    },
    {
     "data": {
      "image/png": "[encoded data removed]",
      "text/plain": [
       "<matplotlib.figure.Figure at 0x1104efa20>"
      ]
     },
     "metadata": {},
     "output_type": "display_data"
    }
   ],
   "source": [
    "plt.figure(figsize=(10, 9))\n",
    "plt.plot(depths, dt_custom_train_means, lw=1)\n",
    "\n",
    "plt.ylim(0.6,1.0)\n",
    "\n",
    "plt.title('CV Custom Decision Tree with Surrogates Depth')\n",
    "plt.xlabel('Depth')\n",
    "plt.ylabel('Accuracy')"
   ]
  },
  {
   "cell_type": "markdown",
   "metadata": {},
   "source": [
    "**From CV it looks like the optimal max_tree_depth for Custom Decision Tree is 5**"
   ]
  },
  {
   "cell_type": "code",
   "execution_count": 80,
   "metadata": {},
   "outputs": [
    {
     "name": "stdout",
     "output_type": "stream",
     "text": [
      "Optimal Custom Decision Tree Depth: 5\n",
      "Train score: 0.975609756097561\n",
      "Test score: 0.8727272727272727\n"
     ]
    }
   ],
   "source": [
    "custom_tree=AC209Tree.build_tree(data_missing_dt_train.as_matrix(), max_depth=5)\n",
    "\n",
    "## Training Predictions\n",
    "yhat_custom_train = AC209Tree.predict(custom_tree, X_dt_train.as_matrix())\n",
    "train_score = AC209Tree.accuracy_metric(yhat_custom_train,y_dt_train.as_matrix())\n",
    "\n",
    "## Test Predictions\n",
    "yhat_custom_test = AC209Tree.predict(custom_tree, X_dt_test.as_matrix())\n",
    "test_score = AC209Tree.accuracy_metric(yhat_custom_test,y_dt_test.as_matrix())\n",
    "\n",
    "print('Optimal Custom Decision Tree Depth: 5')\n",
    "print ('Train score:', train_score)\n",
    "print ('Test score:', test_score)\n",
    "\n"
   ]
  },
  {
   "cell_type": "code",
   "execution_count": 82,
   "metadata": {},
   "outputs": [
    {
     "name": "stdout",
     "output_type": "stream",
     "text": [
      "Confusion Matrix Train:\n",
      "[[38  0  0]\n",
      " [ 1 53  2]\n",
      " [ 0  0 29]]\n",
      "Confusion Matrix Test:\n",
      "[[17  0  1]\n",
      " [ 3 17  2]\n",
      " [ 0  1 14]]\n"
     ]
    }
   ],
   "source": [
    "print(\"Confusion Matrix Train:\")\n",
    "print(confusion_matrix(yhat_custom_train, y_dt_train))\n",
    "print(\"Confusion Matrix Test:\")\n",
    "print(confusion_matrix(yhat_custom_test, y_dt_test))"
   ]
  },
  {
   "cell_type": "markdown",
   "metadata": {},
   "source": [
    "#### Thoughts\n",
    "\n",
    "We see that scores under the custom decision tree are comparable (but in this case slightly outperform) those of drop imputatation and mean imputation but aren't quite as good as Random Forest in mean imputation (although somewhat comparable).  What doesn't show in our results but would come out in repeated runs is that our custom implementation of decision trees which handle missing data via surrogate splits are much more stable (in results) than drop imputation (which makes sense since drop imputation leaves only 47 out of 178 points for the model to learn) and even mean imputation."
   ]
  },
  {
   "cell_type": "code",
   "execution_count": null,
   "metadata": {
    "collapsed": true
   },
   "outputs": [],
   "source": []
  }
 ],
 "metadata": {
  "kernelspec": {
   "display_name": "Python 3",
   "language": "python",
   "name": "python3"
  },
  "language_info": {
   "codemirror_mode": {
    "name": "ipython",
    "version": 3
   },
   "file_extension": ".py",
   "mimetype": "text/x-python",
   "name": "python",
   "nbconvert_exporter": "python",
   "pygments_lexer": "ipython3",
   "version": "3.6.1"
  },
  "latex_envs": {
   "bibliofile": "biblio.bib",
   "cite_by": "apalike",
   "current_citInitial": 1,
   "eqLabelWithNumbers": true,
   "eqNumInitial": 0
  }
 },
 "nbformat": 4,
 "nbformat_minor": 2
}
